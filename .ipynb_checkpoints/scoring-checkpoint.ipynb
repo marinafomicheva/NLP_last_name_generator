{
 "cells": [
  {
   "cell_type": "code",
   "execution_count": 26,
   "id": "5585b51f-51d1-49fe-95be-b0d481c64508",
   "metadata": {},
   "outputs": [],
   "source": [
    "from openai import OpenAI\n",
    "import os\n",
    "import pandas as pd\n",
    "import numpy as np\n",
    "from tqdm import tqdm"
   ]
  },
  {
   "cell_type": "code",
   "execution_count": 27,
   "id": "e2f6954c-d35b-472d-92ba-c2c5948a2280",
   "metadata": {},
   "outputs": [],
   "source": [
    "# interacting with the OpenAI API\n",
    "client = OpenAI(api_key=os.environ[\"OPENAI_API_KEY\"])"
   ]
  },
  {
   "cell_type": "code",
   "execution_count": 28,
   "id": "5abfc325-8b1d-4420-873b-9cb3d29113ed",
   "metadata": {},
   "outputs": [],
   "source": [
    "# generating a prompt asking a question about whether a given name is a Russian surname.\n",
    "# uses the OpenAI GPT-3.5 model to generate responses based on the provided prompt.\n",
    "def score_name(name):\n",
    "    prompt = f\"\"\"\n",
    "    \"Is the following a Russian surname? Answer only with yes or no: {name}\"\n",
    "    \"\"\"\n",
    "    messages_payload = [\n",
    "        {\n",
    "            \"role\": \"user\",\n",
    "            \"content\": prompt,\n",
    "        }\n",
    "    ]\n",
    "    response = client.chat.completions.create(\n",
    "        model=\"gpt-3.5-turbo-0125\", messages=messages_payload, stream=False\n",
    "    )\n",
    "    return response.choices[0].message.content"
   ]
  },
  {
   "cell_type": "code",
   "execution_count": 29,
   "id": "31e13898-0e90-4009-bb25-2d9163082b1f",
   "metadata": {},
   "outputs": [],
   "source": [
    "names=list(pd.read_csv(\"predicted_last_names.csv\")['predicted last names'])"
   ]
  },
  {
   "cell_type": "code",
   "execution_count": 30,
   "id": "03e08b77-b674-4c29-9e23-32b897c30563",
   "metadata": {},
   "outputs": [
    {
     "name": "stderr",
     "output_type": "stream",
     "text": [
      "100%|█████████████████████████████████████████| 100/100 [01:11<00:00,  1.40it/s]\n"
     ]
    }
   ],
   "source": [
    "# iterating over a list of names and using the score_name() function to generate a score for each name.\n",
    "scores = []\n",
    "for name in tqdm(names):\n",
    "    score = score_name(name)\n",
    "    scores.append(score)"
   ]
  },
  {
   "cell_type": "code",
   "execution_count": 31,
   "id": "ea29118a-b251-4be5-a19a-8271fdc2e5ea",
   "metadata": {},
   "outputs": [],
   "source": [
    "# converts the binary responses obtained from the GPT-3.5 model into integers.\n",
    "scores_int = np.array([0 if \"No\" in s else 1 for s in scores])"
   ]
  },
  {
   "cell_type": "code",
   "execution_count": 32,
   "id": "542ad225-e7c0-4b60-b634-e473209768ab",
   "metadata": {},
   "outputs": [
    {
     "data": {
      "text/plain": [
       "0.69"
      ]
     },
     "execution_count": 32,
     "metadata": {},
     "output_type": "execute_result"
    }
   ],
   "source": [
    "# calculates the proportion of occurrences where the response from the GPT-3.5 model was \"Yes\" (encoded as 1).\n",
    "scores_int.sum() / len(scores_int)"
   ]
  }
 ],
 "metadata": {
  "kernelspec": {
   "display_name": "Python 3 (ipykernel)",
   "language": "python",
   "name": "python3"
  },
  "language_info": {
   "codemirror_mode": {
    "name": "ipython",
    "version": 3
   },
   "file_extension": ".py",
   "mimetype": "text/x-python",
   "name": "python",
   "nbconvert_exporter": "python",
   "pygments_lexer": "ipython3",
   "version": "3.10.7"
  }
 },
 "nbformat": 4,
 "nbformat_minor": 5
}
