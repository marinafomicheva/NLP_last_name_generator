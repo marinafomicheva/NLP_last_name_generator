{
  "nbformat": 4,
  "nbformat_minor": 0,
  "metadata": {
    "colab": {
      "provenance": []
    },
    "kernelspec": {
      "name": "python3",
      "display_name": "Python 3"
    },
    "language_info": {
      "name": "python"
    }
  },
  "cells": [
    {
      "cell_type": "code",
      "execution_count": 80,
      "metadata": {
        "id": "vowXRstocd8F"
      },
      "outputs": [],
      "source": [
        "import torch\n",
        "import torch.nn.functional as F\n",
        "import matplotlib.pyplot as plt # for making figures\n",
        "import re\n",
        "%matplotlib inline"
      ]
    },
    {
      "cell_type": "code",
      "source": [
        "# download the russian_surnames.txt file from github\n",
        "!wget https://raw.githubusercontent.com/Raven-SL/ru-pnames-list/master/lists/male_surnames_rus.txt"
      ],
      "metadata": {
        "colab": {
          "base_uri": "https://localhost:8080/"
        },
        "id": "9Rlc3YeWcm_d",
        "outputId": "bc5730cc-22d4-49e0-b1ce-a0a324914581"
      },
      "execution_count": 81,
      "outputs": [
        {
          "output_type": "stream",
          "name": "stdout",
          "text": [
            "--2024-03-03 19:40:33--  https://raw.githubusercontent.com/Raven-SL/ru-pnames-list/master/lists/male_surnames_rus.txt\n",
            "Resolving raw.githubusercontent.com (raw.githubusercontent.com)... 185.199.108.133, 185.199.109.133, 185.199.111.133, ...\n",
            "Connecting to raw.githubusercontent.com (raw.githubusercontent.com)|185.199.108.133|:443... connected.\n",
            "HTTP request sent, awaiting response... 200 OK\n",
            "Length: 246385 (241K) [text/plain]\n",
            "Saving to: ‘male_surnames_rus.txt.1’\n",
            "\n",
            "\rmale_surnames_rus.t   0%[                    ]       0  --.-KB/s               \rmale_surnames_rus.t 100%[===================>] 240.61K  --.-KB/s    in 0.03s   \n",
            "\n",
            "2024-03-03 19:40:33 (8.25 MB/s) - ‘male_surnames_rus.txt.1’ saved [246385/246385]\n",
            "\n"
          ]
        }
      ]
    },
    {
      "cell_type": "code",
      "source": [
        "surnames = open('male_surnames_rus.txt', 'r').read().splitlines()\n",
        "surnames[:8]"
      ],
      "metadata": {
        "colab": {
          "base_uri": "https://localhost:8080/"
        },
        "id": "uH2MGP4FcidR",
        "outputId": "f9c19210-19fc-4ba3-ce40-e2742986acea"
      },
      "execution_count": 82,
      "outputs": [
        {
          "output_type": "execute_result",
          "data": {
            "text/plain": [
              "['Абабков',\n",
              " 'Абаимов',\n",
              " 'Абакишин',\n",
              " 'Абакулин',\n",
              " 'Абакулов',\n",
              " 'Абакумкин',\n",
              " 'Абакумов',\n",
              " 'Абакушин']"
            ]
          },
          "metadata": {},
          "execution_count": 82
        }
      ]
    },
    {
      "cell_type": "code",
      "source": [
        "len(surnames)"
      ],
      "metadata": {
        "colab": {
          "base_uri": "https://localhost:8080/"
        },
        "id": "FbakoEqAcvnF",
        "outputId": "8966dbc3-ec64-43c3-c0e9-1d80070c83e0"
      },
      "execution_count": 83,
      "outputs": [
        {
          "output_type": "execute_result",
          "data": {
            "text/plain": [
              "14651"
            ]
          },
          "metadata": {},
          "execution_count": 83
        }
      ]
    },
    {
      "cell_type": "code",
      "source": [
        "# build the vocabulary of characters and mappings to/from integers\n",
        "chars = sorted(list(set(''.join(surnames))))\n",
        "stoi = {s:i+1 for i,s in enumerate(chars)}\n",
        "stoi['.'] = 0\n",
        "itos = {i:s for s,i in stoi.items()}\n",
        "print(itos)"
      ],
      "metadata": {
        "colab": {
          "base_uri": "https://localhost:8080/",
          "height": 1000
        },
        "id": "EYnXhmWVcx-l",
        "outputId": "4e73d943-a426-4b1e-d90e-13acb3481f13"
      },
      "execution_count": 84,
      "outputs": [
        {
          "output_type": "display_data",
          "data": {
            "text/plain": [
              "\u001b[1m{\u001b[0m\n",
              "    \u001b[1;36m1\u001b[0m: \u001b[32m'А'\u001b[0m,\n",
              "    \u001b[1;36m2\u001b[0m: \u001b[32m'Б'\u001b[0m,\n",
              "    \u001b[1;36m3\u001b[0m: \u001b[32m'В'\u001b[0m,\n",
              "    \u001b[1;36m4\u001b[0m: \u001b[32m'Г'\u001b[0m,\n",
              "    \u001b[1;36m5\u001b[0m: \u001b[32m'Д'\u001b[0m,\n",
              "    \u001b[1;36m6\u001b[0m: \u001b[32m'Е'\u001b[0m,\n",
              "    \u001b[1;36m7\u001b[0m: \u001b[32m'Ж'\u001b[0m,\n",
              "    \u001b[1;36m8\u001b[0m: \u001b[32m'З'\u001b[0m,\n",
              "    \u001b[1;36m9\u001b[0m: \u001b[32m'И'\u001b[0m,\n",
              "    \u001b[1;36m10\u001b[0m: \u001b[32m'К'\u001b[0m,\n",
              "    \u001b[1;36m11\u001b[0m: \u001b[32m'Л'\u001b[0m,\n",
              "    \u001b[1;36m12\u001b[0m: \u001b[32m'М'\u001b[0m,\n",
              "    \u001b[1;36m13\u001b[0m: \u001b[32m'Н'\u001b[0m,\n",
              "    \u001b[1;36m14\u001b[0m: \u001b[32m'О'\u001b[0m,\n",
              "    \u001b[1;36m15\u001b[0m: \u001b[32m'П'\u001b[0m,\n",
              "    \u001b[1;36m16\u001b[0m: \u001b[32m'Р'\u001b[0m,\n",
              "    \u001b[1;36m17\u001b[0m: \u001b[32m'С'\u001b[0m,\n",
              "    \u001b[1;36m18\u001b[0m: \u001b[32m'Т'\u001b[0m,\n",
              "    \u001b[1;36m19\u001b[0m: \u001b[32m'У'\u001b[0m,\n",
              "    \u001b[1;36m20\u001b[0m: \u001b[32m'Ф'\u001b[0m,\n",
              "    \u001b[1;36m21\u001b[0m: \u001b[32m'Х'\u001b[0m,\n",
              "    \u001b[1;36m22\u001b[0m: \u001b[32m'Ц'\u001b[0m,\n",
              "    \u001b[1;36m23\u001b[0m: \u001b[32m'Ч'\u001b[0m,\n",
              "    \u001b[1;36m24\u001b[0m: \u001b[32m'Ш'\u001b[0m,\n",
              "    \u001b[1;36m25\u001b[0m: \u001b[32m'Щ'\u001b[0m,\n",
              "    \u001b[1;36m26\u001b[0m: \u001b[32m'Э'\u001b[0m,\n",
              "    \u001b[1;36m27\u001b[0m: \u001b[32m'Ю'\u001b[0m,\n",
              "    \u001b[1;36m28\u001b[0m: \u001b[32m'Я'\u001b[0m,\n",
              "    \u001b[1;36m29\u001b[0m: \u001b[32m'а'\u001b[0m,\n",
              "    \u001b[1;36m30\u001b[0m: \u001b[32m'б'\u001b[0m,\n",
              "    \u001b[1;36m31\u001b[0m: \u001b[32m'в'\u001b[0m,\n",
              "    \u001b[1;36m32\u001b[0m: \u001b[32m'г'\u001b[0m,\n",
              "    \u001b[1;36m33\u001b[0m: \u001b[32m'д'\u001b[0m,\n",
              "    \u001b[1;36m34\u001b[0m: \u001b[32m'е'\u001b[0m,\n",
              "    \u001b[1;36m35\u001b[0m: \u001b[32m'ж'\u001b[0m,\n",
              "    \u001b[1;36m36\u001b[0m: \u001b[32m'з'\u001b[0m,\n",
              "    \u001b[1;36m37\u001b[0m: \u001b[32m'и'\u001b[0m,\n",
              "    \u001b[1;36m38\u001b[0m: \u001b[32m'й'\u001b[0m,\n",
              "    \u001b[1;36m39\u001b[0m: \u001b[32m'к'\u001b[0m,\n",
              "    \u001b[1;36m40\u001b[0m: \u001b[32m'л'\u001b[0m,\n",
              "    \u001b[1;36m41\u001b[0m: \u001b[32m'м'\u001b[0m,\n",
              "    \u001b[1;36m42\u001b[0m: \u001b[32m'н'\u001b[0m,\n",
              "    \u001b[1;36m43\u001b[0m: \u001b[32m'о'\u001b[0m,\n",
              "    \u001b[1;36m44\u001b[0m: \u001b[32m'п'\u001b[0m,\n",
              "    \u001b[1;36m45\u001b[0m: \u001b[32m'р'\u001b[0m,\n",
              "    \u001b[1;36m46\u001b[0m: \u001b[32m'с'\u001b[0m,\n",
              "    \u001b[1;36m47\u001b[0m: \u001b[32m'т'\u001b[0m,\n",
              "    \u001b[1;36m48\u001b[0m: \u001b[32m'у'\u001b[0m,\n",
              "    \u001b[1;36m49\u001b[0m: \u001b[32m'ф'\u001b[0m,\n",
              "    \u001b[1;36m50\u001b[0m: \u001b[32m'х'\u001b[0m,\n",
              "    \u001b[1;36m51\u001b[0m: \u001b[32m'ц'\u001b[0m,\n",
              "    \u001b[1;36m52\u001b[0m: \u001b[32m'ч'\u001b[0m,\n",
              "    \u001b[1;36m53\u001b[0m: \u001b[32m'ш'\u001b[0m,\n",
              "    \u001b[1;36m54\u001b[0m: \u001b[32m'щ'\u001b[0m,\n",
              "    \u001b[1;36m55\u001b[0m: \u001b[32m'ъ'\u001b[0m,\n",
              "    \u001b[1;36m56\u001b[0m: \u001b[32m'ы'\u001b[0m,\n",
              "    \u001b[1;36m57\u001b[0m: \u001b[32m'ь'\u001b[0m,\n",
              "    \u001b[1;36m58\u001b[0m: \u001b[32m'э'\u001b[0m,\n",
              "    \u001b[1;36m59\u001b[0m: \u001b[32m'ю'\u001b[0m,\n",
              "    \u001b[1;36m60\u001b[0m: \u001b[32m'я'\u001b[0m,\n",
              "    \u001b[1;36m61\u001b[0m: \u001b[32m'ё'\u001b[0m,\n",
              "    \u001b[1;36m0\u001b[0m: \u001b[32m'.'\u001b[0m\n",
              "\u001b[1m}\u001b[0m\n"
            ],
            "text/html": [
              "<pre style=\"white-space:pre;overflow-x:auto;line-height:normal;font-family:Menlo,'DejaVu Sans Mono',consolas,'Courier New',monospace\"><span style=\"font-weight: bold\">{</span>\n",
              "    <span style=\"color: #008080; text-decoration-color: #008080; font-weight: bold\">1</span>: <span style=\"color: #008000; text-decoration-color: #008000\">'А'</span>,\n",
              "    <span style=\"color: #008080; text-decoration-color: #008080; font-weight: bold\">2</span>: <span style=\"color: #008000; text-decoration-color: #008000\">'Б'</span>,\n",
              "    <span style=\"color: #008080; text-decoration-color: #008080; font-weight: bold\">3</span>: <span style=\"color: #008000; text-decoration-color: #008000\">'В'</span>,\n",
              "    <span style=\"color: #008080; text-decoration-color: #008080; font-weight: bold\">4</span>: <span style=\"color: #008000; text-decoration-color: #008000\">'Г'</span>,\n",
              "    <span style=\"color: #008080; text-decoration-color: #008080; font-weight: bold\">5</span>: <span style=\"color: #008000; text-decoration-color: #008000\">'Д'</span>,\n",
              "    <span style=\"color: #008080; text-decoration-color: #008080; font-weight: bold\">6</span>: <span style=\"color: #008000; text-decoration-color: #008000\">'Е'</span>,\n",
              "    <span style=\"color: #008080; text-decoration-color: #008080; font-weight: bold\">7</span>: <span style=\"color: #008000; text-decoration-color: #008000\">'Ж'</span>,\n",
              "    <span style=\"color: #008080; text-decoration-color: #008080; font-weight: bold\">8</span>: <span style=\"color: #008000; text-decoration-color: #008000\">'З'</span>,\n",
              "    <span style=\"color: #008080; text-decoration-color: #008080; font-weight: bold\">9</span>: <span style=\"color: #008000; text-decoration-color: #008000\">'И'</span>,\n",
              "    <span style=\"color: #008080; text-decoration-color: #008080; font-weight: bold\">10</span>: <span style=\"color: #008000; text-decoration-color: #008000\">'К'</span>,\n",
              "    <span style=\"color: #008080; text-decoration-color: #008080; font-weight: bold\">11</span>: <span style=\"color: #008000; text-decoration-color: #008000\">'Л'</span>,\n",
              "    <span style=\"color: #008080; text-decoration-color: #008080; font-weight: bold\">12</span>: <span style=\"color: #008000; text-decoration-color: #008000\">'М'</span>,\n",
              "    <span style=\"color: #008080; text-decoration-color: #008080; font-weight: bold\">13</span>: <span style=\"color: #008000; text-decoration-color: #008000\">'Н'</span>,\n",
              "    <span style=\"color: #008080; text-decoration-color: #008080; font-weight: bold\">14</span>: <span style=\"color: #008000; text-decoration-color: #008000\">'О'</span>,\n",
              "    <span style=\"color: #008080; text-decoration-color: #008080; font-weight: bold\">15</span>: <span style=\"color: #008000; text-decoration-color: #008000\">'П'</span>,\n",
              "    <span style=\"color: #008080; text-decoration-color: #008080; font-weight: bold\">16</span>: <span style=\"color: #008000; text-decoration-color: #008000\">'Р'</span>,\n",
              "    <span style=\"color: #008080; text-decoration-color: #008080; font-weight: bold\">17</span>: <span style=\"color: #008000; text-decoration-color: #008000\">'С'</span>,\n",
              "    <span style=\"color: #008080; text-decoration-color: #008080; font-weight: bold\">18</span>: <span style=\"color: #008000; text-decoration-color: #008000\">'Т'</span>,\n",
              "    <span style=\"color: #008080; text-decoration-color: #008080; font-weight: bold\">19</span>: <span style=\"color: #008000; text-decoration-color: #008000\">'У'</span>,\n",
              "    <span style=\"color: #008080; text-decoration-color: #008080; font-weight: bold\">20</span>: <span style=\"color: #008000; text-decoration-color: #008000\">'Ф'</span>,\n",
              "    <span style=\"color: #008080; text-decoration-color: #008080; font-weight: bold\">21</span>: <span style=\"color: #008000; text-decoration-color: #008000\">'Х'</span>,\n",
              "    <span style=\"color: #008080; text-decoration-color: #008080; font-weight: bold\">22</span>: <span style=\"color: #008000; text-decoration-color: #008000\">'Ц'</span>,\n",
              "    <span style=\"color: #008080; text-decoration-color: #008080; font-weight: bold\">23</span>: <span style=\"color: #008000; text-decoration-color: #008000\">'Ч'</span>,\n",
              "    <span style=\"color: #008080; text-decoration-color: #008080; font-weight: bold\">24</span>: <span style=\"color: #008000; text-decoration-color: #008000\">'Ш'</span>,\n",
              "    <span style=\"color: #008080; text-decoration-color: #008080; font-weight: bold\">25</span>: <span style=\"color: #008000; text-decoration-color: #008000\">'Щ'</span>,\n",
              "    <span style=\"color: #008080; text-decoration-color: #008080; font-weight: bold\">26</span>: <span style=\"color: #008000; text-decoration-color: #008000\">'Э'</span>,\n",
              "    <span style=\"color: #008080; text-decoration-color: #008080; font-weight: bold\">27</span>: <span style=\"color: #008000; text-decoration-color: #008000\">'Ю'</span>,\n",
              "    <span style=\"color: #008080; text-decoration-color: #008080; font-weight: bold\">28</span>: <span style=\"color: #008000; text-decoration-color: #008000\">'Я'</span>,\n",
              "    <span style=\"color: #008080; text-decoration-color: #008080; font-weight: bold\">29</span>: <span style=\"color: #008000; text-decoration-color: #008000\">'а'</span>,\n",
              "    <span style=\"color: #008080; text-decoration-color: #008080; font-weight: bold\">30</span>: <span style=\"color: #008000; text-decoration-color: #008000\">'б'</span>,\n",
              "    <span style=\"color: #008080; text-decoration-color: #008080; font-weight: bold\">31</span>: <span style=\"color: #008000; text-decoration-color: #008000\">'в'</span>,\n",
              "    <span style=\"color: #008080; text-decoration-color: #008080; font-weight: bold\">32</span>: <span style=\"color: #008000; text-decoration-color: #008000\">'г'</span>,\n",
              "    <span style=\"color: #008080; text-decoration-color: #008080; font-weight: bold\">33</span>: <span style=\"color: #008000; text-decoration-color: #008000\">'д'</span>,\n",
              "    <span style=\"color: #008080; text-decoration-color: #008080; font-weight: bold\">34</span>: <span style=\"color: #008000; text-decoration-color: #008000\">'е'</span>,\n",
              "    <span style=\"color: #008080; text-decoration-color: #008080; font-weight: bold\">35</span>: <span style=\"color: #008000; text-decoration-color: #008000\">'ж'</span>,\n",
              "    <span style=\"color: #008080; text-decoration-color: #008080; font-weight: bold\">36</span>: <span style=\"color: #008000; text-decoration-color: #008000\">'з'</span>,\n",
              "    <span style=\"color: #008080; text-decoration-color: #008080; font-weight: bold\">37</span>: <span style=\"color: #008000; text-decoration-color: #008000\">'и'</span>,\n",
              "    <span style=\"color: #008080; text-decoration-color: #008080; font-weight: bold\">38</span>: <span style=\"color: #008000; text-decoration-color: #008000\">'й'</span>,\n",
              "    <span style=\"color: #008080; text-decoration-color: #008080; font-weight: bold\">39</span>: <span style=\"color: #008000; text-decoration-color: #008000\">'к'</span>,\n",
              "    <span style=\"color: #008080; text-decoration-color: #008080; font-weight: bold\">40</span>: <span style=\"color: #008000; text-decoration-color: #008000\">'л'</span>,\n",
              "    <span style=\"color: #008080; text-decoration-color: #008080; font-weight: bold\">41</span>: <span style=\"color: #008000; text-decoration-color: #008000\">'м'</span>,\n",
              "    <span style=\"color: #008080; text-decoration-color: #008080; font-weight: bold\">42</span>: <span style=\"color: #008000; text-decoration-color: #008000\">'н'</span>,\n",
              "    <span style=\"color: #008080; text-decoration-color: #008080; font-weight: bold\">43</span>: <span style=\"color: #008000; text-decoration-color: #008000\">'о'</span>,\n",
              "    <span style=\"color: #008080; text-decoration-color: #008080; font-weight: bold\">44</span>: <span style=\"color: #008000; text-decoration-color: #008000\">'п'</span>,\n",
              "    <span style=\"color: #008080; text-decoration-color: #008080; font-weight: bold\">45</span>: <span style=\"color: #008000; text-decoration-color: #008000\">'р'</span>,\n",
              "    <span style=\"color: #008080; text-decoration-color: #008080; font-weight: bold\">46</span>: <span style=\"color: #008000; text-decoration-color: #008000\">'с'</span>,\n",
              "    <span style=\"color: #008080; text-decoration-color: #008080; font-weight: bold\">47</span>: <span style=\"color: #008000; text-decoration-color: #008000\">'т'</span>,\n",
              "    <span style=\"color: #008080; text-decoration-color: #008080; font-weight: bold\">48</span>: <span style=\"color: #008000; text-decoration-color: #008000\">'у'</span>,\n",
              "    <span style=\"color: #008080; text-decoration-color: #008080; font-weight: bold\">49</span>: <span style=\"color: #008000; text-decoration-color: #008000\">'ф'</span>,\n",
              "    <span style=\"color: #008080; text-decoration-color: #008080; font-weight: bold\">50</span>: <span style=\"color: #008000; text-decoration-color: #008000\">'х'</span>,\n",
              "    <span style=\"color: #008080; text-decoration-color: #008080; font-weight: bold\">51</span>: <span style=\"color: #008000; text-decoration-color: #008000\">'ц'</span>,\n",
              "    <span style=\"color: #008080; text-decoration-color: #008080; font-weight: bold\">52</span>: <span style=\"color: #008000; text-decoration-color: #008000\">'ч'</span>,\n",
              "    <span style=\"color: #008080; text-decoration-color: #008080; font-weight: bold\">53</span>: <span style=\"color: #008000; text-decoration-color: #008000\">'ш'</span>,\n",
              "    <span style=\"color: #008080; text-decoration-color: #008080; font-weight: bold\">54</span>: <span style=\"color: #008000; text-decoration-color: #008000\">'щ'</span>,\n",
              "    <span style=\"color: #008080; text-decoration-color: #008080; font-weight: bold\">55</span>: <span style=\"color: #008000; text-decoration-color: #008000\">'ъ'</span>,\n",
              "    <span style=\"color: #008080; text-decoration-color: #008080; font-weight: bold\">56</span>: <span style=\"color: #008000; text-decoration-color: #008000\">'ы'</span>,\n",
              "    <span style=\"color: #008080; text-decoration-color: #008080; font-weight: bold\">57</span>: <span style=\"color: #008000; text-decoration-color: #008000\">'ь'</span>,\n",
              "    <span style=\"color: #008080; text-decoration-color: #008080; font-weight: bold\">58</span>: <span style=\"color: #008000; text-decoration-color: #008000\">'э'</span>,\n",
              "    <span style=\"color: #008080; text-decoration-color: #008080; font-weight: bold\">59</span>: <span style=\"color: #008000; text-decoration-color: #008000\">'ю'</span>,\n",
              "    <span style=\"color: #008080; text-decoration-color: #008080; font-weight: bold\">60</span>: <span style=\"color: #008000; text-decoration-color: #008000\">'я'</span>,\n",
              "    <span style=\"color: #008080; text-decoration-color: #008080; font-weight: bold\">61</span>: <span style=\"color: #008000; text-decoration-color: #008000\">'ё'</span>,\n",
              "    <span style=\"color: #008080; text-decoration-color: #008080; font-weight: bold\">0</span>: <span style=\"color: #008000; text-decoration-color: #008000\">'.'</span>\n",
              "<span style=\"font-weight: bold\">}</span>\n",
              "</pre>\n"
            ]
          },
          "metadata": {}
        }
      ]
    },
    {
      "cell_type": "code",
      "source": [
        "# build the vocabulary of characters and mappings to/from integers\n",
        "chars = sorted(list(set(''.join(surnames))))\n",
        "stoi = {s:i+1 for i,s in enumerate(chars)}\n",
        "stoi['.'] = 0\n",
        "itos = {i:s for s,i in stoi.items()}\n",
        "print(itos)\n",
        "N_chars = len(itos)"
      ],
      "metadata": {
        "colab": {
          "base_uri": "https://localhost:8080/",
          "height": 1000
        },
        "id": "KEe6MYx4brHo",
        "outputId": "6c1630e7-76d8-4555-fb00-640393a97ff9"
      },
      "execution_count": 85,
      "outputs": [
        {
          "output_type": "display_data",
          "data": {
            "text/plain": [
              "\u001b[1m{\u001b[0m\n",
              "    \u001b[1;36m1\u001b[0m: \u001b[32m'А'\u001b[0m,\n",
              "    \u001b[1;36m2\u001b[0m: \u001b[32m'Б'\u001b[0m,\n",
              "    \u001b[1;36m3\u001b[0m: \u001b[32m'В'\u001b[0m,\n",
              "    \u001b[1;36m4\u001b[0m: \u001b[32m'Г'\u001b[0m,\n",
              "    \u001b[1;36m5\u001b[0m: \u001b[32m'Д'\u001b[0m,\n",
              "    \u001b[1;36m6\u001b[0m: \u001b[32m'Е'\u001b[0m,\n",
              "    \u001b[1;36m7\u001b[0m: \u001b[32m'Ж'\u001b[0m,\n",
              "    \u001b[1;36m8\u001b[0m: \u001b[32m'З'\u001b[0m,\n",
              "    \u001b[1;36m9\u001b[0m: \u001b[32m'И'\u001b[0m,\n",
              "    \u001b[1;36m10\u001b[0m: \u001b[32m'К'\u001b[0m,\n",
              "    \u001b[1;36m11\u001b[0m: \u001b[32m'Л'\u001b[0m,\n",
              "    \u001b[1;36m12\u001b[0m: \u001b[32m'М'\u001b[0m,\n",
              "    \u001b[1;36m13\u001b[0m: \u001b[32m'Н'\u001b[0m,\n",
              "    \u001b[1;36m14\u001b[0m: \u001b[32m'О'\u001b[0m,\n",
              "    \u001b[1;36m15\u001b[0m: \u001b[32m'П'\u001b[0m,\n",
              "    \u001b[1;36m16\u001b[0m: \u001b[32m'Р'\u001b[0m,\n",
              "    \u001b[1;36m17\u001b[0m: \u001b[32m'С'\u001b[0m,\n",
              "    \u001b[1;36m18\u001b[0m: \u001b[32m'Т'\u001b[0m,\n",
              "    \u001b[1;36m19\u001b[0m: \u001b[32m'У'\u001b[0m,\n",
              "    \u001b[1;36m20\u001b[0m: \u001b[32m'Ф'\u001b[0m,\n",
              "    \u001b[1;36m21\u001b[0m: \u001b[32m'Х'\u001b[0m,\n",
              "    \u001b[1;36m22\u001b[0m: \u001b[32m'Ц'\u001b[0m,\n",
              "    \u001b[1;36m23\u001b[0m: \u001b[32m'Ч'\u001b[0m,\n",
              "    \u001b[1;36m24\u001b[0m: \u001b[32m'Ш'\u001b[0m,\n",
              "    \u001b[1;36m25\u001b[0m: \u001b[32m'Щ'\u001b[0m,\n",
              "    \u001b[1;36m26\u001b[0m: \u001b[32m'Э'\u001b[0m,\n",
              "    \u001b[1;36m27\u001b[0m: \u001b[32m'Ю'\u001b[0m,\n",
              "    \u001b[1;36m28\u001b[0m: \u001b[32m'Я'\u001b[0m,\n",
              "    \u001b[1;36m29\u001b[0m: \u001b[32m'а'\u001b[0m,\n",
              "    \u001b[1;36m30\u001b[0m: \u001b[32m'б'\u001b[0m,\n",
              "    \u001b[1;36m31\u001b[0m: \u001b[32m'в'\u001b[0m,\n",
              "    \u001b[1;36m32\u001b[0m: \u001b[32m'г'\u001b[0m,\n",
              "    \u001b[1;36m33\u001b[0m: \u001b[32m'д'\u001b[0m,\n",
              "    \u001b[1;36m34\u001b[0m: \u001b[32m'е'\u001b[0m,\n",
              "    \u001b[1;36m35\u001b[0m: \u001b[32m'ж'\u001b[0m,\n",
              "    \u001b[1;36m36\u001b[0m: \u001b[32m'з'\u001b[0m,\n",
              "    \u001b[1;36m37\u001b[0m: \u001b[32m'и'\u001b[0m,\n",
              "    \u001b[1;36m38\u001b[0m: \u001b[32m'й'\u001b[0m,\n",
              "    \u001b[1;36m39\u001b[0m: \u001b[32m'к'\u001b[0m,\n",
              "    \u001b[1;36m40\u001b[0m: \u001b[32m'л'\u001b[0m,\n",
              "    \u001b[1;36m41\u001b[0m: \u001b[32m'м'\u001b[0m,\n",
              "    \u001b[1;36m42\u001b[0m: \u001b[32m'н'\u001b[0m,\n",
              "    \u001b[1;36m43\u001b[0m: \u001b[32m'о'\u001b[0m,\n",
              "    \u001b[1;36m44\u001b[0m: \u001b[32m'п'\u001b[0m,\n",
              "    \u001b[1;36m45\u001b[0m: \u001b[32m'р'\u001b[0m,\n",
              "    \u001b[1;36m46\u001b[0m: \u001b[32m'с'\u001b[0m,\n",
              "    \u001b[1;36m47\u001b[0m: \u001b[32m'т'\u001b[0m,\n",
              "    \u001b[1;36m48\u001b[0m: \u001b[32m'у'\u001b[0m,\n",
              "    \u001b[1;36m49\u001b[0m: \u001b[32m'ф'\u001b[0m,\n",
              "    \u001b[1;36m50\u001b[0m: \u001b[32m'х'\u001b[0m,\n",
              "    \u001b[1;36m51\u001b[0m: \u001b[32m'ц'\u001b[0m,\n",
              "    \u001b[1;36m52\u001b[0m: \u001b[32m'ч'\u001b[0m,\n",
              "    \u001b[1;36m53\u001b[0m: \u001b[32m'ш'\u001b[0m,\n",
              "    \u001b[1;36m54\u001b[0m: \u001b[32m'щ'\u001b[0m,\n",
              "    \u001b[1;36m55\u001b[0m: \u001b[32m'ъ'\u001b[0m,\n",
              "    \u001b[1;36m56\u001b[0m: \u001b[32m'ы'\u001b[0m,\n",
              "    \u001b[1;36m57\u001b[0m: \u001b[32m'ь'\u001b[0m,\n",
              "    \u001b[1;36m58\u001b[0m: \u001b[32m'э'\u001b[0m,\n",
              "    \u001b[1;36m59\u001b[0m: \u001b[32m'ю'\u001b[0m,\n",
              "    \u001b[1;36m60\u001b[0m: \u001b[32m'я'\u001b[0m,\n",
              "    \u001b[1;36m61\u001b[0m: \u001b[32m'ё'\u001b[0m,\n",
              "    \u001b[1;36m0\u001b[0m: \u001b[32m'.'\u001b[0m\n",
              "\u001b[1m}\u001b[0m\n"
            ],
            "text/html": [
              "<pre style=\"white-space:pre;overflow-x:auto;line-height:normal;font-family:Menlo,'DejaVu Sans Mono',consolas,'Courier New',monospace\"><span style=\"font-weight: bold\">{</span>\n",
              "    <span style=\"color: #008080; text-decoration-color: #008080; font-weight: bold\">1</span>: <span style=\"color: #008000; text-decoration-color: #008000\">'А'</span>,\n",
              "    <span style=\"color: #008080; text-decoration-color: #008080; font-weight: bold\">2</span>: <span style=\"color: #008000; text-decoration-color: #008000\">'Б'</span>,\n",
              "    <span style=\"color: #008080; text-decoration-color: #008080; font-weight: bold\">3</span>: <span style=\"color: #008000; text-decoration-color: #008000\">'В'</span>,\n",
              "    <span style=\"color: #008080; text-decoration-color: #008080; font-weight: bold\">4</span>: <span style=\"color: #008000; text-decoration-color: #008000\">'Г'</span>,\n",
              "    <span style=\"color: #008080; text-decoration-color: #008080; font-weight: bold\">5</span>: <span style=\"color: #008000; text-decoration-color: #008000\">'Д'</span>,\n",
              "    <span style=\"color: #008080; text-decoration-color: #008080; font-weight: bold\">6</span>: <span style=\"color: #008000; text-decoration-color: #008000\">'Е'</span>,\n",
              "    <span style=\"color: #008080; text-decoration-color: #008080; font-weight: bold\">7</span>: <span style=\"color: #008000; text-decoration-color: #008000\">'Ж'</span>,\n",
              "    <span style=\"color: #008080; text-decoration-color: #008080; font-weight: bold\">8</span>: <span style=\"color: #008000; text-decoration-color: #008000\">'З'</span>,\n",
              "    <span style=\"color: #008080; text-decoration-color: #008080; font-weight: bold\">9</span>: <span style=\"color: #008000; text-decoration-color: #008000\">'И'</span>,\n",
              "    <span style=\"color: #008080; text-decoration-color: #008080; font-weight: bold\">10</span>: <span style=\"color: #008000; text-decoration-color: #008000\">'К'</span>,\n",
              "    <span style=\"color: #008080; text-decoration-color: #008080; font-weight: bold\">11</span>: <span style=\"color: #008000; text-decoration-color: #008000\">'Л'</span>,\n",
              "    <span style=\"color: #008080; text-decoration-color: #008080; font-weight: bold\">12</span>: <span style=\"color: #008000; text-decoration-color: #008000\">'М'</span>,\n",
              "    <span style=\"color: #008080; text-decoration-color: #008080; font-weight: bold\">13</span>: <span style=\"color: #008000; text-decoration-color: #008000\">'Н'</span>,\n",
              "    <span style=\"color: #008080; text-decoration-color: #008080; font-weight: bold\">14</span>: <span style=\"color: #008000; text-decoration-color: #008000\">'О'</span>,\n",
              "    <span style=\"color: #008080; text-decoration-color: #008080; font-weight: bold\">15</span>: <span style=\"color: #008000; text-decoration-color: #008000\">'П'</span>,\n",
              "    <span style=\"color: #008080; text-decoration-color: #008080; font-weight: bold\">16</span>: <span style=\"color: #008000; text-decoration-color: #008000\">'Р'</span>,\n",
              "    <span style=\"color: #008080; text-decoration-color: #008080; font-weight: bold\">17</span>: <span style=\"color: #008000; text-decoration-color: #008000\">'С'</span>,\n",
              "    <span style=\"color: #008080; text-decoration-color: #008080; font-weight: bold\">18</span>: <span style=\"color: #008000; text-decoration-color: #008000\">'Т'</span>,\n",
              "    <span style=\"color: #008080; text-decoration-color: #008080; font-weight: bold\">19</span>: <span style=\"color: #008000; text-decoration-color: #008000\">'У'</span>,\n",
              "    <span style=\"color: #008080; text-decoration-color: #008080; font-weight: bold\">20</span>: <span style=\"color: #008000; text-decoration-color: #008000\">'Ф'</span>,\n",
              "    <span style=\"color: #008080; text-decoration-color: #008080; font-weight: bold\">21</span>: <span style=\"color: #008000; text-decoration-color: #008000\">'Х'</span>,\n",
              "    <span style=\"color: #008080; text-decoration-color: #008080; font-weight: bold\">22</span>: <span style=\"color: #008000; text-decoration-color: #008000\">'Ц'</span>,\n",
              "    <span style=\"color: #008080; text-decoration-color: #008080; font-weight: bold\">23</span>: <span style=\"color: #008000; text-decoration-color: #008000\">'Ч'</span>,\n",
              "    <span style=\"color: #008080; text-decoration-color: #008080; font-weight: bold\">24</span>: <span style=\"color: #008000; text-decoration-color: #008000\">'Ш'</span>,\n",
              "    <span style=\"color: #008080; text-decoration-color: #008080; font-weight: bold\">25</span>: <span style=\"color: #008000; text-decoration-color: #008000\">'Щ'</span>,\n",
              "    <span style=\"color: #008080; text-decoration-color: #008080; font-weight: bold\">26</span>: <span style=\"color: #008000; text-decoration-color: #008000\">'Э'</span>,\n",
              "    <span style=\"color: #008080; text-decoration-color: #008080; font-weight: bold\">27</span>: <span style=\"color: #008000; text-decoration-color: #008000\">'Ю'</span>,\n",
              "    <span style=\"color: #008080; text-decoration-color: #008080; font-weight: bold\">28</span>: <span style=\"color: #008000; text-decoration-color: #008000\">'Я'</span>,\n",
              "    <span style=\"color: #008080; text-decoration-color: #008080; font-weight: bold\">29</span>: <span style=\"color: #008000; text-decoration-color: #008000\">'а'</span>,\n",
              "    <span style=\"color: #008080; text-decoration-color: #008080; font-weight: bold\">30</span>: <span style=\"color: #008000; text-decoration-color: #008000\">'б'</span>,\n",
              "    <span style=\"color: #008080; text-decoration-color: #008080; font-weight: bold\">31</span>: <span style=\"color: #008000; text-decoration-color: #008000\">'в'</span>,\n",
              "    <span style=\"color: #008080; text-decoration-color: #008080; font-weight: bold\">32</span>: <span style=\"color: #008000; text-decoration-color: #008000\">'г'</span>,\n",
              "    <span style=\"color: #008080; text-decoration-color: #008080; font-weight: bold\">33</span>: <span style=\"color: #008000; text-decoration-color: #008000\">'д'</span>,\n",
              "    <span style=\"color: #008080; text-decoration-color: #008080; font-weight: bold\">34</span>: <span style=\"color: #008000; text-decoration-color: #008000\">'е'</span>,\n",
              "    <span style=\"color: #008080; text-decoration-color: #008080; font-weight: bold\">35</span>: <span style=\"color: #008000; text-decoration-color: #008000\">'ж'</span>,\n",
              "    <span style=\"color: #008080; text-decoration-color: #008080; font-weight: bold\">36</span>: <span style=\"color: #008000; text-decoration-color: #008000\">'з'</span>,\n",
              "    <span style=\"color: #008080; text-decoration-color: #008080; font-weight: bold\">37</span>: <span style=\"color: #008000; text-decoration-color: #008000\">'и'</span>,\n",
              "    <span style=\"color: #008080; text-decoration-color: #008080; font-weight: bold\">38</span>: <span style=\"color: #008000; text-decoration-color: #008000\">'й'</span>,\n",
              "    <span style=\"color: #008080; text-decoration-color: #008080; font-weight: bold\">39</span>: <span style=\"color: #008000; text-decoration-color: #008000\">'к'</span>,\n",
              "    <span style=\"color: #008080; text-decoration-color: #008080; font-weight: bold\">40</span>: <span style=\"color: #008000; text-decoration-color: #008000\">'л'</span>,\n",
              "    <span style=\"color: #008080; text-decoration-color: #008080; font-weight: bold\">41</span>: <span style=\"color: #008000; text-decoration-color: #008000\">'м'</span>,\n",
              "    <span style=\"color: #008080; text-decoration-color: #008080; font-weight: bold\">42</span>: <span style=\"color: #008000; text-decoration-color: #008000\">'н'</span>,\n",
              "    <span style=\"color: #008080; text-decoration-color: #008080; font-weight: bold\">43</span>: <span style=\"color: #008000; text-decoration-color: #008000\">'о'</span>,\n",
              "    <span style=\"color: #008080; text-decoration-color: #008080; font-weight: bold\">44</span>: <span style=\"color: #008000; text-decoration-color: #008000\">'п'</span>,\n",
              "    <span style=\"color: #008080; text-decoration-color: #008080; font-weight: bold\">45</span>: <span style=\"color: #008000; text-decoration-color: #008000\">'р'</span>,\n",
              "    <span style=\"color: #008080; text-decoration-color: #008080; font-weight: bold\">46</span>: <span style=\"color: #008000; text-decoration-color: #008000\">'с'</span>,\n",
              "    <span style=\"color: #008080; text-decoration-color: #008080; font-weight: bold\">47</span>: <span style=\"color: #008000; text-decoration-color: #008000\">'т'</span>,\n",
              "    <span style=\"color: #008080; text-decoration-color: #008080; font-weight: bold\">48</span>: <span style=\"color: #008000; text-decoration-color: #008000\">'у'</span>,\n",
              "    <span style=\"color: #008080; text-decoration-color: #008080; font-weight: bold\">49</span>: <span style=\"color: #008000; text-decoration-color: #008000\">'ф'</span>,\n",
              "    <span style=\"color: #008080; text-decoration-color: #008080; font-weight: bold\">50</span>: <span style=\"color: #008000; text-decoration-color: #008000\">'х'</span>,\n",
              "    <span style=\"color: #008080; text-decoration-color: #008080; font-weight: bold\">51</span>: <span style=\"color: #008000; text-decoration-color: #008000\">'ц'</span>,\n",
              "    <span style=\"color: #008080; text-decoration-color: #008080; font-weight: bold\">52</span>: <span style=\"color: #008000; text-decoration-color: #008000\">'ч'</span>,\n",
              "    <span style=\"color: #008080; text-decoration-color: #008080; font-weight: bold\">53</span>: <span style=\"color: #008000; text-decoration-color: #008000\">'ш'</span>,\n",
              "    <span style=\"color: #008080; text-decoration-color: #008080; font-weight: bold\">54</span>: <span style=\"color: #008000; text-decoration-color: #008000\">'щ'</span>,\n",
              "    <span style=\"color: #008080; text-decoration-color: #008080; font-weight: bold\">55</span>: <span style=\"color: #008000; text-decoration-color: #008000\">'ъ'</span>,\n",
              "    <span style=\"color: #008080; text-decoration-color: #008080; font-weight: bold\">56</span>: <span style=\"color: #008000; text-decoration-color: #008000\">'ы'</span>,\n",
              "    <span style=\"color: #008080; text-decoration-color: #008080; font-weight: bold\">57</span>: <span style=\"color: #008000; text-decoration-color: #008000\">'ь'</span>,\n",
              "    <span style=\"color: #008080; text-decoration-color: #008080; font-weight: bold\">58</span>: <span style=\"color: #008000; text-decoration-color: #008000\">'э'</span>,\n",
              "    <span style=\"color: #008080; text-decoration-color: #008080; font-weight: bold\">59</span>: <span style=\"color: #008000; text-decoration-color: #008000\">'ю'</span>,\n",
              "    <span style=\"color: #008080; text-decoration-color: #008080; font-weight: bold\">60</span>: <span style=\"color: #008000; text-decoration-color: #008000\">'я'</span>,\n",
              "    <span style=\"color: #008080; text-decoration-color: #008080; font-weight: bold\">61</span>: <span style=\"color: #008000; text-decoration-color: #008000\">'ё'</span>,\n",
              "    <span style=\"color: #008080; text-decoration-color: #008080; font-weight: bold\">0</span>: <span style=\"color: #008000; text-decoration-color: #008000\">'.'</span>\n",
              "<span style=\"font-weight: bold\">}</span>\n",
              "</pre>\n"
            ]
          },
          "metadata": {}
        }
      ]
    },
    {
      "cell_type": "code",
      "source": [
        "# build the dataset\n",
        "block_size = 3 # context length: how many characters do we take to predict the next one?\n",
        "\n",
        "def build_dataset(cleaned_surnames):\n",
        "  X, Y = [], []\n",
        "  for w in surnames:\n",
        "\n",
        "    #print(w)\n",
        "    context = [0] * block_size\n",
        "    for ch in w + '.':\n",
        "      ix = stoi[ch]\n",
        "      X.append(context)\n",
        "      Y.append(ix)\n",
        "      #print(''.join(itos[i] for i in context), '--->', itos[ix])\n",
        "      context = context[1:] + [ix] # crop and append\n",
        "\n",
        "  X = torch.tensor(X)\n",
        "  Y = torch.tensor(Y)\n",
        "  print(X.shape, Y.shape)\n",
        "  return X, Y\n",
        "\n",
        "import random\n",
        "random.seed(42)\n",
        "random.shuffle(surnames)\n",
        "n1 = int(0.8*len(surnames))\n",
        "n2 = int(0.9*len(surnames))\n",
        "\n",
        "Xtr, Ytr = build_dataset(surnames[:n1])\n",
        "Xdev, Ydev = build_dataset(surnames[n1:n2])\n",
        "Xte, Yte = build_dataset(surnames[n2:])"
      ],
      "metadata": {
        "colab": {
          "base_uri": "https://localhost:8080/",
          "height": 113
        },
        "id": "MB5XgJxdczFi",
        "outputId": "8bdcaad5-0884-4081-be06-02cb5d84954e"
      },
      "execution_count": 86,
      "outputs": [
        {
          "output_type": "display_data",
          "data": {
            "text/plain": [
              "\u001b[1;35mtorch.Size\u001b[0m\u001b[1m(\u001b[0m\u001b[1m[\u001b[0m\u001b[1;36m130518\u001b[0m, \u001b[1;36m3\u001b[0m\u001b[1m]\u001b[0m\u001b[1m)\u001b[0m\n",
              "\u001b[1;35mtorch.Size\u001b[0m\u001b[1m(\u001b[0m\u001b[1m[\u001b[0m\u001b[1;36m130518\u001b[0m\u001b[1m]\u001b[0m\u001b[1m)\u001b[0m\n"
            ],
            "text/html": [
              "<pre style=\"white-space:pre;overflow-x:auto;line-height:normal;font-family:Menlo,'DejaVu Sans Mono',consolas,'Courier New',monospace\"><span style=\"color: #800080; text-decoration-color: #800080; font-weight: bold\">torch.Size</span><span style=\"font-weight: bold\">([</span><span style=\"color: #008080; text-decoration-color: #008080; font-weight: bold\">130518</span>, <span style=\"color: #008080; text-decoration-color: #008080; font-weight: bold\">3</span><span style=\"font-weight: bold\">])</span>\n",
              "<span style=\"color: #800080; text-decoration-color: #800080; font-weight: bold\">torch.Size</span><span style=\"font-weight: bold\">([</span><span style=\"color: #008080; text-decoration-color: #008080; font-weight: bold\">130518</span><span style=\"font-weight: bold\">])</span>\n",
              "</pre>\n"
            ]
          },
          "metadata": {}
        },
        {
          "output_type": "display_data",
          "data": {
            "text/plain": [
              "\u001b[1;35mtorch.Size\u001b[0m\u001b[1m(\u001b[0m\u001b[1m[\u001b[0m\u001b[1;36m130518\u001b[0m, \u001b[1;36m3\u001b[0m\u001b[1m]\u001b[0m\u001b[1m)\u001b[0m\n",
              "\u001b[1;35mtorch.Size\u001b[0m\u001b[1m(\u001b[0m\u001b[1m[\u001b[0m\u001b[1;36m130518\u001b[0m\u001b[1m]\u001b[0m\u001b[1m)\u001b[0m\n"
            ],
            "text/html": [
              "<pre style=\"white-space:pre;overflow-x:auto;line-height:normal;font-family:Menlo,'DejaVu Sans Mono',consolas,'Courier New',monospace\"><span style=\"color: #800080; text-decoration-color: #800080; font-weight: bold\">torch.Size</span><span style=\"font-weight: bold\">([</span><span style=\"color: #008080; text-decoration-color: #008080; font-weight: bold\">130518</span>, <span style=\"color: #008080; text-decoration-color: #008080; font-weight: bold\">3</span><span style=\"font-weight: bold\">])</span>\n",
              "<span style=\"color: #800080; text-decoration-color: #800080; font-weight: bold\">torch.Size</span><span style=\"font-weight: bold\">([</span><span style=\"color: #008080; text-decoration-color: #008080; font-weight: bold\">130518</span><span style=\"font-weight: bold\">])</span>\n",
              "</pre>\n"
            ]
          },
          "metadata": {}
        },
        {
          "output_type": "display_data",
          "data": {
            "text/plain": [
              "\u001b[1;35mtorch.Size\u001b[0m\u001b[1m(\u001b[0m\u001b[1m[\u001b[0m\u001b[1;36m130518\u001b[0m, \u001b[1;36m3\u001b[0m\u001b[1m]\u001b[0m\u001b[1m)\u001b[0m\n",
              "\u001b[1;35mtorch.Size\u001b[0m\u001b[1m(\u001b[0m\u001b[1m[\u001b[0m\u001b[1;36m130518\u001b[0m\u001b[1m]\u001b[0m\u001b[1m)\u001b[0m\n"
            ],
            "text/html": [
              "<pre style=\"white-space:pre;overflow-x:auto;line-height:normal;font-family:Menlo,'DejaVu Sans Mono',consolas,'Courier New',monospace\"><span style=\"color: #800080; text-decoration-color: #800080; font-weight: bold\">torch.Size</span><span style=\"font-weight: bold\">([</span><span style=\"color: #008080; text-decoration-color: #008080; font-weight: bold\">130518</span>, <span style=\"color: #008080; text-decoration-color: #008080; font-weight: bold\">3</span><span style=\"font-weight: bold\">])</span>\n",
              "<span style=\"color: #800080; text-decoration-color: #800080; font-weight: bold\">torch.Size</span><span style=\"font-weight: bold\">([</span><span style=\"color: #008080; text-decoration-color: #008080; font-weight: bold\">130518</span><span style=\"font-weight: bold\">])</span>\n",
              "</pre>\n"
            ]
          },
          "metadata": {}
        }
      ]
    },
    {
      "cell_type": "code",
      "source": [
        "Xtr"
      ],
      "metadata": {
        "colab": {
          "base_uri": "https://localhost:8080/"
        },
        "id": "OGPnax5rnw8J",
        "outputId": "55b2fab1-e60c-458e-dfa9-de9b1bcb90f2"
      },
      "execution_count": 87,
      "outputs": [
        {
          "output_type": "execute_result",
          "data": {
            "text/plain": [
              "tensor([[ 0,  0,  0],\n",
              "        [ 0,  0, 18],\n",
              "        [ 0, 18, 37],\n",
              "        ...,\n",
              "        [29, 42, 52],\n",
              "        [42, 52, 37],\n",
              "        [52, 37, 42]])"
            ]
          },
          "metadata": {},
          "execution_count": 87
        }
      ]
    },
    {
      "cell_type": "code",
      "source": [
        "g = torch.Generator().manual_seed(2147483647) # for reproducibility\n",
        "C = torch.randn((N_chars, 10), generator=g) # 33 is the number of characters in Russian alphabet\n",
        "W1 = torch.randn((30, 200), generator=g) # Assuming input size 30 + 10 (one-hot vector)\n",
        "b1 = torch.randn(200, generator=g)\n",
        "W2 = torch.randn((200, N_chars), generator=g) # Output size matches the number of characters in Russian alphabet\n",
        "b2 = torch.randn(N_chars, generator=g) # Bias for the output layer\n",
        "parameters = [C, W1, b1, W2, b2]"
      ],
      "metadata": {
        "id": "EAA0_oigc13X"
      },
      "execution_count": 88,
      "outputs": []
    },
    {
      "cell_type": "code",
      "source": [
        "sum(p.nelement() for p in parameters) # number of parameters in total"
      ],
      "metadata": {
        "colab": {
          "base_uri": "https://localhost:8080/"
        },
        "id": "_HcVef6-c5S4",
        "outputId": "f9ed068e-68f3-4286-bb1b-95799f086f73"
      },
      "execution_count": 89,
      "outputs": [
        {
          "output_type": "execute_result",
          "data": {
            "text/plain": [
              "19282"
            ]
          },
          "metadata": {},
          "execution_count": 89
        }
      ]
    },
    {
      "cell_type": "code",
      "source": [
        "for p in parameters:\n",
        "  p.requires_grad = True"
      ],
      "metadata": {
        "id": "coNBea1sc6tm"
      },
      "execution_count": 90,
      "outputs": []
    },
    {
      "cell_type": "code",
      "source": [
        "lre = torch.linspace(-3, 0, 1000)\n",
        "lrs = 10**lre"
      ],
      "metadata": {
        "id": "nFWpAj_9c9Yr"
      },
      "execution_count": 91,
      "outputs": []
    },
    {
      "cell_type": "code",
      "source": [
        "lri = []\n",
        "lossi = []\n",
        "stepi = []"
      ],
      "metadata": {
        "id": "t2huuyTudBlF"
      },
      "execution_count": 92,
      "outputs": []
    },
    {
      "cell_type": "code",
      "source": [
        "ix = torch.randint(0, Xtr.shape[0], (32,))\n",
        "\n",
        "Xtr[ix].shape"
      ],
      "metadata": {
        "colab": {
          "base_uri": "https://localhost:8080/"
        },
        "id": "f2ZEldLGpH3s",
        "outputId": "79345441-cca4-4cbd-82e8-c512bf962435"
      },
      "execution_count": 93,
      "outputs": [
        {
          "output_type": "execute_result",
          "data": {
            "text/plain": [
              "torch.Size([32, 3])"
            ]
          },
          "metadata": {},
          "execution_count": 93
        }
      ]
    },
    {
      "cell_type": "code",
      "source": [
        "for i in range(200000):\n",
        "\n",
        "  # minibatch construct\n",
        "  ix = torch.randint(0, Xtr.shape[0], (32,))\n",
        "\n",
        "  # forward pass\n",
        "  emb = C[Xtr[ix]] # (32, 3, 2)\n",
        "  h = torch.tanh(emb.view(-1, 30) @ W1 + b1) # (32, 100)\n",
        "  logits = h @ W2 + b2 # (32, 27)\n",
        "  loss = F.cross_entropy(logits, Ytr[ix])\n",
        "  #print(loss.item())\n",
        "\n",
        "  # backward pass\n",
        "  for p in parameters:\n",
        "    p.grad = None\n",
        "  loss.backward()\n",
        "\n",
        "  # update\n",
        "  #lr = lrs[i]\n",
        "  lr = 0.01 if i < 100000 else 0.001\n",
        "  for p in parameters:\n",
        "    p.data += -lr * p.grad\n",
        "\n",
        "  # track stats\n",
        "  #lri.append(lre[i])\n",
        "  stepi.append(i)\n",
        "  lossi.append(loss.log10().item())\n",
        "\n",
        "print(loss.item())"
      ],
      "metadata": {
        "id": "jiKD-PPOdClh",
        "colab": {
          "base_uri": "https://localhost:8080/",
          "height": 33
        },
        "outputId": "9e5734b7-e201-4f71-bcec-8f237e94a130"
      },
      "execution_count": 94,
      "outputs": [
        {
          "output_type": "display_data",
          "data": {
            "text/plain": [
              "\u001b[1;36m1.776491403579712\u001b[0m\n"
            ],
            "text/html": [
              "<pre style=\"white-space:pre;overflow-x:auto;line-height:normal;font-family:Menlo,'DejaVu Sans Mono',consolas,'Courier New',monospace\"><span style=\"color: #008080; text-decoration-color: #008080; font-weight: bold\">1.776491403579712</span>\n",
              "</pre>\n"
            ]
          },
          "metadata": {}
        }
      ]
    },
    {
      "cell_type": "code",
      "source": [
        "plt.plot(stepi, lossi)"
      ],
      "metadata": {
        "colab": {
          "base_uri": "https://localhost:8080/",
          "height": 451
        },
        "id": "ZBAYXZ_rdGIG",
        "outputId": "06c3720c-9f23-4042-9fd6-ef0ba18cadc1"
      },
      "execution_count": 95,
      "outputs": [
        {
          "output_type": "execute_result",
          "data": {
            "text/plain": [
              "[<matplotlib.lines.Line2D at 0x786790f5d0c0>]"
            ]
          },
          "metadata": {},
          "execution_count": 95
        },
        {
          "output_type": "display_data",
          "data": {
            "text/plain": [
              "<Figure size 640x480 with 1 Axes>"
            ],
            "image/png": "[encoded data removed]"
          },
          "metadata": {}
        }
      ]
    },
    {
      "cell_type": "code",
      "source": [
        "# training loss\n",
        "emb = C[Xtr] # (32, 3, 2)\n",
        "h = torch.tanh(emb.view(-1, 30) @ W1 + b1) # (32, 100)\n",
        "logits = h @ W2 + b2 # (32, 27)\n",
        "loss = F.cross_entropy(logits, Ytr)\n",
        "loss"
      ],
      "metadata": {
        "colab": {
          "base_uri": "https://localhost:8080/"
        },
        "id": "ZlhYinNgdIVF",
        "outputId": "57f7f10d-fd21-41f0-e150-d2c4a2f17dbf"
      },
      "execution_count": 96,
      "outputs": [
        {
          "output_type": "execute_result",
          "data": {
            "text/plain": [
              "tensor(1.9723, grad_fn=<NllLossBackward0>)"
            ]
          },
          "metadata": {},
          "execution_count": 96
        }
      ]
    },
    {
      "cell_type": "code",
      "source": [
        "# validation loss\n",
        "emb = C[Xdev] # (32, 3, 2)\n",
        "h = torch.tanh(emb.view(-1, 30) @ W1 + b1) # (32, 100)\n",
        "logits = h @ W2 + b2 # (32, 27)\n",
        "loss = F.cross_entropy(logits, Ydev)\n",
        "loss"
      ],
      "metadata": {
        "colab": {
          "base_uri": "https://localhost:8080/"
        },
        "id": "cJH3DDu4dLTM",
        "outputId": "2cf536f4-b8c5-4b86-dc75-b7f76bc844f5"
      },
      "execution_count": 97,
      "outputs": [
        {
          "output_type": "execute_result",
          "data": {
            "text/plain": [
              "tensor(1.9723, grad_fn=<NllLossBackward0>)"
            ]
          },
          "metadata": {},
          "execution_count": 97
        }
      ]
    },
    {
      "cell_type": "code",
      "source": [
        "# test loss\n",
        "emb = C[Xte] # (32, 3, 2)\n",
        "h = torch.tanh(emb.view(-1, 30) @ W1 + b1) # (32, 100)\n",
        "logits = h @ W2 + b2 # (32, 27)\n",
        "loss = F.cross_entropy(logits, Yte)\n",
        "loss"
      ],
      "metadata": {
        "colab": {
          "base_uri": "https://localhost:8080/"
        },
        "id": "DwOgCg1vdNhe",
        "outputId": "4f62146f-c4e9-4ad0-c116-b0646d99a45c"
      },
      "execution_count": 98,
      "outputs": [
        {
          "output_type": "execute_result",
          "data": {
            "text/plain": [
              "tensor(1.9723, grad_fn=<NllLossBackward0>)"
            ]
          },
          "metadata": {},
          "execution_count": 98
        }
      ]
    },
    {
      "cell_type": "code",
      "source": [
        "# visualize dimensions 0 and 1 of the embedding matrix C for all characters\n",
        "plt.figure(figsize=(8,8))\n",
        "plt.scatter(C[:,0].data, C[:,1].data, s=200)\n",
        "for i in range(C.shape[0]):\n",
        "    plt.text(C[i,0].item(), C[i,1].item(), itos[i], ha=\"center\", va=\"center\", color='white')\n",
        "plt.grid('minor')"
      ],
      "metadata": {
        "colab": {
          "base_uri": "https://localhost:8080/",
          "height": 676
        },
        "id": "CCWLYP9GdPP4",
        "outputId": "7cc7d085-674d-4687-8068-e8bf9728d76d"
      },
      "execution_count": 99,
      "outputs": [
        {
          "output_type": "display_data",
          "data": {
            "text/plain": [
              "<Figure size 800x800 with 1 Axes>"
            ],
            "image/png": "[encoded data removed]"
          },
          "metadata": {}
        }
      ]
    },
    {
      "cell_type": "code",
      "source": [
        "# sample from the model\n",
        "g = torch.Generator().manual_seed(2147483647 + 10)\n",
        "\n",
        "predicted_last_names = []\n",
        "for _ in range(100):\n",
        "\n",
        "    out = []\n",
        "    context = [0] * block_size # initialize with all ...\n",
        "    while True:\n",
        "      emb = C[torch.tensor([context])] # (1,block_size,d)\n",
        "      h = torch.tanh(emb.view(1, -1) @ W1 + b1)\n",
        "      logits = h @ W2 + b2\n",
        "      probs = F.softmax(logits, dim=1)\n",
        "      ix = torch.multinomial(probs, num_samples=1, generator=g).item()\n",
        "      context = context[1:] + [ix]\n",
        "      out.append(ix)\n",
        "      if ix == 0:\n",
        "        break\n",
        "# We get rid of the final dot - nessasary step for further evaluation.\n",
        "    last_name = ''.join(itos[i] for i in out)\n",
        "    last_name = re.sub(r'\\.', '', last_name)\n",
        "    predicted_last_names.append(last_name)\n",
        "    print(last_name)"
      ],
      "metadata": {
        "colab": {
          "base_uri": "https://localhost:8080/",
          "height": 1000
        },
        "id": "TQUMmgRrdRIA",
        "outputId": "950198a1-acb1-4d71-9bf5-2a08074d6391"
      },
      "execution_count": 100,
      "outputs": [
        {
          "output_type": "display_data",
          "data": {
            "text/plain": [
              "Борашунов\n"
            ],
            "text/html": [
              "<pre style=\"white-space:pre;overflow-x:auto;line-height:normal;font-family:Menlo,'DejaVu Sans Mono',consolas,'Courier New',monospace\">Борашунов\n",
              "</pre>\n"
            ]
          },
          "metadata": {}
        },
        {
          "output_type": "display_data",
          "data": {
            "text/plain": [
              "Станый\n"
            ],
            "text/html": [
              "<pre style=\"white-space:pre;overflow-x:auto;line-height:normal;font-family:Menlo,'DejaVu Sans Mono',consolas,'Courier New',monospace\">Станый\n",
              "</pre>\n"
            ]
          },
          "metadata": {}
        },
        {
          "output_type": "display_data",
          "data": {
            "text/plain": [
              "Горов\n"
            ],
            "text/html": [
              "<pre style=\"white-space:pre;overflow-x:auto;line-height:normal;font-family:Menlo,'DejaVu Sans Mono',consolas,'Courier New',monospace\">Горов\n",
              "</pre>\n"
            ]
          },
          "metadata": {}
        },
        {
          "output_type": "display_data",
          "data": {
            "text/plain": [
              "Пинов\n"
            ],
            "text/html": [
              "<pre style=\"white-space:pre;overflow-x:auto;line-height:normal;font-family:Menlo,'DejaVu Sans Mono',consolas,'Courier New',monospace\">Пинов\n",
              "</pre>\n"
            ]
          },
          "metadata": {}
        },
        {
          "output_type": "display_data",
          "data": {
            "text/plain": [
              "Волостуховакушулов\n"
            ],
            "text/html": [
              "<pre style=\"white-space:pre;overflow-x:auto;line-height:normal;font-family:Menlo,'DejaVu Sans Mono',consolas,'Courier New',monospace\">Волостуховакушулов\n",
              "</pre>\n"
            ]
          },
          "metadata": {}
        },
        {
          "output_type": "display_data",
          "data": {
            "text/plain": [
              "Ивастуй\n"
            ],
            "text/html": [
              "<pre style=\"white-space:pre;overflow-x:auto;line-height:normal;font-family:Menlo,'DejaVu Sans Mono',consolas,'Courier New',monospace\">Ивастуй\n",
              "</pre>\n"
            ]
          },
          "metadata": {}
        },
        {
          "output_type": "display_data",
          "data": {
            "text/plain": [
              "Размонин\n"
            ],
            "text/html": [
              "<pre style=\"white-space:pre;overflow-x:auto;line-height:normal;font-family:Menlo,'DejaVu Sans Mono',consolas,'Courier New',monospace\">Размонин\n",
              "</pre>\n"
            ]
          },
          "metadata": {}
        },
        {
          "output_type": "display_data",
          "data": {
            "text/plain": [
              "Селетов\n"
            ],
            "text/html": [
              "<pre style=\"white-space:pre;overflow-x:auto;line-height:normal;font-family:Menlo,'DejaVu Sans Mono',consolas,'Courier New',monospace\">Селетов\n",
              "</pre>\n"
            ]
          },
          "metadata": {}
        },
        {
          "output_type": "display_data",
          "data": {
            "text/plain": [
              "Родойньюв\n"
            ],
            "text/html": [
              "<pre style=\"white-space:pre;overflow-x:auto;line-height:normal;font-family:Menlo,'DejaVu Sans Mono',consolas,'Courier New',monospace\">Родойньюв\n",
              "</pre>\n"
            ]
          },
          "metadata": {}
        },
        {
          "output_type": "display_data",
          "data": {
            "text/plain": [
              "Возбин\n"
            ],
            "text/html": [
              "<pre style=\"white-space:pre;overflow-x:auto;line-height:normal;font-family:Menlo,'DejaVu Sans Mono',consolas,'Courier New',monospace\">Возбин\n",
              "</pre>\n"
            ]
          },
          "metadata": {}
        },
        {
          "output_type": "display_data",
          "data": {
            "text/plain": [
              "Цыпев\n"
            ],
            "text/html": [
              "<pre style=\"white-space:pre;overflow-x:auto;line-height:normal;font-family:Menlo,'DejaVu Sans Mono',consolas,'Courier New',monospace\">Цыпев\n",
              "</pre>\n"
            ]
          },
          "metadata": {}
        },
        {
          "output_type": "display_data",
          "data": {
            "text/plain": [
              "Нимцев\n"
            ],
            "text/html": [
              "<pre style=\"white-space:pre;overflow-x:auto;line-height:normal;font-family:Menlo,'DejaVu Sans Mono',consolas,'Courier New',monospace\">Нимцев\n",
              "</pre>\n"
            ]
          },
          "metadata": {}
        },
        {
          "output_type": "display_data",
          "data": {
            "text/plain": [
              "Вешенов\n"
            ],
            "text/html": [
              "<pre style=\"white-space:pre;overflow-x:auto;line-height:normal;font-family:Menlo,'DejaVu Sans Mono',consolas,'Courier New',monospace\">Вешенов\n",
              "</pre>\n"
            ]
          },
          "metadata": {}
        },
        {
          "output_type": "display_data",
          "data": {
            "text/plain": [
              "Саровников\n"
            ],
            "text/html": [
              "<pre style=\"white-space:pre;overflow-x:auto;line-height:normal;font-family:Menlo,'DejaVu Sans Mono',consolas,'Courier New',monospace\">Саровников\n",
              "</pre>\n"
            ]
          },
          "metadata": {}
        },
        {
          "output_type": "display_data",
          "data": {
            "text/plain": [
              "Ершин\n"
            ],
            "text/html": [
              "<pre style=\"white-space:pre;overflow-x:auto;line-height:normal;font-family:Menlo,'DejaVu Sans Mono',consolas,'Courier New',monospace\">Ершин\n",
              "</pre>\n"
            ]
          },
          "metadata": {}
        },
        {
          "output_type": "display_data",
          "data": {
            "text/plain": [
              "Тарменкороров\n"
            ],
            "text/html": [
              "<pre style=\"white-space:pre;overflow-x:auto;line-height:normal;font-family:Menlo,'DejaVu Sans Mono',consolas,'Courier New',monospace\">Тарменкороров\n",
              "</pre>\n"
            ]
          },
          "metadata": {}
        },
        {
          "output_type": "display_data",
          "data": {
            "text/plain": [
              "Архов\n"
            ],
            "text/html": [
              "<pre style=\"white-space:pre;overflow-x:auto;line-height:normal;font-family:Menlo,'DejaVu Sans Mono',consolas,'Courier New',monospace\">Архов\n",
              "</pre>\n"
            ]
          },
          "metadata": {}
        },
        {
          "output_type": "display_data",
          "data": {
            "text/plain": [
              "Папкин\n"
            ],
            "text/html": [
              "<pre style=\"white-space:pre;overflow-x:auto;line-height:normal;font-family:Menlo,'DejaVu Sans Mono',consolas,'Courier New',monospace\">Папкин\n",
              "</pre>\n"
            ]
          },
          "metadata": {}
        },
        {
          "output_type": "display_data",
          "data": {
            "text/plain": [
              "Ардреев\n"
            ],
            "text/html": [
              "<pre style=\"white-space:pre;overflow-x:auto;line-height:normal;font-family:Menlo,'DejaVu Sans Mono',consolas,'Courier New',monospace\">Ардреев\n",
              "</pre>\n"
            ]
          },
          "metadata": {}
        },
        {
          "output_type": "display_data",
          "data": {
            "text/plain": [
              "Сенин\n"
            ],
            "text/html": [
              "<pre style=\"white-space:pre;overflow-x:auto;line-height:normal;font-family:Menlo,'DejaVu Sans Mono',consolas,'Courier New',monospace\">Сенин\n",
              "</pre>\n"
            ]
          },
          "metadata": {}
        },
        {
          "output_type": "display_data",
          "data": {
            "text/plain": [
              "Кепряснов\n"
            ],
            "text/html": [
              "<pre style=\"white-space:pre;overflow-x:auto;line-height:normal;font-family:Menlo,'DejaVu Sans Mono',consolas,'Courier New',monospace\">Кепряснов\n",
              "</pre>\n"
            ]
          },
          "metadata": {}
        },
        {
          "output_type": "display_data",
          "data": {
            "text/plain": [
              "Васяленосов\n"
            ],
            "text/html": [
              "<pre style=\"white-space:pre;overflow-x:auto;line-height:normal;font-family:Menlo,'DejaVu Sans Mono',consolas,'Courier New',monospace\">Васяленосов\n",
              "</pre>\n"
            ]
          },
          "metadata": {}
        },
        {
          "output_type": "display_data",
          "data": {
            "text/plain": [
              "Неумов\n"
            ],
            "text/html": [
              "<pre style=\"white-space:pre;overflow-x:auto;line-height:normal;font-family:Menlo,'DejaVu Sans Mono',consolas,'Courier New',monospace\">Неумов\n",
              "</pre>\n"
            ]
          },
          "metadata": {}
        },
        {
          "output_type": "display_data",
          "data": {
            "text/plain": [
              "Егтеньков\n"
            ],
            "text/html": [
              "<pre style=\"white-space:pre;overflow-x:auto;line-height:normal;font-family:Menlo,'DejaVu Sans Mono',consolas,'Courier New',monospace\">Егтеньков\n",
              "</pre>\n"
            ]
          },
          "metadata": {}
        },
        {
          "output_type": "display_data",
          "data": {
            "text/plain": [
              "Боладорозскин\n"
            ],
            "text/html": [
              "<pre style=\"white-space:pre;overflow-x:auto;line-height:normal;font-family:Menlo,'DejaVu Sans Mono',consolas,'Courier New',monospace\">Боладорозскин\n",
              "</pre>\n"
            ]
          },
          "metadata": {}
        },
        {
          "output_type": "display_data",
          "data": {
            "text/plain": [
              "Слуров\n"
            ],
            "text/html": [
              "<pre style=\"white-space:pre;overflow-x:auto;line-height:normal;font-family:Menlo,'DejaVu Sans Mono',consolas,'Courier New',monospace\">Слуров\n",
              "</pre>\n"
            ]
          },
          "metadata": {}
        },
        {
          "output_type": "display_data",
          "data": {
            "text/plain": [
              "Клянцев\n"
            ],
            "text/html": [
              "<pre style=\"white-space:pre;overflow-x:auto;line-height:normal;font-family:Menlo,'DejaVu Sans Mono',consolas,'Courier New',monospace\">Клянцев\n",
              "</pre>\n"
            ]
          },
          "metadata": {}
        },
        {
          "output_type": "display_data",
          "data": {
            "text/plain": [
              "Свордериков\n"
            ],
            "text/html": [
              "<pre style=\"white-space:pre;overflow-x:auto;line-height:normal;font-family:Menlo,'DejaVu Sans Mono',consolas,'Courier New',monospace\">Свордериков\n",
              "</pre>\n"
            ]
          },
          "metadata": {}
        },
        {
          "output_type": "display_data",
          "data": {
            "text/plain": [
              "Порой\n"
            ],
            "text/html": [
              "<pre style=\"white-space:pre;overflow-x:auto;line-height:normal;font-family:Menlo,'DejaVu Sans Mono',consolas,'Courier New',monospace\">Порой\n",
              "</pre>\n"
            ]
          },
          "metadata": {}
        },
        {
          "output_type": "display_data",
          "data": {
            "text/plain": [
              "Кучыров\n"
            ],
            "text/html": [
              "<pre style=\"white-space:pre;overflow-x:auto;line-height:normal;font-family:Menlo,'DejaVu Sans Mono',consolas,'Courier New',monospace\">Кучыров\n",
              "</pre>\n"
            ]
          },
          "metadata": {}
        },
        {
          "output_type": "display_data",
          "data": {
            "text/plain": [
              "Игнаступов\n"
            ],
            "text/html": [
              "<pre style=\"white-space:pre;overflow-x:auto;line-height:normal;font-family:Menlo,'DejaVu Sans Mono',consolas,'Courier New',monospace\">Игнаступов\n",
              "</pre>\n"
            ]
          },
          "metadata": {}
        },
        {
          "output_type": "display_data",
          "data": {
            "text/plain": [
              "Шарин\n"
            ],
            "text/html": [
              "<pre style=\"white-space:pre;overflow-x:auto;line-height:normal;font-family:Menlo,'DejaVu Sans Mono',consolas,'Courier New',monospace\">Шарин\n",
              "</pre>\n"
            ]
          },
          "metadata": {}
        },
        {
          "output_type": "display_data",
          "data": {
            "text/plain": [
              "Циелев\n"
            ],
            "text/html": [
              "<pre style=\"white-space:pre;overflow-x:auto;line-height:normal;font-family:Menlo,'DejaVu Sans Mono',consolas,'Courier New',monospace\">Циелев\n",
              "</pre>\n"
            ]
          },
          "metadata": {}
        },
        {
          "output_type": "display_data",
          "data": {
            "text/plain": [
              "Сазчокопов\n"
            ],
            "text/html": [
              "<pre style=\"white-space:pre;overflow-x:auto;line-height:normal;font-family:Menlo,'DejaVu Sans Mono',consolas,'Courier New',monospace\">Сазчокопов\n",
              "</pre>\n"
            ]
          },
          "metadata": {}
        },
        {
          "output_type": "display_data",
          "data": {
            "text/plain": [
              "Шалув\n"
            ],
            "text/html": [
              "<pre style=\"white-space:pre;overflow-x:auto;line-height:normal;font-family:Menlo,'DejaVu Sans Mono',consolas,'Courier New',monospace\">Шалув\n",
              "</pre>\n"
            ]
          },
          "metadata": {}
        },
        {
          "output_type": "display_data",
          "data": {
            "text/plain": [
              "Гаавов\n"
            ],
            "text/html": [
              "<pre style=\"white-space:pre;overflow-x:auto;line-height:normal;font-family:Menlo,'DejaVu Sans Mono',consolas,'Courier New',monospace\">Гаавов\n",
              "</pre>\n"
            ]
          },
          "metadata": {}
        },
        {
          "output_type": "display_data",
          "data": {
            "text/plain": [
              "Леонинчев\n"
            ],
            "text/html": [
              "<pre style=\"white-space:pre;overflow-x:auto;line-height:normal;font-family:Menlo,'DejaVu Sans Mono',consolas,'Courier New',monospace\">Леонинчев\n",
              "</pre>\n"
            ]
          },
          "metadata": {}
        },
        {
          "output_type": "display_data",
          "data": {
            "text/plain": [
              "Хадин\n"
            ],
            "text/html": [
              "<pre style=\"white-space:pre;overflow-x:auto;line-height:normal;font-family:Menlo,'DejaVu Sans Mono',consolas,'Courier New',monospace\">Хадин\n",
              "</pre>\n"
            ]
          },
          "metadata": {}
        },
        {
          "output_type": "display_data",
          "data": {
            "text/plain": [
              "Белдов\n"
            ],
            "text/html": [
              "<pre style=\"white-space:pre;overflow-x:auto;line-height:normal;font-family:Menlo,'DejaVu Sans Mono',consolas,'Courier New',monospace\">Белдов\n",
              "</pre>\n"
            ]
          },
          "metadata": {}
        },
        {
          "output_type": "display_data",
          "data": {
            "text/plain": [
              "Пелтикин\n"
            ],
            "text/html": [
              "<pre style=\"white-space:pre;overflow-x:auto;line-height:normal;font-family:Menlo,'DejaVu Sans Mono',consolas,'Courier New',monospace\">Пелтикин\n",
              "</pre>\n"
            ]
          },
          "metadata": {}
        },
        {
          "output_type": "display_data",
          "data": {
            "text/plain": [
              "Демуков\n"
            ],
            "text/html": [
              "<pre style=\"white-space:pre;overflow-x:auto;line-height:normal;font-family:Menlo,'DejaVu Sans Mono',consolas,'Courier New',monospace\">Демуков\n",
              "</pre>\n"
            ]
          },
          "metadata": {}
        },
        {
          "output_type": "display_data",
          "data": {
            "text/plain": [
              "Жиркинюв\n"
            ],
            "text/html": [
              "<pre style=\"white-space:pre;overflow-x:auto;line-height:normal;font-family:Menlo,'DejaVu Sans Mono',consolas,'Courier New',monospace\">Жиркинюв\n",
              "</pre>\n"
            ]
          },
          "metadata": {}
        },
        {
          "output_type": "display_data",
          "data": {
            "text/plain": [
              "Иванов\n"
            ],
            "text/html": [
              "<pre style=\"white-space:pre;overflow-x:auto;line-height:normal;font-family:Menlo,'DejaVu Sans Mono',consolas,'Courier New',monospace\">Иванов\n",
              "</pre>\n"
            ]
          },
          "metadata": {}
        },
        {
          "output_type": "display_data",
          "data": {
            "text/plain": [
              "Оснеженко\n"
            ],
            "text/html": [
              "<pre style=\"white-space:pre;overflow-x:auto;line-height:normal;font-family:Menlo,'DejaVu Sans Mono',consolas,'Courier New',monospace\">Оснеженко\n",
              "</pre>\n"
            ]
          },
          "metadata": {}
        },
        {
          "output_type": "display_data",
          "data": {
            "text/plain": [
              "Юрекотов\n"
            ],
            "text/html": [
              "<pre style=\"white-space:pre;overflow-x:auto;line-height:normal;font-family:Menlo,'DejaVu Sans Mono',consolas,'Courier New',monospace\">Юрекотов\n",
              "</pre>\n"
            ]
          },
          "metadata": {}
        },
        {
          "output_type": "display_data",
          "data": {
            "text/plain": [
              "Жбутипа\n"
            ],
            "text/html": [
              "<pre style=\"white-space:pre;overflow-x:auto;line-height:normal;font-family:Menlo,'DejaVu Sans Mono',consolas,'Courier New',monospace\">Жбутипа\n",
              "</pre>\n"
            ]
          },
          "metadata": {}
        },
        {
          "output_type": "display_data",
          "data": {
            "text/plain": [
              "Пусшесанивухов\n"
            ],
            "text/html": [
              "<pre style=\"white-space:pre;overflow-x:auto;line-height:normal;font-family:Menlo,'DejaVu Sans Mono',consolas,'Courier New',monospace\">Пусшесанивухов\n",
              "</pre>\n"
            ]
          },
          "metadata": {}
        },
        {
          "output_type": "display_data",
          "data": {
            "text/plain": [
              "Фбосурья\n"
            ],
            "text/html": [
              "<pre style=\"white-space:pre;overflow-x:auto;line-height:normal;font-family:Menlo,'DejaVu Sans Mono',consolas,'Courier New',monospace\">Фбосурья\n",
              "</pre>\n"
            ]
          },
          "metadata": {}
        },
        {
          "output_type": "display_data",
          "data": {
            "text/plain": [
              "Киыт\n"
            ],
            "text/html": [
              "<pre style=\"white-space:pre;overflow-x:auto;line-height:normal;font-family:Menlo,'DejaVu Sans Mono',consolas,'Courier New',monospace\">Киыт\n",
              "</pre>\n"
            ]
          },
          "metadata": {}
        },
        {
          "output_type": "display_data",
          "data": {
            "text/plain": [
              "Ахрабызин\n"
            ],
            "text/html": [
              "<pre style=\"white-space:pre;overflow-x:auto;line-height:normal;font-family:Menlo,'DejaVu Sans Mono',consolas,'Courier New',monospace\">Ахрабызин\n",
              "</pre>\n"
            ]
          },
          "metadata": {}
        },
        {
          "output_type": "display_data",
          "data": {
            "text/plain": [
              "Шрреницкий\n"
            ],
            "text/html": [
              "<pre style=\"white-space:pre;overflow-x:auto;line-height:normal;font-family:Menlo,'DejaVu Sans Mono',consolas,'Courier New',monospace\">Шрреницкий\n",
              "</pre>\n"
            ]
          },
          "metadata": {}
        },
        {
          "output_type": "display_data",
          "data": {
            "text/plain": [
              "Вишкин\n"
            ],
            "text/html": [
              "<pre style=\"white-space:pre;overflow-x:auto;line-height:normal;font-family:Menlo,'DejaVu Sans Mono',consolas,'Courier New',monospace\">Вишкин\n",
              "</pre>\n"
            ]
          },
          "metadata": {}
        },
        {
          "output_type": "display_data",
          "data": {
            "text/plain": [
              "Олеев\n"
            ],
            "text/html": [
              "<pre style=\"white-space:pre;overflow-x:auto;line-height:normal;font-family:Menlo,'DejaVu Sans Mono',consolas,'Courier New',monospace\">Олеев\n",
              "</pre>\n"
            ]
          },
          "metadata": {}
        },
        {
          "output_type": "display_data",
          "data": {
            "text/plain": [
              "Ярологин\n"
            ],
            "text/html": [
              "<pre style=\"white-space:pre;overflow-x:auto;line-height:normal;font-family:Menlo,'DejaVu Sans Mono',consolas,'Courier New',monospace\">Ярологин\n",
              "</pre>\n"
            ]
          },
          "metadata": {}
        },
        {
          "output_type": "display_data",
          "data": {
            "text/plain": [
              "Халазок\n"
            ],
            "text/html": [
              "<pre style=\"white-space:pre;overflow-x:auto;line-height:normal;font-family:Menlo,'DejaVu Sans Mono',consolas,'Courier New',monospace\">Халазок\n",
              "</pre>\n"
            ]
          },
          "metadata": {}
        },
        {
          "output_type": "display_data",
          "data": {
            "text/plain": [
              "Вонякин\n"
            ],
            "text/html": [
              "<pre style=\"white-space:pre;overflow-x:auto;line-height:normal;font-family:Menlo,'DejaVu Sans Mono',consolas,'Courier New',monospace\">Вонякин\n",
              "</pre>\n"
            ]
          },
          "metadata": {}
        },
        {
          "output_type": "display_data",
          "data": {
            "text/plain": [
              "Волов\n"
            ],
            "text/html": [
              "<pre style=\"white-space:pre;overflow-x:auto;line-height:normal;font-family:Menlo,'DejaVu Sans Mono',consolas,'Courier New',monospace\">Волов\n",
              "</pre>\n"
            ]
          },
          "metadata": {}
        },
        {
          "output_type": "display_data",
          "data": {
            "text/plain": [
              "Орогкин\n"
            ],
            "text/html": [
              "<pre style=\"white-space:pre;overflow-x:auto;line-height:normal;font-family:Menlo,'DejaVu Sans Mono',consolas,'Courier New',monospace\">Орогкин\n",
              "</pre>\n"
            ]
          },
          "metadata": {}
        },
        {
          "output_type": "display_data",
          "data": {
            "text/plain": [
              "Анеличев\n"
            ],
            "text/html": [
              "<pre style=\"white-space:pre;overflow-x:auto;line-height:normal;font-family:Menlo,'DejaVu Sans Mono',consolas,'Courier New',monospace\">Анеличев\n",
              "</pre>\n"
            ]
          },
          "metadata": {}
        },
        {
          "output_type": "display_data",
          "data": {
            "text/plain": [
              "Евоговеров\n"
            ],
            "text/html": [
              "<pre style=\"white-space:pre;overflow-x:auto;line-height:normal;font-family:Menlo,'DejaVu Sans Mono',consolas,'Courier New',monospace\">Евоговеров\n",
              "</pre>\n"
            ]
          },
          "metadata": {}
        },
        {
          "output_type": "display_data",
          "data": {
            "text/plain": [
              "Копалов\n"
            ],
            "text/html": [
              "<pre style=\"white-space:pre;overflow-x:auto;line-height:normal;font-family:Menlo,'DejaVu Sans Mono',consolas,'Courier New',monospace\">Копалов\n",
              "</pre>\n"
            ]
          },
          "metadata": {}
        },
        {
          "output_type": "display_data",
          "data": {
            "text/plain": [
              "Рямаров\n"
            ],
            "text/html": [
              "<pre style=\"white-space:pre;overflow-x:auto;line-height:normal;font-family:Menlo,'DejaVu Sans Mono',consolas,'Courier New',monospace\">Рямаров\n",
              "</pre>\n"
            ]
          },
          "metadata": {}
        },
        {
          "output_type": "display_data",
          "data": {
            "text/plain": [
              "Азанненко\n"
            ],
            "text/html": [
              "<pre style=\"white-space:pre;overflow-x:auto;line-height:normal;font-family:Menlo,'DejaVu Sans Mono',consolas,'Courier New',monospace\">Азанненко\n",
              "</pre>\n"
            ]
          },
          "metadata": {}
        },
        {
          "output_type": "display_data",
          "data": {
            "text/plain": [
              "Пакуев\n"
            ],
            "text/html": [
              "<pre style=\"white-space:pre;overflow-x:auto;line-height:normal;font-family:Menlo,'DejaVu Sans Mono',consolas,'Courier New',monospace\">Пакуев\n",
              "</pre>\n"
            ]
          },
          "metadata": {}
        },
        {
          "output_type": "display_data",
          "data": {
            "text/plain": [
              "Колин\n"
            ],
            "text/html": [
              "<pre style=\"white-space:pre;overflow-x:auto;line-height:normal;font-family:Menlo,'DejaVu Sans Mono',consolas,'Courier New',monospace\">Колин\n",
              "</pre>\n"
            ]
          },
          "metadata": {}
        },
        {
          "output_type": "display_data",
          "data": {
            "text/plain": [
              "Кохелов\n"
            ],
            "text/html": [
              "<pre style=\"white-space:pre;overflow-x:auto;line-height:normal;font-family:Menlo,'DejaVu Sans Mono',consolas,'Courier New',monospace\">Кохелов\n",
              "</pre>\n"
            ]
          },
          "metadata": {}
        },
        {
          "output_type": "display_data",
          "data": {
            "text/plain": [
              "Юфумьянибин\n"
            ],
            "text/html": [
              "<pre style=\"white-space:pre;overflow-x:auto;line-height:normal;font-family:Menlo,'DejaVu Sans Mono',consolas,'Courier New',monospace\">Юфумьянибин\n",
              "</pre>\n"
            ]
          },
          "metadata": {}
        },
        {
          "output_type": "display_data",
          "data": {
            "text/plain": [
              "Сознипов\n"
            ],
            "text/html": [
              "<pre style=\"white-space:pre;overflow-x:auto;line-height:normal;font-family:Menlo,'DejaVu Sans Mono',consolas,'Courier New',monospace\">Сознипов\n",
              "</pre>\n"
            ]
          },
          "metadata": {}
        },
        {
          "output_type": "display_data",
          "data": {
            "text/plain": [
              "Амектик\n"
            ],
            "text/html": [
              "<pre style=\"white-space:pre;overflow-x:auto;line-height:normal;font-family:Menlo,'DejaVu Sans Mono',consolas,'Courier New',monospace\">Амектик\n",
              "</pre>\n"
            ]
          },
          "metadata": {}
        },
        {
          "output_type": "display_data",
          "data": {
            "text/plain": [
              "Солков\n"
            ],
            "text/html": [
              "<pre style=\"white-space:pre;overflow-x:auto;line-height:normal;font-family:Menlo,'DejaVu Sans Mono',consolas,'Courier New',monospace\">Солков\n",
              "</pre>\n"
            ]
          },
          "metadata": {}
        },
        {
          "output_type": "display_data",
          "data": {
            "text/plain": [
              "Иророрьринцев\n"
            ],
            "text/html": [
              "<pre style=\"white-space:pre;overflow-x:auto;line-height:normal;font-family:Menlo,'DejaVu Sans Mono',consolas,'Courier New',monospace\">Иророрьринцев\n",
              "</pre>\n"
            ]
          },
          "metadata": {}
        },
        {
          "output_type": "display_data",
          "data": {
            "text/plain": [
              "Стев\n"
            ],
            "text/html": [
              "<pre style=\"white-space:pre;overflow-x:auto;line-height:normal;font-family:Menlo,'DejaVu Sans Mono',consolas,'Courier New',monospace\">Стев\n",
              "</pre>\n"
            ]
          },
          "metadata": {}
        },
        {
          "output_type": "display_data",
          "data": {
            "text/plain": [
              "Сивкин\n"
            ],
            "text/html": [
              "<pre style=\"white-space:pre;overflow-x:auto;line-height:normal;font-family:Menlo,'DejaVu Sans Mono',consolas,'Courier New',monospace\">Сивкин\n",
              "</pre>\n"
            ]
          },
          "metadata": {}
        },
        {
          "output_type": "display_data",
          "data": {
            "text/plain": [
              "Галаренко\n"
            ],
            "text/html": [
              "<pre style=\"white-space:pre;overflow-x:auto;line-height:normal;font-family:Menlo,'DejaVu Sans Mono',consolas,'Courier New',monospace\">Галаренко\n",
              "</pre>\n"
            ]
          },
          "metadata": {}
        },
        {
          "output_type": "display_data",
          "data": {
            "text/plain": [
              "Пекан\n"
            ],
            "text/html": [
              "<pre style=\"white-space:pre;overflow-x:auto;line-height:normal;font-family:Menlo,'DejaVu Sans Mono',consolas,'Courier New',monospace\">Пекан\n",
              "</pre>\n"
            ]
          },
          "metadata": {}
        },
        {
          "output_type": "display_data",
          "data": {
            "text/plain": [
              "Жахин\n"
            ],
            "text/html": [
              "<pre style=\"white-space:pre;overflow-x:auto;line-height:normal;font-family:Menlo,'DejaVu Sans Mono',consolas,'Courier New',monospace\">Жахин\n",
              "</pre>\n"
            ]
          },
          "metadata": {}
        },
        {
          "output_type": "display_data",
          "data": {
            "text/plain": [
              "Заклутодоркев\n"
            ],
            "text/html": [
              "<pre style=\"white-space:pre;overflow-x:auto;line-height:normal;font-family:Menlo,'DejaVu Sans Mono',consolas,'Courier New',monospace\">Заклутодоркев\n",
              "</pre>\n"
            ]
          },
          "metadata": {}
        },
        {
          "output_type": "display_data",
          "data": {
            "text/plain": [
              "Байарко\n"
            ],
            "text/html": [
              "<pre style=\"white-space:pre;overflow-x:auto;line-height:normal;font-family:Menlo,'DejaVu Sans Mono',consolas,'Courier New',monospace\">Байарко\n",
              "</pre>\n"
            ]
          },
          "metadata": {}
        },
        {
          "output_type": "display_data",
          "data": {
            "text/plain": [
              "Дашищейкисов\n"
            ],
            "text/html": [
              "<pre style=\"white-space:pre;overflow-x:auto;line-height:normal;font-family:Menlo,'DejaVu Sans Mono',consolas,'Courier New',monospace\">Дашищейкисов\n",
              "</pre>\n"
            ]
          },
          "metadata": {}
        },
        {
          "output_type": "display_data",
          "data": {
            "text/plain": [
              "Голроваройлаков\n"
            ],
            "text/html": [
              "<pre style=\"white-space:pre;overflow-x:auto;line-height:normal;font-family:Menlo,'DejaVu Sans Mono',consolas,'Courier New',monospace\">Голроваройлаков\n",
              "</pre>\n"
            ]
          },
          "metadata": {}
        },
        {
          "output_type": "display_data",
          "data": {
            "text/plain": [
              "Волинскирарышевских\n"
            ],
            "text/html": [
              "<pre style=\"white-space:pre;overflow-x:auto;line-height:normal;font-family:Menlo,'DejaVu Sans Mono',consolas,'Courier New',monospace\">Волинскирарышевских\n",
              "</pre>\n"
            ]
          },
          "metadata": {}
        },
        {
          "output_type": "display_data",
          "data": {
            "text/plain": [
              "Степахонов\n"
            ],
            "text/html": [
              "<pre style=\"white-space:pre;overflow-x:auto;line-height:normal;font-family:Menlo,'DejaVu Sans Mono',consolas,'Courier New',monospace\">Степахонов\n",
              "</pre>\n"
            ]
          },
          "metadata": {}
        },
        {
          "output_type": "display_data",
          "data": {
            "text/plain": [
              "Алишгов\n"
            ],
            "text/html": [
              "<pre style=\"white-space:pre;overflow-x:auto;line-height:normal;font-family:Menlo,'DejaVu Sans Mono',consolas,'Courier New',monospace\">Алишгов\n",
              "</pre>\n"
            ]
          },
          "metadata": {}
        },
        {
          "output_type": "display_data",
          "data": {
            "text/plain": [
              "Рышный\n"
            ],
            "text/html": [
              "<pre style=\"white-space:pre;overflow-x:auto;line-height:normal;font-family:Menlo,'DejaVu Sans Mono',consolas,'Courier New',monospace\">Рышный\n",
              "</pre>\n"
            ]
          },
          "metadata": {}
        },
        {
          "output_type": "display_data",
          "data": {
            "text/plain": [
              "Косенов\n"
            ],
            "text/html": [
              "<pre style=\"white-space:pre;overflow-x:auto;line-height:normal;font-family:Menlo,'DejaVu Sans Mono',consolas,'Courier New',monospace\">Косенов\n",
              "</pre>\n"
            ]
          },
          "metadata": {}
        },
        {
          "output_type": "display_data",
          "data": {
            "text/plain": [
              "Холов\n"
            ],
            "text/html": [
              "<pre style=\"white-space:pre;overflow-x:auto;line-height:normal;font-family:Menlo,'DejaVu Sans Mono',consolas,'Courier New',monospace\">Холов\n",
              "</pre>\n"
            ]
          },
          "metadata": {}
        },
        {
          "output_type": "display_data",
          "data": {
            "text/plain": [
              "Канов\n"
            ],
            "text/html": [
              "<pre style=\"white-space:pre;overflow-x:auto;line-height:normal;font-family:Menlo,'DejaVu Sans Mono',consolas,'Courier New',monospace\">Канов\n",
              "</pre>\n"
            ]
          },
          "metadata": {}
        },
        {
          "output_type": "display_data",
          "data": {
            "text/plain": [
              "Вамов\n"
            ],
            "text/html": [
              "<pre style=\"white-space:pre;overflow-x:auto;line-height:normal;font-family:Menlo,'DejaVu Sans Mono',consolas,'Courier New',monospace\">Вамов\n",
              "</pre>\n"
            ]
          },
          "metadata": {}
        },
        {
          "output_type": "display_data",
          "data": {
            "text/plain": [
              "Зобуровский\n"
            ],
            "text/html": [
              "<pre style=\"white-space:pre;overflow-x:auto;line-height:normal;font-family:Menlo,'DejaVu Sans Mono',consolas,'Courier New',monospace\">Зобуровский\n",
              "</pre>\n"
            ]
          },
          "metadata": {}
        },
        {
          "output_type": "display_data",
          "data": {
            "text/plain": [
              "Павлуков\n"
            ],
            "text/html": [
              "<pre style=\"white-space:pre;overflow-x:auto;line-height:normal;font-family:Menlo,'DejaVu Sans Mono',consolas,'Courier New',monospace\">Павлуков\n",
              "</pre>\n"
            ]
          },
          "metadata": {}
        },
        {
          "output_type": "display_data",
          "data": {
            "text/plain": [
              "Шимо\n"
            ],
            "text/html": [
              "<pre style=\"white-space:pre;overflow-x:auto;line-height:normal;font-family:Menlo,'DejaVu Sans Mono',consolas,'Courier New',monospace\">Шимо\n",
              "</pre>\n"
            ]
          },
          "metadata": {}
        },
        {
          "output_type": "display_data",
          "data": {
            "text/plain": [
              "Атыношич\n"
            ],
            "text/html": [
              "<pre style=\"white-space:pre;overflow-x:auto;line-height:normal;font-family:Menlo,'DejaVu Sans Mono',consolas,'Courier New',monospace\">Атыношич\n",
              "</pre>\n"
            ]
          },
          "metadata": {}
        },
        {
          "output_type": "display_data",
          "data": {
            "text/plain": [
              "Швбишенккий\n"
            ],
            "text/html": [
              "<pre style=\"white-space:pre;overflow-x:auto;line-height:normal;font-family:Menlo,'DejaVu Sans Mono',consolas,'Courier New',monospace\">Швбишенккий\n",
              "</pre>\n"
            ]
          },
          "metadata": {}
        },
        {
          "output_type": "display_data",
          "data": {
            "text/plain": [
              "Инькой\n"
            ],
            "text/html": [
              "<pre style=\"white-space:pre;overflow-x:auto;line-height:normal;font-family:Menlo,'DejaVu Sans Mono',consolas,'Courier New',monospace\">Инькой\n",
              "</pre>\n"
            ]
          },
          "metadata": {}
        },
        {
          "output_type": "display_data",
          "data": {
            "text/plain": [
              "Насонюхин\n"
            ],
            "text/html": [
              "<pre style=\"white-space:pre;overflow-x:auto;line-height:normal;font-family:Menlo,'DejaVu Sans Mono',consolas,'Courier New',monospace\">Насонюхин\n",
              "</pre>\n"
            ]
          },
          "metadata": {}
        },
        {
          "output_type": "display_data",
          "data": {
            "text/plain": [
              "Агранель\n"
            ],
            "text/html": [
              "<pre style=\"white-space:pre;overflow-x:auto;line-height:normal;font-family:Menlo,'DejaVu Sans Mono',consolas,'Courier New',monospace\">Агранель\n",
              "</pre>\n"
            ]
          },
          "metadata": {}
        },
        {
          "output_type": "display_data",
          "data": {
            "text/plain": [
              "Гребашев\n"
            ],
            "text/html": [
              "<pre style=\"white-space:pre;overflow-x:auto;line-height:normal;font-family:Menlo,'DejaVu Sans Mono',consolas,'Courier New',monospace\">Гребашев\n",
              "</pre>\n"
            ]
          },
          "metadata": {}
        },
        {
          "output_type": "display_data",
          "data": {
            "text/plain": [
              "Чалы\n"
            ],
            "text/html": [
              "<pre style=\"white-space:pre;overflow-x:auto;line-height:normal;font-family:Menlo,'DejaVu Sans Mono',consolas,'Courier New',monospace\">Чалы\n",
              "</pre>\n"
            ]
          },
          "metadata": {}
        },
        {
          "output_type": "display_data",
          "data": {
            "text/plain": [
              "Сымьякник\n"
            ],
            "text/html": [
              "<pre style=\"white-space:pre;overflow-x:auto;line-height:normal;font-family:Menlo,'DejaVu Sans Mono',consolas,'Courier New',monospace\">Сымьякник\n",
              "</pre>\n"
            ]
          },
          "metadata": {}
        },
        {
          "output_type": "display_data",
          "data": {
            "text/plain": [
              "Копачков\n"
            ],
            "text/html": [
              "<pre style=\"white-space:pre;overflow-x:auto;line-height:normal;font-family:Menlo,'DejaVu Sans Mono',consolas,'Courier New',monospace\">Копачков\n",
              "</pre>\n"
            ]
          },
          "metadata": {}
        }
      ]
    },
    {
      "cell_type": "code",
      "source": [
        "# Creating a DataFrame with a single column \"predicted last names\"\n",
        "import pandas as pd\n",
        "df = pd.DataFrame({\"predicted last names\": predicted_last_names})\n",
        "df\n"
      ],
      "metadata": {
        "colab": {
          "base_uri": "https://localhost:8080/",
          "height": 1000
        },
        "id": "_R7XlUKtyjaN",
        "outputId": "3b75da1a-e079-4792-dca4-683d778d5d59"
      },
      "execution_count": 101,
      "outputs": [
        {
          "output_type": "execute_result",
          "data": {
            "text/plain": [
              "   predicted last names\n",
              "0             Борашунов\n",
              "1                Станый\n",
              "2                 Горов\n",
              "3                 Пинов\n",
              "4    Волостуховакушулов\n",
              "5               Ивастуй\n",
              "6              Размонин\n",
              "7               Селетов\n",
              "8             Родойньюв\n",
              "9                Возбин\n",
              "10                Цыпев\n",
              "11               Нимцев\n",
              "12              Вешенов\n",
              "13           Саровников\n",
              "14                Ершин\n",
              "15        Тарменкороров\n",
              "16                Архов\n",
              "17               Папкин\n",
              "18              Ардреев\n",
              "19                Сенин\n",
              "20            Кепряснов\n",
              "21          Васяленосов\n",
              "22               Неумов\n",
              "23            Егтеньков\n",
              "24        Боладорозскин\n",
              "25               Слуров\n",
              "26              Клянцев\n",
              "27          Свордериков\n",
              "28                Порой\n",
              "29              Кучыров\n",
              "30           Игнаступов\n",
              "31                Шарин\n",
              "32               Циелев\n",
              "33           Сазчокопов\n",
              "34                Шалув\n",
              "35               Гаавов\n",
              "36            Леонинчев\n",
              "37                Хадин\n",
              "38               Белдов\n",
              "39             Пелтикин\n",
              "40              Демуков\n",
              "41             Жиркинюв\n",
              "42               Иванов\n",
              "43            Оснеженко\n",
              "44             Юрекотов\n",
              "45              Жбутипа\n",
              "46       Пусшесанивухов\n",
              "47             Фбосурья\n",
              "48                 Киыт\n",
              "49            Ахрабызин\n",
              "50           Шрреницкий\n",
              "51               Вишкин\n",
              "52                Олеев\n",
              "53             Ярологин\n",
              "54              Халазок\n",
              "55              Вонякин\n",
              "56                Волов\n",
              "57              Орогкин\n",
              "58             Анеличев\n",
              "59           Евоговеров\n",
              "60              Копалов\n",
              "61              Рямаров\n",
              "62            Азанненко\n",
              "63               Пакуев\n",
              "64                Колин\n",
              "65              Кохелов\n",
              "66          Юфумьянибин\n",
              "67             Сознипов\n",
              "68              Амектик\n",
              "69               Солков\n",
              "70        Иророрьринцев\n",
              "71                 Стев\n",
              "72               Сивкин\n",
              "73            Галаренко\n",
              "74                Пекан\n",
              "75                Жахин\n",
              "76        Заклутодоркев\n",
              "77              Байарко\n",
              "78         Дашищейкисов\n",
              "79      Голроваройлаков\n",
              "80  Волинскирарышевских\n",
              "81           Степахонов\n",
              "82              Алишгов\n",
              "83               Рышный\n",
              "84              Косенов\n",
              "85                Холов\n",
              "86                Канов\n",
              "87                Вамов\n",
              "88          Зобуровский\n",
              "89             Павлуков\n",
              "90                 Шимо\n",
              "91             Атыношич\n",
              "92          Швбишенккий\n",
              "93               Инькой\n",
              "94            Насонюхин\n",
              "95             Агранель\n",
              "96             Гребашев\n",
              "97                 Чалы\n",
              "98            Сымьякник\n",
              "99             Копачков"
            ],
            "text/html": [
              "\n",
              "  <div id=\"df-ee516e03-515d-46c2-8703-45d4cde1853d\" class=\"colab-df-container\">\n",
              "    <div>\n",
              "<style scoped>\n",
              "    .dataframe tbody tr th:only-of-type {\n",
              "        vertical-align: middle;\n",
              "    }\n",
              "\n",
              "    .dataframe tbody tr th {\n",
              "        vertical-align: top;\n",
              "    }\n",
              "\n",
              "    .dataframe thead th {\n",
              "        text-align: right;\n",
              "    }\n",
              "</style>\n",
              "<table border=\"1\" class=\"dataframe\">\n",
              "  <thead>\n",
              "    <tr style=\"text-align: right;\">\n",
              "      <th></th>\n",
              "      <th>predicted last names</th>\n",
              "    </tr>\n",
              "  </thead>\n",
              "  <tbody>\n",
              "    <tr>\n",
              "      <th>0</th>\n",
              "      <td>Борашунов</td>\n",
              "    </tr>\n",
              "    <tr>\n",
              "      <th>1</th>\n",
              "      <td>Станый</td>\n",
              "    </tr>\n",
              "    <tr>\n",
              "      <th>2</th>\n",
              "      <td>Горов</td>\n",
              "    </tr>\n",
              "    <tr>\n",
              "      <th>3</th>\n",
              "      <td>Пинов</td>\n",
              "    </tr>\n",
              "    <tr>\n",
              "      <th>4</th>\n",
              "      <td>Волостуховакушулов</td>\n",
              "    </tr>\n",
              "    <tr>\n",
              "      <th>5</th>\n",
              "      <td>Ивастуй</td>\n",
              "    </tr>\n",
              "    <tr>\n",
              "      <th>6</th>\n",
              "      <td>Размонин</td>\n",
              "    </tr>\n",
              "    <tr>\n",
              "      <th>7</th>\n",
              "      <td>Селетов</td>\n",
              "    </tr>\n",
              "    <tr>\n",
              "      <th>8</th>\n",
              "      <td>Родойньюв</td>\n",
              "    </tr>\n",
              "    <tr>\n",
              "      <th>9</th>\n",
              "      <td>Возбин</td>\n",
              "    </tr>\n",
              "    <tr>\n",
              "      <th>10</th>\n",
              "      <td>Цыпев</td>\n",
              "    </tr>\n",
              "    <tr>\n",
              "      <th>11</th>\n",
              "      <td>Нимцев</td>\n",
              "    </tr>\n",
              "    <tr>\n",
              "      <th>12</th>\n",
              "      <td>Вешенов</td>\n",
              "    </tr>\n",
              "    <tr>\n",
              "      <th>13</th>\n",
              "      <td>Саровников</td>\n",
              "    </tr>\n",
              "    <tr>\n",
              "      <th>14</th>\n",
              "      <td>Ершин</td>\n",
              "    </tr>\n",
              "    <tr>\n",
              "      <th>15</th>\n",
              "      <td>Тарменкороров</td>\n",
              "    </tr>\n",
              "    <tr>\n",
              "      <th>16</th>\n",
              "      <td>Архов</td>\n",
              "    </tr>\n",
              "    <tr>\n",
              "      <th>17</th>\n",
              "      <td>Папкин</td>\n",
              "    </tr>\n",
              "    <tr>\n",
              "      <th>18</th>\n",
              "      <td>Ардреев</td>\n",
              "    </tr>\n",
              "    <tr>\n",
              "      <th>19</th>\n",
              "      <td>Сенин</td>\n",
              "    </tr>\n",
              "    <tr>\n",
              "      <th>20</th>\n",
              "      <td>Кепряснов</td>\n",
              "    </tr>\n",
              "    <tr>\n",
              "      <th>21</th>\n",
              "      <td>Васяленосов</td>\n",
              "    </tr>\n",
              "    <tr>\n",
              "      <th>22</th>\n",
              "      <td>Неумов</td>\n",
              "    </tr>\n",
              "    <tr>\n",
              "      <th>23</th>\n",
              "      <td>Егтеньков</td>\n",
              "    </tr>\n",
              "    <tr>\n",
              "      <th>24</th>\n",
              "      <td>Боладорозскин</td>\n",
              "    </tr>\n",
              "    <tr>\n",
              "      <th>25</th>\n",
              "      <td>Слуров</td>\n",
              "    </tr>\n",
              "    <tr>\n",
              "      <th>26</th>\n",
              "      <td>Клянцев</td>\n",
              "    </tr>\n",
              "    <tr>\n",
              "      <th>27</th>\n",
              "      <td>Свордериков</td>\n",
              "    </tr>\n",
              "    <tr>\n",
              "      <th>28</th>\n",
              "      <td>Порой</td>\n",
              "    </tr>\n",
              "    <tr>\n",
              "      <th>29</th>\n",
              "      <td>Кучыров</td>\n",
              "    </tr>\n",
              "    <tr>\n",
              "      <th>30</th>\n",
              "      <td>Игнаступов</td>\n",
              "    </tr>\n",
              "    <tr>\n",
              "      <th>31</th>\n",
              "      <td>Шарин</td>\n",
              "    </tr>\n",
              "    <tr>\n",
              "      <th>32</th>\n",
              "      <td>Циелев</td>\n",
              "    </tr>\n",
              "    <tr>\n",
              "      <th>33</th>\n",
              "      <td>Сазчокопов</td>\n",
              "    </tr>\n",
              "    <tr>\n",
              "      <th>34</th>\n",
              "      <td>Шалув</td>\n",
              "    </tr>\n",
              "    <tr>\n",
              "      <th>35</th>\n",
              "      <td>Гаавов</td>\n",
              "    </tr>\n",
              "    <tr>\n",
              "      <th>36</th>\n",
              "      <td>Леонинчев</td>\n",
              "    </tr>\n",
              "    <tr>\n",
              "      <th>37</th>\n",
              "      <td>Хадин</td>\n",
              "    </tr>\n",
              "    <tr>\n",
              "      <th>38</th>\n",
              "      <td>Белдов</td>\n",
              "    </tr>\n",
              "    <tr>\n",
              "      <th>39</th>\n",
              "      <td>Пелтикин</td>\n",
              "    </tr>\n",
              "    <tr>\n",
              "      <th>40</th>\n",
              "      <td>Демуков</td>\n",
              "    </tr>\n",
              "    <tr>\n",
              "      <th>41</th>\n",
              "      <td>Жиркинюв</td>\n",
              "    </tr>\n",
              "    <tr>\n",
              "      <th>42</th>\n",
              "      <td>Иванов</td>\n",
              "    </tr>\n",
              "    <tr>\n",
              "      <th>43</th>\n",
              "      <td>Оснеженко</td>\n",
              "    </tr>\n",
              "    <tr>\n",
              "      <th>44</th>\n",
              "      <td>Юрекотов</td>\n",
              "    </tr>\n",
              "    <tr>\n",
              "      <th>45</th>\n",
              "      <td>Жбутипа</td>\n",
              "    </tr>\n",
              "    <tr>\n",
              "      <th>46</th>\n",
              "      <td>Пусшесанивухов</td>\n",
              "    </tr>\n",
              "    <tr>\n",
              "      <th>47</th>\n",
              "      <td>Фбосурья</td>\n",
              "    </tr>\n",
              "    <tr>\n",
              "      <th>48</th>\n",
              "      <td>Киыт</td>\n",
              "    </tr>\n",
              "    <tr>\n",
              "      <th>49</th>\n",
              "      <td>Ахрабызин</td>\n",
              "    </tr>\n",
              "    <tr>\n",
              "      <th>50</th>\n",
              "      <td>Шрреницкий</td>\n",
              "    </tr>\n",
              "    <tr>\n",
              "      <th>51</th>\n",
              "      <td>Вишкин</td>\n",
              "    </tr>\n",
              "    <tr>\n",
              "      <th>52</th>\n",
              "      <td>Олеев</td>\n",
              "    </tr>\n",
              "    <tr>\n",
              "      <th>53</th>\n",
              "      <td>Ярологин</td>\n",
              "    </tr>\n",
              "    <tr>\n",
              "      <th>54</th>\n",
              "      <td>Халазок</td>\n",
              "    </tr>\n",
              "    <tr>\n",
              "      <th>55</th>\n",
              "      <td>Вонякин</td>\n",
              "    </tr>\n",
              "    <tr>\n",
              "      <th>56</th>\n",
              "      <td>Волов</td>\n",
              "    </tr>\n",
              "    <tr>\n",
              "      <th>57</th>\n",
              "      <td>Орогкин</td>\n",
              "    </tr>\n",
              "    <tr>\n",
              "      <th>58</th>\n",
              "      <td>Анеличев</td>\n",
              "    </tr>\n",
              "    <tr>\n",
              "      <th>59</th>\n",
              "      <td>Евоговеров</td>\n",
              "    </tr>\n",
              "    <tr>\n",
              "      <th>60</th>\n",
              "      <td>Копалов</td>\n",
              "    </tr>\n",
              "    <tr>\n",
              "      <th>61</th>\n",
              "      <td>Рямаров</td>\n",
              "    </tr>\n",
              "    <tr>\n",
              "      <th>62</th>\n",
              "      <td>Азанненко</td>\n",
              "    </tr>\n",
              "    <tr>\n",
              "      <th>63</th>\n",
              "      <td>Пакуев</td>\n",
              "    </tr>\n",
              "    <tr>\n",
              "      <th>64</th>\n",
              "      <td>Колин</td>\n",
              "    </tr>\n",
              "    <tr>\n",
              "      <th>65</th>\n",
              "      <td>Кохелов</td>\n",
              "    </tr>\n",
              "    <tr>\n",
              "      <th>66</th>\n",
              "      <td>Юфумьянибин</td>\n",
              "    </tr>\n",
              "    <tr>\n",
              "      <th>67</th>\n",
              "      <td>Сознипов</td>\n",
              "    </tr>\n",
              "    <tr>\n",
              "      <th>68</th>\n",
              "      <td>Амектик</td>\n",
              "    </tr>\n",
              "    <tr>\n",
              "      <th>69</th>\n",
              "      <td>Солков</td>\n",
              "    </tr>\n",
              "    <tr>\n",
              "      <th>70</th>\n",
              "      <td>Иророрьринцев</td>\n",
              "    </tr>\n",
              "    <tr>\n",
              "      <th>71</th>\n",
              "      <td>Стев</td>\n",
              "    </tr>\n",
              "    <tr>\n",
              "      <th>72</th>\n",
              "      <td>Сивкин</td>\n",
              "    </tr>\n",
              "    <tr>\n",
              "      <th>73</th>\n",
              "      <td>Галаренко</td>\n",
              "    </tr>\n",
              "    <tr>\n",
              "      <th>74</th>\n",
              "      <td>Пекан</td>\n",
              "    </tr>\n",
              "    <tr>\n",
              "      <th>75</th>\n",
              "      <td>Жахин</td>\n",
              "    </tr>\n",
              "    <tr>\n",
              "      <th>76</th>\n",
              "      <td>Заклутодоркев</td>\n",
              "    </tr>\n",
              "    <tr>\n",
              "      <th>77</th>\n",
              "      <td>Байарко</td>\n",
              "    </tr>\n",
              "    <tr>\n",
              "      <th>78</th>\n",
              "      <td>Дашищейкисов</td>\n",
              "    </tr>\n",
              "    <tr>\n",
              "      <th>79</th>\n",
              "      <td>Голроваройлаков</td>\n",
              "    </tr>\n",
              "    <tr>\n",
              "      <th>80</th>\n",
              "      <td>Волинскирарышевских</td>\n",
              "    </tr>\n",
              "    <tr>\n",
              "      <th>81</th>\n",
              "      <td>Степахонов</td>\n",
              "    </tr>\n",
              "    <tr>\n",
              "      <th>82</th>\n",
              "      <td>Алишгов</td>\n",
              "    </tr>\n",
              "    <tr>\n",
              "      <th>83</th>\n",
              "      <td>Рышный</td>\n",
              "    </tr>\n",
              "    <tr>\n",
              "      <th>84</th>\n",
              "      <td>Косенов</td>\n",
              "    </tr>\n",
              "    <tr>\n",
              "      <th>85</th>\n",
              "      <td>Холов</td>\n",
              "    </tr>\n",
              "    <tr>\n",
              "      <th>86</th>\n",
              "      <td>Канов</td>\n",
              "    </tr>\n",
              "    <tr>\n",
              "      <th>87</th>\n",
              "      <td>Вамов</td>\n",
              "    </tr>\n",
              "    <tr>\n",
              "      <th>88</th>\n",
              "      <td>Зобуровский</td>\n",
              "    </tr>\n",
              "    <tr>\n",
              "      <th>89</th>\n",
              "      <td>Павлуков</td>\n",
              "    </tr>\n",
              "    <tr>\n",
              "      <th>90</th>\n",
              "      <td>Шимо</td>\n",
              "    </tr>\n",
              "    <tr>\n",
              "      <th>91</th>\n",
              "      <td>Атыношич</td>\n",
              "    </tr>\n",
              "    <tr>\n",
              "      <th>92</th>\n",
              "      <td>Швбишенккий</td>\n",
              "    </tr>\n",
              "    <tr>\n",
              "      <th>93</th>\n",
              "      <td>Инькой</td>\n",
              "    </tr>\n",
              "    <tr>\n",
              "      <th>94</th>\n",
              "      <td>Насонюхин</td>\n",
              "    </tr>\n",
              "    <tr>\n",
              "      <th>95</th>\n",
              "      <td>Агранель</td>\n",
              "    </tr>\n",
              "    <tr>\n",
              "      <th>96</th>\n",
              "      <td>Гребашев</td>\n",
              "    </tr>\n",
              "    <tr>\n",
              "      <th>97</th>\n",
              "      <td>Чалы</td>\n",
              "    </tr>\n",
              "    <tr>\n",
              "      <th>98</th>\n",
              "      <td>Сымьякник</td>\n",
              "    </tr>\n",
              "    <tr>\n",
              "      <th>99</th>\n",
              "      <td>Копачков</td>\n",
              "    </tr>\n",
              "  </tbody>\n",
              "</table>\n",
              "</div>\n",
              "    <div class=\"colab-df-buttons\">\n",
              "\n",
              "  <div class=\"colab-df-container\">\n",
              "    <button class=\"colab-df-convert\" onclick=\"convertToInteractive('df-ee516e03-515d-46c2-8703-45d4cde1853d')\"\n",
              "            title=\"Convert this dataframe to an interactive table.\"\n",
              "            style=\"display:none;\">\n",
              "\n",
              "  <svg xmlns=\"http://www.w3.org/2000/svg\" height=\"24px\" viewBox=\"0 -960 960 960\">\n",
              "    <path d=\"M120-120v-720h720v720H120Zm60-500h600v-160H180v160Zm220 220h160v-160H400v160Zm0 220h160v-160H400v160ZM180-400h160v-160H180v160Zm440 0h160v-160H620v160ZM180-180h160v-160H180v160Zm440 0h160v-160H620v160Z\"/>\n",
              "  </svg>\n",
              "    </button>\n",
              "\n",
              "  <style>\n",
              "    .colab-df-container {\n",
              "      display:flex;\n",
              "      gap: 12px;\n",
              "    }\n",
              "\n",
              "    .colab-df-convert {\n",
              "      background-color: #E8F0FE;\n",
              "      border: none;\n",
              "      border-radius: 50%;\n",
              "      cursor: pointer;\n",
              "      display: none;\n",
              "      fill: #1967D2;\n",
              "      height: 32px;\n",
              "      padding: 0 0 0 0;\n",
              "      width: 32px;\n",
              "    }\n",
              "\n",
              "    .colab-df-convert:hover {\n",
              "      background-color: #E2EBFA;\n",
              "      box-shadow: 0px 1px 2px rgba(60, 64, 67, 0.3), 0px 1px 3px 1px rgba(60, 64, 67, 0.15);\n",
              "      fill: #174EA6;\n",
              "    }\n",
              "\n",
              "    .colab-df-buttons div {\n",
              "      margin-bottom: 4px;\n",
              "    }\n",
              "\n",
              "    [theme=dark] .colab-df-convert {\n",
              "      background-color: #3B4455;\n",
              "      fill: #D2E3FC;\n",
              "    }\n",
              "\n",
              "    [theme=dark] .colab-df-convert:hover {\n",
              "      background-color: #434B5C;\n",
              "      box-shadow: 0px 1px 3px 1px rgba(0, 0, 0, 0.15);\n",
              "      filter: drop-shadow(0px 1px 2px rgba(0, 0, 0, 0.3));\n",
              "      fill: #FFFFFF;\n",
              "    }\n",
              "  </style>\n",
              "\n",
              "    <script>\n",
              "      const buttonEl =\n",
              "        document.querySelector('#df-ee516e03-515d-46c2-8703-45d4cde1853d button.colab-df-convert');\n",
              "      buttonEl.style.display =\n",
              "        google.colab.kernel.accessAllowed ? 'block' : 'none';\n",
              "\n",
              "      async function convertToInteractive(key) {\n",
              "        const element = document.querySelector('#df-ee516e03-515d-46c2-8703-45d4cde1853d');\n",
              "        const dataTable =\n",
              "          await google.colab.kernel.invokeFunction('convertToInteractive',\n",
              "                                                    [key], {});\n",
              "        if (!dataTable) return;\n",
              "\n",
              "        const docLinkHtml = 'Like what you see? Visit the ' +\n",
              "          '<a target=\"_blank\" href=https://colab.research.google.com/notebooks/data_table.ipynb>data table notebook</a>'\n",
              "          + ' to learn more about interactive tables.';\n",
              "        element.innerHTML = '';\n",
              "        dataTable['output_type'] = 'display_data';\n",
              "        await google.colab.output.renderOutput(dataTable, element);\n",
              "        const docLink = document.createElement('div');\n",
              "        docLink.innerHTML = docLinkHtml;\n",
              "        element.appendChild(docLink);\n",
              "      }\n",
              "    </script>\n",
              "  </div>\n",
              "\n",
              "\n",
              "<div id=\"df-f6e8cf76-0544-4b61-aa80-0f3822d2003e\">\n",
              "  <button class=\"colab-df-quickchart\" onclick=\"quickchart('df-f6e8cf76-0544-4b61-aa80-0f3822d2003e')\"\n",
              "            title=\"Suggest charts\"\n",
              "            style=\"display:none;\">\n",
              "\n",
              "<svg xmlns=\"http://www.w3.org/2000/svg\" height=\"24px\"viewBox=\"0 0 24 24\"\n",
              "     width=\"24px\">\n",
              "    <g>\n",
              "        <path d=\"M19 3H5c-1.1 0-2 .9-2 2v14c0 1.1.9 2 2 2h14c1.1 0 2-.9 2-2V5c0-1.1-.9-2-2-2zM9 17H7v-7h2v7zm4 0h-2V7h2v10zm4 0h-2v-4h2v4z\"/>\n",
              "    </g>\n",
              "</svg>\n",
              "  </button>\n",
              "\n",
              "<style>\n",
              "  .colab-df-quickchart {\n",
              "      --bg-color: #E8F0FE;\n",
              "      --fill-color: #1967D2;\n",
              "      --hover-bg-color: #E2EBFA;\n",
              "      --hover-fill-color: #174EA6;\n",
              "      --disabled-fill-color: #AAA;\n",
              "      --disabled-bg-color: #DDD;\n",
              "  }\n",
              "\n",
              "  [theme=dark] .colab-df-quickchart {\n",
              "      --bg-color: #3B4455;\n",
              "      --fill-color: #D2E3FC;\n",
              "      --hover-bg-color: #434B5C;\n",
              "      --hover-fill-color: #FFFFFF;\n",
              "      --disabled-bg-color: #3B4455;\n",
              "      --disabled-fill-color: #666;\n",
              "  }\n",
              "\n",
              "  .colab-df-quickchart {\n",
              "    background-color: var(--bg-color);\n",
              "    border: none;\n",
              "    border-radius: 50%;\n",
              "    cursor: pointer;\n",
              "    display: none;\n",
              "    fill: var(--fill-color);\n",
              "    height: 32px;\n",
              "    padding: 0;\n",
              "    width: 32px;\n",
              "  }\n",
              "\n",
              "  .colab-df-quickchart:hover {\n",
              "    background-color: var(--hover-bg-color);\n",
              "    box-shadow: 0 1px 2px rgba(60, 64, 67, 0.3), 0 1px 3px 1px rgba(60, 64, 67, 0.15);\n",
              "    fill: var(--button-hover-fill-color);\n",
              "  }\n",
              "\n",
              "  .colab-df-quickchart-complete:disabled,\n",
              "  .colab-df-quickchart-complete:disabled:hover {\n",
              "    background-color: var(--disabled-bg-color);\n",
              "    fill: var(--disabled-fill-color);\n",
              "    box-shadow: none;\n",
              "  }\n",
              "\n",
              "  .colab-df-spinner {\n",
              "    border: 2px solid var(--fill-color);\n",
              "    border-color: transparent;\n",
              "    border-bottom-color: var(--fill-color);\n",
              "    animation:\n",
              "      spin 1s steps(1) infinite;\n",
              "  }\n",
              "\n",
              "  @keyframes spin {\n",
              "    0% {\n",
              "      border-color: transparent;\n",
              "      border-bottom-color: var(--fill-color);\n",
              "      border-left-color: var(--fill-color);\n",
              "    }\n",
              "    20% {\n",
              "      border-color: transparent;\n",
              "      border-left-color: var(--fill-color);\n",
              "      border-top-color: var(--fill-color);\n",
              "    }\n",
              "    30% {\n",
              "      border-color: transparent;\n",
              "      border-left-color: var(--fill-color);\n",
              "      border-top-color: var(--fill-color);\n",
              "      border-right-color: var(--fill-color);\n",
              "    }\n",
              "    40% {\n",
              "      border-color: transparent;\n",
              "      border-right-color: var(--fill-color);\n",
              "      border-top-color: var(--fill-color);\n",
              "    }\n",
              "    60% {\n",
              "      border-color: transparent;\n",
              "      border-right-color: var(--fill-color);\n",
              "    }\n",
              "    80% {\n",
              "      border-color: transparent;\n",
              "      border-right-color: var(--fill-color);\n",
              "      border-bottom-color: var(--fill-color);\n",
              "    }\n",
              "    90% {\n",
              "      border-color: transparent;\n",
              "      border-bottom-color: var(--fill-color);\n",
              "    }\n",
              "  }\n",
              "</style>\n",
              "\n",
              "  <script>\n",
              "    async function quickchart(key) {\n",
              "      const quickchartButtonEl =\n",
              "        document.querySelector('#' + key + ' button');\n",
              "      quickchartButtonEl.disabled = true;  // To prevent multiple clicks.\n",
              "      quickchartButtonEl.classList.add('colab-df-spinner');\n",
              "      try {\n",
              "        const charts = await google.colab.kernel.invokeFunction(\n",
              "            'suggestCharts', [key], {});\n",
              "      } catch (error) {\n",
              "        console.error('Error during call to suggestCharts:', error);\n",
              "      }\n",
              "      quickchartButtonEl.classList.remove('colab-df-spinner');\n",
              "      quickchartButtonEl.classList.add('colab-df-quickchart-complete');\n",
              "    }\n",
              "    (() => {\n",
              "      let quickchartButtonEl =\n",
              "        document.querySelector('#df-f6e8cf76-0544-4b61-aa80-0f3822d2003e button');\n",
              "      quickchartButtonEl.style.display =\n",
              "        google.colab.kernel.accessAllowed ? 'block' : 'none';\n",
              "    })();\n",
              "  </script>\n",
              "</div>\n",
              "    </div>\n",
              "  </div>\n"
            ],
            "application/vnd.google.colaboratory.intrinsic+json": {
              "type": "dataframe",
              "variable_name": "df",
              "summary": "{\n  \"name\": \"df\",\n  \"rows\": 100,\n  \"fields\": [\n    {\n      \"column\": \"predicted last names\",\n      \"properties\": {\n        \"dtype\": \"string\",\n        \"num_unique_values\": 100,\n        \"samples\": [\n          \"\\u0420\\u044b\\u0448\\u043d\\u044b\\u0439\",\n          \"\\u042f\\u0440\\u043e\\u043b\\u043e\\u0433\\u0438\\u043d\",\n          \"\\u0418\\u0440\\u043e\\u0440\\u043e\\u0440\\u044c\\u0440\\u0438\\u043d\\u0446\\u0435\\u0432\"\n        ],\n        \"semantic_type\": \"\",\n        \"description\": \"\"\n      }\n    }\n  ]\n}"
            }
          },
          "metadata": {},
          "execution_count": 101
        }
      ]
    },
    {
      "cell_type": "code",
      "source": [
        "df.to_csv('predicted_last_names.csv')"
      ],
      "metadata": {
        "id": "AnxUATIk0tLO"
      },
      "execution_count": 102,
      "outputs": []
    },
    {
      "cell_type": "code",
      "source": [
        "# Evaluation 1: The presence of common suffixes in a list of generated last names.\n",
        "#Sample list of suffixes\n",
        "suffixes = [\"ов\", \"ев\", \"ёв\", \"ин\", \"ич\", \"ын\", \"их\", \"ых\", \"ский\", \"цкий\", \"ый\", \"ой\", \"ий\", \"ян\", \"ник\", \"енко\", \"юк\", \"ер\", \"берг\", \"о\"]\n",
        "\n",
        "# Function to check for the presence of suffixes in a generated last name\n",
        "def check_suffixes(last_name):\n",
        "    for suffix in suffixes:\n",
        "        if last_name.endswith(suffix):\n",
        "            return True, suffix\n",
        "    return False, None\n",
        "# The result (True or False) is appended to the suffixes_eval list.\n",
        "suffixes_eval = []\n",
        "for last_name in predicted_last_names:\n",
        "  has_suffix, suffix = check_suffixes(last_name)\n",
        "  suffixes_eval.append(has_suffix)\n",
        "# Calculates the mean of the column, which represents the proportion of last names that contain one of the suffixes.\n",
        "df[\"has_suffix\"] = suffixes_eval\n",
        "df[\"has_suffix\"].mean()\n"
      ],
      "metadata": {
        "colab": {
          "base_uri": "https://localhost:8080/"
        },
        "id": "R49J4v4Wv3UG",
        "outputId": "f607393c-5bf0-4dd6-9c47-2e1bcf68c76e"
      },
      "execution_count": 110,
      "outputs": [
        {
          "output_type": "execute_result",
          "data": {
            "text/plain": [
              "0.88"
            ]
          },
          "metadata": {},
          "execution_count": 110
        }
      ]
    },
    {
      "cell_type": "code",
      "source": [
        "# Evaluation 2: Search generated last names in Google.\n",
        "import requests\n",
        "from bs4 import BeautifulSoup\n",
        "#Specifies the URL of the Google search results page for the query \"NLP\" (example).\n",
        "headers = {\"User-Agent\": \"Mozilla/5.0 (Windows NT 6.1) AppleWebKit/537.36 (KHTML, like Gecko) Chrome/80.0.3987.149 Safari/537.36\"}\n",
        "URL     = \"https://www.google.com/search?q=NLP\"\n",
        "result = requests.get(URL, headers=headers)\n",
        "\n",
        "soup = BeautifulSoup(result.content, 'html.parser')\n",
        "#Finds the <div> element with the id \"result-stats\", which contains the total number of search results.\n",
        "total_results_text = soup.find(\"div\", {\"id\": \"result-stats\"}).find(text=True, recursive=False) # this will give you the outer text which is like 'About 1,410,000,000 results'\n",
        "results_num = ''.join([num for num in total_results_text if num.isdigit()]) # now will clean it up and remove all the characters that are not a number.\n",
        "print(results_num)"
      ],
      "metadata": {
        "colab": {
          "base_uri": "https://localhost:8080/",
          "height": 88
        },
        "id": "8wn7YaPh01e-",
        "outputId": "d2381ded-c766-45f9-db20-a77c22917b84"
      },
      "execution_count": 111,
      "outputs": [
        {
          "output_type": "stream",
          "name": "stderr",
          "text": [
            "<ipython-input-111-1715e0c32507>:11: DeprecationWarning: The 'text' argument to find()-type methods is deprecated. Use 'string' instead.\n",
            "  total_results_text = soup.find(\"div\", {\"id\": \"result-stats\"}).find(text=True, recursive=False) # this will give you the outer text which is like 'About 1,410,000,000 results'\n"
          ]
        },
        {
          "output_type": "display_data",
          "data": {
            "text/plain": [
              "\u001b[1;36m312000000\u001b[0m\n"
            ],
            "text/html": [
              "<pre style=\"white-space:pre;overflow-x:auto;line-height:normal;font-family:Menlo,'DejaVu Sans Mono',consolas,'Courier New',monospace\"><span style=\"color: #008080; text-decoration-color: #008080; font-weight: bold\">312000000</span>\n",
              "</pre>\n"
            ]
          },
          "metadata": {}
        }
      ]
    },
    {
      "cell_type": "code",
      "source": [
        "# A function retrieves the number of search results for a given query name using Google search.\n",
        "def get_num_search(name):\n",
        "  headers = {\"User-Agent\": \"Mozilla/5.0 (Windows NT 6.1) AppleWebKit/537.36 (KHTML, like Gecko) Chrome/80.0.3987.149 Safari/537.36\"}\n",
        "  URL     = \"https://www.google.com/search?q=\" + name\n",
        "#It sends a GET request to the constructed URL and retrieves the HTML content of the search results page. Then, it parses the HTML content using BeautifulSoup.\n",
        "  result = requests.get(URL, headers=headers)\n",
        "  soup = BeautifulSoup(result.content, 'html.parser')\n",
        "# The code is wrapped in a try-except block to handle cases where the total_results_text may not be found (they will be 0).\n",
        "  total_results_text = soup.find(\"div\", {\"id\": \"result-stats\"}).find(text=True, recursive=False) # this will give you the outer text which is like 'About 1,410,000,000 results'\n",
        "  try:\n",
        "    results_num = ''.join([num for num in total_results_text if num.isdigit()]) # now will clean it up and remove all the characters that are not a number .\n",
        "  except:\n",
        "    print(total_results_text)\n",
        "    results_num = 0\n",
        "  return int(results_num)\n",
        "\n"
      ],
      "metadata": {
        "id": "jTKVY_We2FHT"
      },
      "execution_count": 112,
      "outputs": []
    },
    {
      "cell_type": "code",
      "source": [
        "# Iterates through a list of last names called predicted_last_names and retrieves the number of Google search results for each last name.\n",
        "google_search_results = []\n",
        "for last_name in predicted_last_names:\n",
        "  google_search_results.append(get_num_search(last_name))\n"
      ],
      "metadata": {
        "colab": {
          "base_uri": "https://localhost:8080/",
          "height": 184
        },
        "id": "XCidRMz_4WGX",
        "outputId": "440ebfa4-6dbc-4ecd-968b-ecfe9a181419"
      },
      "execution_count": 106,
      "outputs": [
        {
          "output_type": "stream",
          "name": "stderr",
          "text": [
            "<ipython-input-105-dbaf97bea458>:9: DeprecationWarning: The 'text' argument to find()-type methods is deprecated. Use 'string' instead.\n",
            "  total_results_text = soup.find(\"div\", {\"id\": \"result-stats\"}).find(text=True, recursive=False) # this will give you the outer text which is like 'About 1,410,000,000 results'\n"
          ]
        },
        {
          "output_type": "display_data",
          "data": {
            "text/plain": [
              "\u001b[3;35mNone\u001b[0m\n"
            ],
            "text/html": [
              "<pre style=\"white-space:pre;overflow-x:auto;line-height:normal;font-family:Menlo,'DejaVu Sans Mono',consolas,'Courier New',monospace\"><span style=\"color: #800080; text-decoration-color: #800080; font-style: italic\">None</span>\n",
              "</pre>\n"
            ]
          },
          "metadata": {}
        },
        {
          "output_type": "display_data",
          "data": {
            "text/plain": [
              "\u001b[3;35mNone\u001b[0m\n"
            ],
            "text/html": [
              "<pre style=\"white-space:pre;overflow-x:auto;line-height:normal;font-family:Menlo,'DejaVu Sans Mono',consolas,'Courier New',monospace\"><span style=\"color: #800080; text-decoration-color: #800080; font-style: italic\">None</span>\n",
              "</pre>\n"
            ]
          },
          "metadata": {}
        },
        {
          "output_type": "display_data",
          "data": {
            "text/plain": [
              "\u001b[3;35mNone\u001b[0m\n"
            ],
            "text/html": [
              "<pre style=\"white-space:pre;overflow-x:auto;line-height:normal;font-family:Menlo,'DejaVu Sans Mono',consolas,'Courier New',monospace\"><span style=\"color: #800080; text-decoration-color: #800080; font-style: italic\">None</span>\n",
              "</pre>\n"
            ]
          },
          "metadata": {}
        },
        {
          "output_type": "display_data",
          "data": {
            "text/plain": [
              "\u001b[3;35mNone\u001b[0m\n"
            ],
            "text/html": [
              "<pre style=\"white-space:pre;overflow-x:auto;line-height:normal;font-family:Menlo,'DejaVu Sans Mono',consolas,'Courier New',monospace\"><span style=\"color: #800080; text-decoration-color: #800080; font-style: italic\">None</span>\n",
              "</pre>\n"
            ]
          },
          "metadata": {}
        },
        {
          "output_type": "display_data",
          "data": {
            "text/plain": [
              "\u001b[3;35mNone\u001b[0m\n"
            ],
            "text/html": [
              "<pre style=\"white-space:pre;overflow-x:auto;line-height:normal;font-family:Menlo,'DejaVu Sans Mono',consolas,'Courier New',monospace\"><span style=\"color: #800080; text-decoration-color: #800080; font-style: italic\">None</span>\n",
              "</pre>\n"
            ]
          },
          "metadata": {}
        },
        {
          "output_type": "display_data",
          "data": {
            "text/plain": [
              "\u001b[3;35mNone\u001b[0m\n"
            ],
            "text/html": [
              "<pre style=\"white-space:pre;overflow-x:auto;line-height:normal;font-family:Menlo,'DejaVu Sans Mono',consolas,'Courier New',monospace\"><span style=\"color: #800080; text-decoration-color: #800080; font-style: italic\">None</span>\n",
              "</pre>\n"
            ]
          },
          "metadata": {}
        },
        {
          "output_type": "display_data",
          "data": {
            "text/plain": [
              "\u001b[3;35mNone\u001b[0m\n"
            ],
            "text/html": [
              "<pre style=\"white-space:pre;overflow-x:auto;line-height:normal;font-family:Menlo,'DejaVu Sans Mono',consolas,'Courier New',monospace\"><span style=\"color: #800080; text-decoration-color: #800080; font-style: italic\">None</span>\n",
              "</pre>\n"
            ]
          },
          "metadata": {}
        }
      ]
    },
    {
      "cell_type": "code",
      "source": [
        "# Adding a new column named \"google_search_results\" to the DataFrame.\n",
        "df[\"google_search_results\"] = google_search_results\n",
        "pd.set_option(\"display.max_row\", None)\n",
        "df\n"
      ],
      "metadata": {
        "colab": {
          "base_uri": "https://localhost:8080/",
          "height": 1000
        },
        "id": "X07AKVng8u_X",
        "outputId": "3fc876cf-cd5c-4d62-b424-a7a5cb4dbaa7"
      },
      "execution_count": 107,
      "outputs": [
        {
          "output_type": "execute_result",
          "data": {
            "text/plain": [
              "   predicted last names  has_suffix  google_search_results\n",
              "0             Борашунов        True                      0\n",
              "1                Станый        True                   5030\n",
              "2                 Горов        True                 243000\n",
              "3                 Пинов        True               29600000\n",
              "4    Волостуховакушулов        True                      0\n",
              "5               Ивастуй       False                      0\n",
              "6              Размонин        True                      6\n",
              "7               Селетов        True                   8900\n",
              "8             Родойньюв       False                      0\n",
              "9                Возбин        True                     90\n",
              "10                Цыпев        True                      5\n",
              "11               Нимцев        True                    840\n",
              "12              Вешенов        True                      7\n",
              "13           Саровников        True                     61\n",
              "14                Ершин        True                   7820\n",
              "15        Тарменкороров        True                      0\n",
              "16                Архов        True                  19100\n",
              "17               Папкин        True                  68700\n",
              "18              Ардреев        True                    627\n",
              "19                Сенин        True                      0\n",
              "20            Кепряснов        True                      0\n",
              "21          Васяленосов        True                      0\n",
              "22               Неумов        True                    377\n",
              "23            Егтеньков        True                      0\n",
              "24        Боладорозскин        True                      0\n",
              "25               Слуров        True                    149\n",
              "26              Клянцев        True                    702\n",
              "27          Свордериков        True                      0\n",
              "28                Порой        True               56900000\n",
              "29              Кучыров        True                      0\n",
              "30           Игнаступов        True                      0\n",
              "31                Шарин        True                 138000\n",
              "32               Циелев        True                      7\n",
              "33           Сазчокопов        True                      0\n",
              "34                Шалув       False                      0\n",
              "35               Гаавов        True                     10\n",
              "36            Леонинчев        True                      0\n",
              "37                Хадин        True                   6760\n",
              "38               Белдов        True                    800\n",
              "39             Пелтикин        True                      0\n",
              "40              Демуков        True                    627\n",
              "41             Жиркинюв       False                      0\n",
              "42               Иванов        True               50600000\n",
              "43            Оснеженко        True                      0\n",
              "44             Юрекотов        True                      2\n",
              "45              Жбутипа       False                      0\n",
              "46       Пусшесанивухов        True                      0\n",
              "47             Фбосурья       False                      0\n",
              "48                 Киыт       False                    217\n",
              "49            Ахрабызин        True                      0\n",
              "50           Шрреницкий        True                      0\n",
              "51               Вишкин        True                   6400\n",
              "52                Олеев        True                   9160\n",
              "53             Ярологин        True                      0\n",
              "54              Халазок       False                      0\n",
              "55              Вонякин        True                    175\n",
              "56                Волов        True                1210000\n",
              "57              Орогкин        True                      1\n",
              "58             Анеличев        True                      0\n",
              "59           Евоговеров        True                      0\n",
              "60              Копалов        True                  26900\n",
              "61              Рямаров        True                      0\n",
              "62            Азанненко        True                      0\n",
              "63               Пакуев        True                   1500\n",
              "64                Колин        True                4380000\n",
              "65              Кохелов        True                    106\n",
              "66          Юфумьянибин        True                      0\n",
              "67             Сознипов        True                      0\n",
              "68              Амектик       False                      0\n",
              "69               Солков        True                   2720\n",
              "70        Иророрьринцев        True                      0\n",
              "71                 Стев        True                  66100\n",
              "72               Сивкин        True                  12400\n",
              "73            Галаренко        True                      5\n",
              "74                Пекан       False                5310000\n",
              "75                Жахин        True                 144000\n",
              "76        Заклутодоркев        True                      0\n",
              "77              Байарко        True                      0\n",
              "78         Дашищейкисов        True                      1\n",
              "79      Голроваройлаков        True                      0\n",
              "80  Волинскирарышевских        True                      0\n",
              "81           Степахонов        True               11900000\n",
              "82              Алишгов        True                      0\n",
              "83               Рышный        True                   2090\n",
              "84              Косенов        True                 210000\n",
              "85                Холов        True                1200000\n",
              "86                Канов        True                 139000\n",
              "87                Вамов        True                   3510\n",
              "88          Зобуровский        True                      0\n",
              "89             Павлуков        True                    480\n",
              "90                 Шимо        True                3130000\n",
              "91             Атыношич        True                      0\n",
              "92          Швбишенккий        True                      0\n",
              "93               Инькой        True                   1060\n",
              "94            Насонюхин        True                      0\n",
              "95             Агранель       False                     42\n",
              "96             Гребашев        True                      8\n",
              "97                 Чалы       False                      0\n",
              "98            Сымьякник       False                      0\n",
              "99             Копачков        True                   2770"
            ],
            "text/html": [
              "\n",
              "  <div id=\"df-5adb9749-7370-4a25-9f29-36bd49f2c8cd\" class=\"colab-df-container\">\n",
              "    <div>\n",
              "<style scoped>\n",
              "    .dataframe tbody tr th:only-of-type {\n",
              "        vertical-align: middle;\n",
              "    }\n",
              "\n",
              "    .dataframe tbody tr th {\n",
              "        vertical-align: top;\n",
              "    }\n",
              "\n",
              "    .dataframe thead th {\n",
              "        text-align: right;\n",
              "    }\n",
              "</style>\n",
              "<table border=\"1\" class=\"dataframe\">\n",
              "  <thead>\n",
              "    <tr style=\"text-align: right;\">\n",
              "      <th></th>\n",
              "      <th>predicted last names</th>\n",
              "      <th>has_suffix</th>\n",
              "      <th>google_search_results</th>\n",
              "    </tr>\n",
              "  </thead>\n",
              "  <tbody>\n",
              "    <tr>\n",
              "      <th>0</th>\n",
              "      <td>Борашунов</td>\n",
              "      <td>True</td>\n",
              "      <td>0</td>\n",
              "    </tr>\n",
              "    <tr>\n",
              "      <th>1</th>\n",
              "      <td>Станый</td>\n",
              "      <td>True</td>\n",
              "      <td>5030</td>\n",
              "    </tr>\n",
              "    <tr>\n",
              "      <th>2</th>\n",
              "      <td>Горов</td>\n",
              "      <td>True</td>\n",
              "      <td>243000</td>\n",
              "    </tr>\n",
              "    <tr>\n",
              "      <th>3</th>\n",
              "      <td>Пинов</td>\n",
              "      <td>True</td>\n",
              "      <td>29600000</td>\n",
              "    </tr>\n",
              "    <tr>\n",
              "      <th>4</th>\n",
              "      <td>Волостуховакушулов</td>\n",
              "      <td>True</td>\n",
              "      <td>0</td>\n",
              "    </tr>\n",
              "    <tr>\n",
              "      <th>5</th>\n",
              "      <td>Ивастуй</td>\n",
              "      <td>False</td>\n",
              "      <td>0</td>\n",
              "    </tr>\n",
              "    <tr>\n",
              "      <th>6</th>\n",
              "      <td>Размонин</td>\n",
              "      <td>True</td>\n",
              "      <td>6</td>\n",
              "    </tr>\n",
              "    <tr>\n",
              "      <th>7</th>\n",
              "      <td>Селетов</td>\n",
              "      <td>True</td>\n",
              "      <td>8900</td>\n",
              "    </tr>\n",
              "    <tr>\n",
              "      <th>8</th>\n",
              "      <td>Родойньюв</td>\n",
              "      <td>False</td>\n",
              "      <td>0</td>\n",
              "    </tr>\n",
              "    <tr>\n",
              "      <th>9</th>\n",
              "      <td>Возбин</td>\n",
              "      <td>True</td>\n",
              "      <td>90</td>\n",
              "    </tr>\n",
              "    <tr>\n",
              "      <th>10</th>\n",
              "      <td>Цыпев</td>\n",
              "      <td>True</td>\n",
              "      <td>5</td>\n",
              "    </tr>\n",
              "    <tr>\n",
              "      <th>11</th>\n",
              "      <td>Нимцев</td>\n",
              "      <td>True</td>\n",
              "      <td>840</td>\n",
              "    </tr>\n",
              "    <tr>\n",
              "      <th>12</th>\n",
              "      <td>Вешенов</td>\n",
              "      <td>True</td>\n",
              "      <td>7</td>\n",
              "    </tr>\n",
              "    <tr>\n",
              "      <th>13</th>\n",
              "      <td>Саровников</td>\n",
              "      <td>True</td>\n",
              "      <td>61</td>\n",
              "    </tr>\n",
              "    <tr>\n",
              "      <th>14</th>\n",
              "      <td>Ершин</td>\n",
              "      <td>True</td>\n",
              "      <td>7820</td>\n",
              "    </tr>\n",
              "    <tr>\n",
              "      <th>15</th>\n",
              "      <td>Тарменкороров</td>\n",
              "      <td>True</td>\n",
              "      <td>0</td>\n",
              "    </tr>\n",
              "    <tr>\n",
              "      <th>16</th>\n",
              "      <td>Архов</td>\n",
              "      <td>True</td>\n",
              "      <td>19100</td>\n",
              "    </tr>\n",
              "    <tr>\n",
              "      <th>17</th>\n",
              "      <td>Папкин</td>\n",
              "      <td>True</td>\n",
              "      <td>68700</td>\n",
              "    </tr>\n",
              "    <tr>\n",
              "      <th>18</th>\n",
              "      <td>Ардреев</td>\n",
              "      <td>True</td>\n",
              "      <td>627</td>\n",
              "    </tr>\n",
              "    <tr>\n",
              "      <th>19</th>\n",
              "      <td>Сенин</td>\n",
              "      <td>True</td>\n",
              "      <td>0</td>\n",
              "    </tr>\n",
              "    <tr>\n",
              "      <th>20</th>\n",
              "      <td>Кепряснов</td>\n",
              "      <td>True</td>\n",
              "      <td>0</td>\n",
              "    </tr>\n",
              "    <tr>\n",
              "      <th>21</th>\n",
              "      <td>Васяленосов</td>\n",
              "      <td>True</td>\n",
              "      <td>0</td>\n",
              "    </tr>\n",
              "    <tr>\n",
              "      <th>22</th>\n",
              "      <td>Неумов</td>\n",
              "      <td>True</td>\n",
              "      <td>377</td>\n",
              "    </tr>\n",
              "    <tr>\n",
              "      <th>23</th>\n",
              "      <td>Егтеньков</td>\n",
              "      <td>True</td>\n",
              "      <td>0</td>\n",
              "    </tr>\n",
              "    <tr>\n",
              "      <th>24</th>\n",
              "      <td>Боладорозскин</td>\n",
              "      <td>True</td>\n",
              "      <td>0</td>\n",
              "    </tr>\n",
              "    <tr>\n",
              "      <th>25</th>\n",
              "      <td>Слуров</td>\n",
              "      <td>True</td>\n",
              "      <td>149</td>\n",
              "    </tr>\n",
              "    <tr>\n",
              "      <th>26</th>\n",
              "      <td>Клянцев</td>\n",
              "      <td>True</td>\n",
              "      <td>702</td>\n",
              "    </tr>\n",
              "    <tr>\n",
              "      <th>27</th>\n",
              "      <td>Свордериков</td>\n",
              "      <td>True</td>\n",
              "      <td>0</td>\n",
              "    </tr>\n",
              "    <tr>\n",
              "      <th>28</th>\n",
              "      <td>Порой</td>\n",
              "      <td>True</td>\n",
              "      <td>56900000</td>\n",
              "    </tr>\n",
              "    <tr>\n",
              "      <th>29</th>\n",
              "      <td>Кучыров</td>\n",
              "      <td>True</td>\n",
              "      <td>0</td>\n",
              "    </tr>\n",
              "    <tr>\n",
              "      <th>30</th>\n",
              "      <td>Игнаступов</td>\n",
              "      <td>True</td>\n",
              "      <td>0</td>\n",
              "    </tr>\n",
              "    <tr>\n",
              "      <th>31</th>\n",
              "      <td>Шарин</td>\n",
              "      <td>True</td>\n",
              "      <td>138000</td>\n",
              "    </tr>\n",
              "    <tr>\n",
              "      <th>32</th>\n",
              "      <td>Циелев</td>\n",
              "      <td>True</td>\n",
              "      <td>7</td>\n",
              "    </tr>\n",
              "    <tr>\n",
              "      <th>33</th>\n",
              "      <td>Сазчокопов</td>\n",
              "      <td>True</td>\n",
              "      <td>0</td>\n",
              "    </tr>\n",
              "    <tr>\n",
              "      <th>34</th>\n",
              "      <td>Шалув</td>\n",
              "      <td>False</td>\n",
              "      <td>0</td>\n",
              "    </tr>\n",
              "    <tr>\n",
              "      <th>35</th>\n",
              "      <td>Гаавов</td>\n",
              "      <td>True</td>\n",
              "      <td>10</td>\n",
              "    </tr>\n",
              "    <tr>\n",
              "      <th>36</th>\n",
              "      <td>Леонинчев</td>\n",
              "      <td>True</td>\n",
              "      <td>0</td>\n",
              "    </tr>\n",
              "    <tr>\n",
              "      <th>37</th>\n",
              "      <td>Хадин</td>\n",
              "      <td>True</td>\n",
              "      <td>6760</td>\n",
              "    </tr>\n",
              "    <tr>\n",
              "      <th>38</th>\n",
              "      <td>Белдов</td>\n",
              "      <td>True</td>\n",
              "      <td>800</td>\n",
              "    </tr>\n",
              "    <tr>\n",
              "      <th>39</th>\n",
              "      <td>Пелтикин</td>\n",
              "      <td>True</td>\n",
              "      <td>0</td>\n",
              "    </tr>\n",
              "    <tr>\n",
              "      <th>40</th>\n",
              "      <td>Демуков</td>\n",
              "      <td>True</td>\n",
              "      <td>627</td>\n",
              "    </tr>\n",
              "    <tr>\n",
              "      <th>41</th>\n",
              "      <td>Жиркинюв</td>\n",
              "      <td>False</td>\n",
              "      <td>0</td>\n",
              "    </tr>\n",
              "    <tr>\n",
              "      <th>42</th>\n",
              "      <td>Иванов</td>\n",
              "      <td>True</td>\n",
              "      <td>50600000</td>\n",
              "    </tr>\n",
              "    <tr>\n",
              "      <th>43</th>\n",
              "      <td>Оснеженко</td>\n",
              "      <td>True</td>\n",
              "      <td>0</td>\n",
              "    </tr>\n",
              "    <tr>\n",
              "      <th>44</th>\n",
              "      <td>Юрекотов</td>\n",
              "      <td>True</td>\n",
              "      <td>2</td>\n",
              "    </tr>\n",
              "    <tr>\n",
              "      <th>45</th>\n",
              "      <td>Жбутипа</td>\n",
              "      <td>False</td>\n",
              "      <td>0</td>\n",
              "    </tr>\n",
              "    <tr>\n",
              "      <th>46</th>\n",
              "      <td>Пусшесанивухов</td>\n",
              "      <td>True</td>\n",
              "      <td>0</td>\n",
              "    </tr>\n",
              "    <tr>\n",
              "      <th>47</th>\n",
              "      <td>Фбосурья</td>\n",
              "      <td>False</td>\n",
              "      <td>0</td>\n",
              "    </tr>\n",
              "    <tr>\n",
              "      <th>48</th>\n",
              "      <td>Киыт</td>\n",
              "      <td>False</td>\n",
              "      <td>217</td>\n",
              "    </tr>\n",
              "    <tr>\n",
              "      <th>49</th>\n",
              "      <td>Ахрабызин</td>\n",
              "      <td>True</td>\n",
              "      <td>0</td>\n",
              "    </tr>\n",
              "    <tr>\n",
              "      <th>50</th>\n",
              "      <td>Шрреницкий</td>\n",
              "      <td>True</td>\n",
              "      <td>0</td>\n",
              "    </tr>\n",
              "    <tr>\n",
              "      <th>51</th>\n",
              "      <td>Вишкин</td>\n",
              "      <td>True</td>\n",
              "      <td>6400</td>\n",
              "    </tr>\n",
              "    <tr>\n",
              "      <th>52</th>\n",
              "      <td>Олеев</td>\n",
              "      <td>True</td>\n",
              "      <td>9160</td>\n",
              "    </tr>\n",
              "    <tr>\n",
              "      <th>53</th>\n",
              "      <td>Ярологин</td>\n",
              "      <td>True</td>\n",
              "      <td>0</td>\n",
              "    </tr>\n",
              "    <tr>\n",
              "      <th>54</th>\n",
              "      <td>Халазок</td>\n",
              "      <td>False</td>\n",
              "      <td>0</td>\n",
              "    </tr>\n",
              "    <tr>\n",
              "      <th>55</th>\n",
              "      <td>Вонякин</td>\n",
              "      <td>True</td>\n",
              "      <td>175</td>\n",
              "    </tr>\n",
              "    <tr>\n",
              "      <th>56</th>\n",
              "      <td>Волов</td>\n",
              "      <td>True</td>\n",
              "      <td>1210000</td>\n",
              "    </tr>\n",
              "    <tr>\n",
              "      <th>57</th>\n",
              "      <td>Орогкин</td>\n",
              "      <td>True</td>\n",
              "      <td>1</td>\n",
              "    </tr>\n",
              "    <tr>\n",
              "      <th>58</th>\n",
              "      <td>Анеличев</td>\n",
              "      <td>True</td>\n",
              "      <td>0</td>\n",
              "    </tr>\n",
              "    <tr>\n",
              "      <th>59</th>\n",
              "      <td>Евоговеров</td>\n",
              "      <td>True</td>\n",
              "      <td>0</td>\n",
              "    </tr>\n",
              "    <tr>\n",
              "      <th>60</th>\n",
              "      <td>Копалов</td>\n",
              "      <td>True</td>\n",
              "      <td>26900</td>\n",
              "    </tr>\n",
              "    <tr>\n",
              "      <th>61</th>\n",
              "      <td>Рямаров</td>\n",
              "      <td>True</td>\n",
              "      <td>0</td>\n",
              "    </tr>\n",
              "    <tr>\n",
              "      <th>62</th>\n",
              "      <td>Азанненко</td>\n",
              "      <td>True</td>\n",
              "      <td>0</td>\n",
              "    </tr>\n",
              "    <tr>\n",
              "      <th>63</th>\n",
              "      <td>Пакуев</td>\n",
              "      <td>True</td>\n",
              "      <td>1500</td>\n",
              "    </tr>\n",
              "    <tr>\n",
              "      <th>64</th>\n",
              "      <td>Колин</td>\n",
              "      <td>True</td>\n",
              "      <td>4380000</td>\n",
              "    </tr>\n",
              "    <tr>\n",
              "      <th>65</th>\n",
              "      <td>Кохелов</td>\n",
              "      <td>True</td>\n",
              "      <td>106</td>\n",
              "    </tr>\n",
              "    <tr>\n",
              "      <th>66</th>\n",
              "      <td>Юфумьянибин</td>\n",
              "      <td>True</td>\n",
              "      <td>0</td>\n",
              "    </tr>\n",
              "    <tr>\n",
              "      <th>67</th>\n",
              "      <td>Сознипов</td>\n",
              "      <td>True</td>\n",
              "      <td>0</td>\n",
              "    </tr>\n",
              "    <tr>\n",
              "      <th>68</th>\n",
              "      <td>Амектик</td>\n",
              "      <td>False</td>\n",
              "      <td>0</td>\n",
              "    </tr>\n",
              "    <tr>\n",
              "      <th>69</th>\n",
              "      <td>Солков</td>\n",
              "      <td>True</td>\n",
              "      <td>2720</td>\n",
              "    </tr>\n",
              "    <tr>\n",
              "      <th>70</th>\n",
              "      <td>Иророрьринцев</td>\n",
              "      <td>True</td>\n",
              "      <td>0</td>\n",
              "    </tr>\n",
              "    <tr>\n",
              "      <th>71</th>\n",
              "      <td>Стев</td>\n",
              "      <td>True</td>\n",
              "      <td>66100</td>\n",
              "    </tr>\n",
              "    <tr>\n",
              "      <th>72</th>\n",
              "      <td>Сивкин</td>\n",
              "      <td>True</td>\n",
              "      <td>12400</td>\n",
              "    </tr>\n",
              "    <tr>\n",
              "      <th>73</th>\n",
              "      <td>Галаренко</td>\n",
              "      <td>True</td>\n",
              "      <td>5</td>\n",
              "    </tr>\n",
              "    <tr>\n",
              "      <th>74</th>\n",
              "      <td>Пекан</td>\n",
              "      <td>False</td>\n",
              "      <td>5310000</td>\n",
              "    </tr>\n",
              "    <tr>\n",
              "      <th>75</th>\n",
              "      <td>Жахин</td>\n",
              "      <td>True</td>\n",
              "      <td>144000</td>\n",
              "    </tr>\n",
              "    <tr>\n",
              "      <th>76</th>\n",
              "      <td>Заклутодоркев</td>\n",
              "      <td>True</td>\n",
              "      <td>0</td>\n",
              "    </tr>\n",
              "    <tr>\n",
              "      <th>77</th>\n",
              "      <td>Байарко</td>\n",
              "      <td>True</td>\n",
              "      <td>0</td>\n",
              "    </tr>\n",
              "    <tr>\n",
              "      <th>78</th>\n",
              "      <td>Дашищейкисов</td>\n",
              "      <td>True</td>\n",
              "      <td>1</td>\n",
              "    </tr>\n",
              "    <tr>\n",
              "      <th>79</th>\n",
              "      <td>Голроваройлаков</td>\n",
              "      <td>True</td>\n",
              "      <td>0</td>\n",
              "    </tr>\n",
              "    <tr>\n",
              "      <th>80</th>\n",
              "      <td>Волинскирарышевских</td>\n",
              "      <td>True</td>\n",
              "      <td>0</td>\n",
              "    </tr>\n",
              "    <tr>\n",
              "      <th>81</th>\n",
              "      <td>Степахонов</td>\n",
              "      <td>True</td>\n",
              "      <td>11900000</td>\n",
              "    </tr>\n",
              "    <tr>\n",
              "      <th>82</th>\n",
              "      <td>Алишгов</td>\n",
              "      <td>True</td>\n",
              "      <td>0</td>\n",
              "    </tr>\n",
              "    <tr>\n",
              "      <th>83</th>\n",
              "      <td>Рышный</td>\n",
              "      <td>True</td>\n",
              "      <td>2090</td>\n",
              "    </tr>\n",
              "    <tr>\n",
              "      <th>84</th>\n",
              "      <td>Косенов</td>\n",
              "      <td>True</td>\n",
              "      <td>210000</td>\n",
              "    </tr>\n",
              "    <tr>\n",
              "      <th>85</th>\n",
              "      <td>Холов</td>\n",
              "      <td>True</td>\n",
              "      <td>1200000</td>\n",
              "    </tr>\n",
              "    <tr>\n",
              "      <th>86</th>\n",
              "      <td>Канов</td>\n",
              "      <td>True</td>\n",
              "      <td>139000</td>\n",
              "    </tr>\n",
              "    <tr>\n",
              "      <th>87</th>\n",
              "      <td>Вамов</td>\n",
              "      <td>True</td>\n",
              "      <td>3510</td>\n",
              "    </tr>\n",
              "    <tr>\n",
              "      <th>88</th>\n",
              "      <td>Зобуровский</td>\n",
              "      <td>True</td>\n",
              "      <td>0</td>\n",
              "    </tr>\n",
              "    <tr>\n",
              "      <th>89</th>\n",
              "      <td>Павлуков</td>\n",
              "      <td>True</td>\n",
              "      <td>480</td>\n",
              "    </tr>\n",
              "    <tr>\n",
              "      <th>90</th>\n",
              "      <td>Шимо</td>\n",
              "      <td>True</td>\n",
              "      <td>3130000</td>\n",
              "    </tr>\n",
              "    <tr>\n",
              "      <th>91</th>\n",
              "      <td>Атыношич</td>\n",
              "      <td>True</td>\n",
              "      <td>0</td>\n",
              "    </tr>\n",
              "    <tr>\n",
              "      <th>92</th>\n",
              "      <td>Швбишенккий</td>\n",
              "      <td>True</td>\n",
              "      <td>0</td>\n",
              "    </tr>\n",
              "    <tr>\n",
              "      <th>93</th>\n",
              "      <td>Инькой</td>\n",
              "      <td>True</td>\n",
              "      <td>1060</td>\n",
              "    </tr>\n",
              "    <tr>\n",
              "      <th>94</th>\n",
              "      <td>Насонюхин</td>\n",
              "      <td>True</td>\n",
              "      <td>0</td>\n",
              "    </tr>\n",
              "    <tr>\n",
              "      <th>95</th>\n",
              "      <td>Агранель</td>\n",
              "      <td>False</td>\n",
              "      <td>42</td>\n",
              "    </tr>\n",
              "    <tr>\n",
              "      <th>96</th>\n",
              "      <td>Гребашев</td>\n",
              "      <td>True</td>\n",
              "      <td>8</td>\n",
              "    </tr>\n",
              "    <tr>\n",
              "      <th>97</th>\n",
              "      <td>Чалы</td>\n",
              "      <td>False</td>\n",
              "      <td>0</td>\n",
              "    </tr>\n",
              "    <tr>\n",
              "      <th>98</th>\n",
              "      <td>Сымьякник</td>\n",
              "      <td>False</td>\n",
              "      <td>0</td>\n",
              "    </tr>\n",
              "    <tr>\n",
              "      <th>99</th>\n",
              "      <td>Копачков</td>\n",
              "      <td>True</td>\n",
              "      <td>2770</td>\n",
              "    </tr>\n",
              "  </tbody>\n",
              "</table>\n",
              "</div>\n",
              "    <div class=\"colab-df-buttons\">\n",
              "\n",
              "  <div class=\"colab-df-container\">\n",
              "    <button class=\"colab-df-convert\" onclick=\"convertToInteractive('df-5adb9749-7370-4a25-9f29-36bd49f2c8cd')\"\n",
              "            title=\"Convert this dataframe to an interactive table.\"\n",
              "            style=\"display:none;\">\n",
              "\n",
              "  <svg xmlns=\"http://www.w3.org/2000/svg\" height=\"24px\" viewBox=\"0 -960 960 960\">\n",
              "    <path d=\"M120-120v-720h720v720H120Zm60-500h600v-160H180v160Zm220 220h160v-160H400v160Zm0 220h160v-160H400v160ZM180-400h160v-160H180v160Zm440 0h160v-160H620v160ZM180-180h160v-160H180v160Zm440 0h160v-160H620v160Z\"/>\n",
              "  </svg>\n",
              "    </button>\n",
              "\n",
              "  <style>\n",
              "    .colab-df-container {\n",
              "      display:flex;\n",
              "      gap: 12px;\n",
              "    }\n",
              "\n",
              "    .colab-df-convert {\n",
              "      background-color: #E8F0FE;\n",
              "      border: none;\n",
              "      border-radius: 50%;\n",
              "      cursor: pointer;\n",
              "      display: none;\n",
              "      fill: #1967D2;\n",
              "      height: 32px;\n",
              "      padding: 0 0 0 0;\n",
              "      width: 32px;\n",
              "    }\n",
              "\n",
              "    .colab-df-convert:hover {\n",
              "      background-color: #E2EBFA;\n",
              "      box-shadow: 0px 1px 2px rgba(60, 64, 67, 0.3), 0px 1px 3px 1px rgba(60, 64, 67, 0.15);\n",
              "      fill: #174EA6;\n",
              "    }\n",
              "\n",
              "    .colab-df-buttons div {\n",
              "      margin-bottom: 4px;\n",
              "    }\n",
              "\n",
              "    [theme=dark] .colab-df-convert {\n",
              "      background-color: #3B4455;\n",
              "      fill: #D2E3FC;\n",
              "    }\n",
              "\n",
              "    [theme=dark] .colab-df-convert:hover {\n",
              "      background-color: #434B5C;\n",
              "      box-shadow: 0px 1px 3px 1px rgba(0, 0, 0, 0.15);\n",
              "      filter: drop-shadow(0px 1px 2px rgba(0, 0, 0, 0.3));\n",
              "      fill: #FFFFFF;\n",
              "    }\n",
              "  </style>\n",
              "\n",
              "    <script>\n",
              "      const buttonEl =\n",
              "        document.querySelector('#df-5adb9749-7370-4a25-9f29-36bd49f2c8cd button.colab-df-convert');\n",
              "      buttonEl.style.display =\n",
              "        google.colab.kernel.accessAllowed ? 'block' : 'none';\n",
              "\n",
              "      async function convertToInteractive(key) {\n",
              "        const element = document.querySelector('#df-5adb9749-7370-4a25-9f29-36bd49f2c8cd');\n",
              "        const dataTable =\n",
              "          await google.colab.kernel.invokeFunction('convertToInteractive',\n",
              "                                                    [key], {});\n",
              "        if (!dataTable) return;\n",
              "\n",
              "        const docLinkHtml = 'Like what you see? Visit the ' +\n",
              "          '<a target=\"_blank\" href=https://colab.research.google.com/notebooks/data_table.ipynb>data table notebook</a>'\n",
              "          + ' to learn more about interactive tables.';\n",
              "        element.innerHTML = '';\n",
              "        dataTable['output_type'] = 'display_data';\n",
              "        await google.colab.output.renderOutput(dataTable, element);\n",
              "        const docLink = document.createElement('div');\n",
              "        docLink.innerHTML = docLinkHtml;\n",
              "        element.appendChild(docLink);\n",
              "      }\n",
              "    </script>\n",
              "  </div>\n",
              "\n",
              "\n",
              "<div id=\"df-e62aa6be-2e6e-4a69-8c47-2a6c5287c0bc\">\n",
              "  <button class=\"colab-df-quickchart\" onclick=\"quickchart('df-e62aa6be-2e6e-4a69-8c47-2a6c5287c0bc')\"\n",
              "            title=\"Suggest charts\"\n",
              "            style=\"display:none;\">\n",
              "\n",
              "<svg xmlns=\"http://www.w3.org/2000/svg\" height=\"24px\"viewBox=\"0 0 24 24\"\n",
              "     width=\"24px\">\n",
              "    <g>\n",
              "        <path d=\"M19 3H5c-1.1 0-2 .9-2 2v14c0 1.1.9 2 2 2h14c1.1 0 2-.9 2-2V5c0-1.1-.9-2-2-2zM9 17H7v-7h2v7zm4 0h-2V7h2v10zm4 0h-2v-4h2v4z\"/>\n",
              "    </g>\n",
              "</svg>\n",
              "  </button>\n",
              "\n",
              "<style>\n",
              "  .colab-df-quickchart {\n",
              "      --bg-color: #E8F0FE;\n",
              "      --fill-color: #1967D2;\n",
              "      --hover-bg-color: #E2EBFA;\n",
              "      --hover-fill-color: #174EA6;\n",
              "      --disabled-fill-color: #AAA;\n",
              "      --disabled-bg-color: #DDD;\n",
              "  }\n",
              "\n",
              "  [theme=dark] .colab-df-quickchart {\n",
              "      --bg-color: #3B4455;\n",
              "      --fill-color: #D2E3FC;\n",
              "      --hover-bg-color: #434B5C;\n",
              "      --hover-fill-color: #FFFFFF;\n",
              "      --disabled-bg-color: #3B4455;\n",
              "      --disabled-fill-color: #666;\n",
              "  }\n",
              "\n",
              "  .colab-df-quickchart {\n",
              "    background-color: var(--bg-color);\n",
              "    border: none;\n",
              "    border-radius: 50%;\n",
              "    cursor: pointer;\n",
              "    display: none;\n",
              "    fill: var(--fill-color);\n",
              "    height: 32px;\n",
              "    padding: 0;\n",
              "    width: 32px;\n",
              "  }\n",
              "\n",
              "  .colab-df-quickchart:hover {\n",
              "    background-color: var(--hover-bg-color);\n",
              "    box-shadow: 0 1px 2px rgba(60, 64, 67, 0.3), 0 1px 3px 1px rgba(60, 64, 67, 0.15);\n",
              "    fill: var(--button-hover-fill-color);\n",
              "  }\n",
              "\n",
              "  .colab-df-quickchart-complete:disabled,\n",
              "  .colab-df-quickchart-complete:disabled:hover {\n",
              "    background-color: var(--disabled-bg-color);\n",
              "    fill: var(--disabled-fill-color);\n",
              "    box-shadow: none;\n",
              "  }\n",
              "\n",
              "  .colab-df-spinner {\n",
              "    border: 2px solid var(--fill-color);\n",
              "    border-color: transparent;\n",
              "    border-bottom-color: var(--fill-color);\n",
              "    animation:\n",
              "      spin 1s steps(1) infinite;\n",
              "  }\n",
              "\n",
              "  @keyframes spin {\n",
              "    0% {\n",
              "      border-color: transparent;\n",
              "      border-bottom-color: var(--fill-color);\n",
              "      border-left-color: var(--fill-color);\n",
              "    }\n",
              "    20% {\n",
              "      border-color: transparent;\n",
              "      border-left-color: var(--fill-color);\n",
              "      border-top-color: var(--fill-color);\n",
              "    }\n",
              "    30% {\n",
              "      border-color: transparent;\n",
              "      border-left-color: var(--fill-color);\n",
              "      border-top-color: var(--fill-color);\n",
              "      border-right-color: var(--fill-color);\n",
              "    }\n",
              "    40% {\n",
              "      border-color: transparent;\n",
              "      border-right-color: var(--fill-color);\n",
              "      border-top-color: var(--fill-color);\n",
              "    }\n",
              "    60% {\n",
              "      border-color: transparent;\n",
              "      border-right-color: var(--fill-color);\n",
              "    }\n",
              "    80% {\n",
              "      border-color: transparent;\n",
              "      border-right-color: var(--fill-color);\n",
              "      border-bottom-color: var(--fill-color);\n",
              "    }\n",
              "    90% {\n",
              "      border-color: transparent;\n",
              "      border-bottom-color: var(--fill-color);\n",
              "    }\n",
              "  }\n",
              "</style>\n",
              "\n",
              "  <script>\n",
              "    async function quickchart(key) {\n",
              "      const quickchartButtonEl =\n",
              "        document.querySelector('#' + key + ' button');\n",
              "      quickchartButtonEl.disabled = true;  // To prevent multiple clicks.\n",
              "      quickchartButtonEl.classList.add('colab-df-spinner');\n",
              "      try {\n",
              "        const charts = await google.colab.kernel.invokeFunction(\n",
              "            'suggestCharts', [key], {});\n",
              "      } catch (error) {\n",
              "        console.error('Error during call to suggestCharts:', error);\n",
              "      }\n",
              "      quickchartButtonEl.classList.remove('colab-df-spinner');\n",
              "      quickchartButtonEl.classList.add('colab-df-quickchart-complete');\n",
              "    }\n",
              "    (() => {\n",
              "      let quickchartButtonEl =\n",
              "        document.querySelector('#df-e62aa6be-2e6e-4a69-8c47-2a6c5287c0bc button');\n",
              "      quickchartButtonEl.style.display =\n",
              "        google.colab.kernel.accessAllowed ? 'block' : 'none';\n",
              "    })();\n",
              "  </script>\n",
              "</div>\n",
              "    </div>\n",
              "  </div>\n"
            ],
            "application/vnd.google.colaboratory.intrinsic+json": {
              "type": "dataframe",
              "variable_name": "df",
              "summary": "{\n  \"name\": \"df\",\n  \"rows\": 100,\n  \"fields\": [\n    {\n      \"column\": \"predicted last names\",\n      \"properties\": {\n        \"dtype\": \"string\",\n        \"num_unique_values\": 100,\n        \"samples\": [\n          \"\\u0420\\u044b\\u0448\\u043d\\u044b\\u0439\",\n          \"\\u042f\\u0440\\u043e\\u043b\\u043e\\u0433\\u0438\\u043d\",\n          \"\\u0418\\u0440\\u043e\\u0440\\u043e\\u0440\\u044c\\u0440\\u0438\\u043d\\u0446\\u0435\\u0432\"\n        ],\n        \"semantic_type\": \"\",\n        \"description\": \"\"\n      }\n    },\n    {\n      \"column\": \"has_suffix\",\n      \"properties\": {\n        \"dtype\": \"boolean\",\n        \"num_unique_values\": 2,\n        \"samples\": [\n          false,\n          true\n        ],\n        \"semantic_type\": \"\",\n        \"description\": \"\"\n      }\n    },\n    {\n      \"column\": \"google_search_results\",\n      \"properties\": {\n        \"dtype\": \"number\",\n        \"std\": 8166545,\n        \"min\": 0,\n        \"max\": 56900000,\n        \"num_unique_values\": 52,\n        \"samples\": [\n          138000,\n          2090\n        ],\n        \"semantic_type\": \"\",\n        \"description\": \"\"\n      }\n    }\n  ]\n}"
            }
          },
          "metadata": {},
          "execution_count": 107
        }
      ]
    },
    {
      "cell_type": "code",
      "source": [
        "# New column \"searches_exceed_1000\" with Boolean values indicating whether the corresponding number of Google search results is greater than or equal to 1000 for each last name.\n",
        "df[\"searches_exceed_1000\"] = df[\"google_search_results\"]>=1000\n",
        "df"
      ],
      "metadata": {
        "colab": {
          "base_uri": "https://localhost:8080/",
          "height": 1000
        },
        "id": "bcAoMO7p95xB",
        "outputId": "02f0fa79-48e7-4370-ffd8-664aaef259d0"
      },
      "execution_count": 108,
      "outputs": [
        {
          "output_type": "execute_result",
          "data": {
            "text/plain": [
              "   predicted last names  has_suffix  google_search_results  \\\n",
              "0             Борашунов        True                      0   \n",
              "1                Станый        True                   5030   \n",
              "2                 Горов        True                 243000   \n",
              "3                 Пинов        True               29600000   \n",
              "4    Волостуховакушулов        True                      0   \n",
              "5               Ивастуй       False                      0   \n",
              "6              Размонин        True                      6   \n",
              "7               Селетов        True                   8900   \n",
              "8             Родойньюв       False                      0   \n",
              "9                Возбин        True                     90   \n",
              "10                Цыпев        True                      5   \n",
              "11               Нимцев        True                    840   \n",
              "12              Вешенов        True                      7   \n",
              "13           Саровников        True                     61   \n",
              "14                Ершин        True                   7820   \n",
              "15        Тарменкороров        True                      0   \n",
              "16                Архов        True                  19100   \n",
              "17               Папкин        True                  68700   \n",
              "18              Ардреев        True                    627   \n",
              "19                Сенин        True                      0   \n",
              "20            Кепряснов        True                      0   \n",
              "21          Васяленосов        True                      0   \n",
              "22               Неумов        True                    377   \n",
              "23            Егтеньков        True                      0   \n",
              "24        Боладорозскин        True                      0   \n",
              "25               Слуров        True                    149   \n",
              "26              Клянцев        True                    702   \n",
              "27          Свордериков        True                      0   \n",
              "28                Порой        True               56900000   \n",
              "29              Кучыров        True                      0   \n",
              "30           Игнаступов        True                      0   \n",
              "31                Шарин        True                 138000   \n",
              "32               Циелев        True                      7   \n",
              "33           Сазчокопов        True                      0   \n",
              "34                Шалув       False                      0   \n",
              "35               Гаавов        True                     10   \n",
              "36            Леонинчев        True                      0   \n",
              "37                Хадин        True                   6760   \n",
              "38               Белдов        True                    800   \n",
              "39             Пелтикин        True                      0   \n",
              "40              Демуков        True                    627   \n",
              "41             Жиркинюв       False                      0   \n",
              "42               Иванов        True               50600000   \n",
              "43            Оснеженко        True                      0   \n",
              "44             Юрекотов        True                      2   \n",
              "45              Жбутипа       False                      0   \n",
              "46       Пусшесанивухов        True                      0   \n",
              "47             Фбосурья       False                      0   \n",
              "48                 Киыт       False                    217   \n",
              "49            Ахрабызин        True                      0   \n",
              "50           Шрреницкий        True                      0   \n",
              "51               Вишкин        True                   6400   \n",
              "52                Олеев        True                   9160   \n",
              "53             Ярологин        True                      0   \n",
              "54              Халазок       False                      0   \n",
              "55              Вонякин        True                    175   \n",
              "56                Волов        True                1210000   \n",
              "57              Орогкин        True                      1   \n",
              "58             Анеличев        True                      0   \n",
              "59           Евоговеров        True                      0   \n",
              "60              Копалов        True                  26900   \n",
              "61              Рямаров        True                      0   \n",
              "62            Азанненко        True                      0   \n",
              "63               Пакуев        True                   1500   \n",
              "64                Колин        True                4380000   \n",
              "65              Кохелов        True                    106   \n",
              "66          Юфумьянибин        True                      0   \n",
              "67             Сознипов        True                      0   \n",
              "68              Амектик       False                      0   \n",
              "69               Солков        True                   2720   \n",
              "70        Иророрьринцев        True                      0   \n",
              "71                 Стев        True                  66100   \n",
              "72               Сивкин        True                  12400   \n",
              "73            Галаренко        True                      5   \n",
              "74                Пекан       False                5310000   \n",
              "75                Жахин        True                 144000   \n",
              "76        Заклутодоркев        True                      0   \n",
              "77              Байарко        True                      0   \n",
              "78         Дашищейкисов        True                      1   \n",
              "79      Голроваройлаков        True                      0   \n",
              "80  Волинскирарышевских        True                      0   \n",
              "81           Степахонов        True               11900000   \n",
              "82              Алишгов        True                      0   \n",
              "83               Рышный        True                   2090   \n",
              "84              Косенов        True                 210000   \n",
              "85                Холов        True                1200000   \n",
              "86                Канов        True                 139000   \n",
              "87                Вамов        True                   3510   \n",
              "88          Зобуровский        True                      0   \n",
              "89             Павлуков        True                    480   \n",
              "90                 Шимо        True                3130000   \n",
              "91             Атыношич        True                      0   \n",
              "92          Швбишенккий        True                      0   \n",
              "93               Инькой        True                   1060   \n",
              "94            Насонюхин        True                      0   \n",
              "95             Агранель       False                     42   \n",
              "96             Гребашев        True                      8   \n",
              "97                 Чалы       False                      0   \n",
              "98            Сымьякник       False                      0   \n",
              "99             Копачков        True                   2770   \n",
              "\n",
              "    searches_exceed_1000  \n",
              "0                  False  \n",
              "1                   True  \n",
              "2                   True  \n",
              "3                   True  \n",
              "4                  False  \n",
              "5                  False  \n",
              "6                  False  \n",
              "7                   True  \n",
              "8                  False  \n",
              "9                  False  \n",
              "10                 False  \n",
              "11                 False  \n",
              "12                 False  \n",
              "13                 False  \n",
              "14                  True  \n",
              "15                 False  \n",
              "16                  True  \n",
              "17                  True  \n",
              "18                 False  \n",
              "19                 False  \n",
              "20                 False  \n",
              "21                 False  \n",
              "22                 False  \n",
              "23                 False  \n",
              "24                 False  \n",
              "25                 False  \n",
              "26                 False  \n",
              "27                 False  \n",
              "28                  True  \n",
              "29                 False  \n",
              "30                 False  \n",
              "31                  True  \n",
              "32                 False  \n",
              "33                 False  \n",
              "34                 False  \n",
              "35                 False  \n",
              "36                 False  \n",
              "37                  True  \n",
              "38                 False  \n",
              "39                 False  \n",
              "40                 False  \n",
              "41                 False  \n",
              "42                  True  \n",
              "43                 False  \n",
              "44                 False  \n",
              "45                 False  \n",
              "46                 False  \n",
              "47                 False  \n",
              "48                 False  \n",
              "49                 False  \n",
              "50                 False  \n",
              "51                  True  \n",
              "52                  True  \n",
              "53                 False  \n",
              "54                 False  \n",
              "55                 False  \n",
              "56                  True  \n",
              "57                 False  \n",
              "58                 False  \n",
              "59                 False  \n",
              "60                  True  \n",
              "61                 False  \n",
              "62                 False  \n",
              "63                  True  \n",
              "64                  True  \n",
              "65                 False  \n",
              "66                 False  \n",
              "67                 False  \n",
              "68                 False  \n",
              "69                  True  \n",
              "70                 False  \n",
              "71                  True  \n",
              "72                  True  \n",
              "73                 False  \n",
              "74                  True  \n",
              "75                  True  \n",
              "76                 False  \n",
              "77                 False  \n",
              "78                 False  \n",
              "79                 False  \n",
              "80                 False  \n",
              "81                  True  \n",
              "82                 False  \n",
              "83                  True  \n",
              "84                  True  \n",
              "85                  True  \n",
              "86                  True  \n",
              "87                  True  \n",
              "88                 False  \n",
              "89                 False  \n",
              "90                  True  \n",
              "91                 False  \n",
              "92                 False  \n",
              "93                  True  \n",
              "94                 False  \n",
              "95                 False  \n",
              "96                 False  \n",
              "97                 False  \n",
              "98                 False  \n",
              "99                  True  "
            ],
            "text/html": [
              "\n",
              "  <div id=\"df-6558159a-8286-4d15-9cd7-eb2c7aa2e2ad\" class=\"colab-df-container\">\n",
              "    <div>\n",
              "<style scoped>\n",
              "    .dataframe tbody tr th:only-of-type {\n",
              "        vertical-align: middle;\n",
              "    }\n",
              "\n",
              "    .dataframe tbody tr th {\n",
              "        vertical-align: top;\n",
              "    }\n",
              "\n",
              "    .dataframe thead th {\n",
              "        text-align: right;\n",
              "    }\n",
              "</style>\n",
              "<table border=\"1\" class=\"dataframe\">\n",
              "  <thead>\n",
              "    <tr style=\"text-align: right;\">\n",
              "      <th></th>\n",
              "      <th>predicted last names</th>\n",
              "      <th>has_suffix</th>\n",
              "      <th>google_search_results</th>\n",
              "      <th>searches_exceed_1000</th>\n",
              "    </tr>\n",
              "  </thead>\n",
              "  <tbody>\n",
              "    <tr>\n",
              "      <th>0</th>\n",
              "      <td>Борашунов</td>\n",
              "      <td>True</td>\n",
              "      <td>0</td>\n",
              "      <td>False</td>\n",
              "    </tr>\n",
              "    <tr>\n",
              "      <th>1</th>\n",
              "      <td>Станый</td>\n",
              "      <td>True</td>\n",
              "      <td>5030</td>\n",
              "      <td>True</td>\n",
              "    </tr>\n",
              "    <tr>\n",
              "      <th>2</th>\n",
              "      <td>Горов</td>\n",
              "      <td>True</td>\n",
              "      <td>243000</td>\n",
              "      <td>True</td>\n",
              "    </tr>\n",
              "    <tr>\n",
              "      <th>3</th>\n",
              "      <td>Пинов</td>\n",
              "      <td>True</td>\n",
              "      <td>29600000</td>\n",
              "      <td>True</td>\n",
              "    </tr>\n",
              "    <tr>\n",
              "      <th>4</th>\n",
              "      <td>Волостуховакушулов</td>\n",
              "      <td>True</td>\n",
              "      <td>0</td>\n",
              "      <td>False</td>\n",
              "    </tr>\n",
              "    <tr>\n",
              "      <th>5</th>\n",
              "      <td>Ивастуй</td>\n",
              "      <td>False</td>\n",
              "      <td>0</td>\n",
              "      <td>False</td>\n",
              "    </tr>\n",
              "    <tr>\n",
              "      <th>6</th>\n",
              "      <td>Размонин</td>\n",
              "      <td>True</td>\n",
              "      <td>6</td>\n",
              "      <td>False</td>\n",
              "    </tr>\n",
              "    <tr>\n",
              "      <th>7</th>\n",
              "      <td>Селетов</td>\n",
              "      <td>True</td>\n",
              "      <td>8900</td>\n",
              "      <td>True</td>\n",
              "    </tr>\n",
              "    <tr>\n",
              "      <th>8</th>\n",
              "      <td>Родойньюв</td>\n",
              "      <td>False</td>\n",
              "      <td>0</td>\n",
              "      <td>False</td>\n",
              "    </tr>\n",
              "    <tr>\n",
              "      <th>9</th>\n",
              "      <td>Возбин</td>\n",
              "      <td>True</td>\n",
              "      <td>90</td>\n",
              "      <td>False</td>\n",
              "    </tr>\n",
              "    <tr>\n",
              "      <th>10</th>\n",
              "      <td>Цыпев</td>\n",
              "      <td>True</td>\n",
              "      <td>5</td>\n",
              "      <td>False</td>\n",
              "    </tr>\n",
              "    <tr>\n",
              "      <th>11</th>\n",
              "      <td>Нимцев</td>\n",
              "      <td>True</td>\n",
              "      <td>840</td>\n",
              "      <td>False</td>\n",
              "    </tr>\n",
              "    <tr>\n",
              "      <th>12</th>\n",
              "      <td>Вешенов</td>\n",
              "      <td>True</td>\n",
              "      <td>7</td>\n",
              "      <td>False</td>\n",
              "    </tr>\n",
              "    <tr>\n",
              "      <th>13</th>\n",
              "      <td>Саровников</td>\n",
              "      <td>True</td>\n",
              "      <td>61</td>\n",
              "      <td>False</td>\n",
              "    </tr>\n",
              "    <tr>\n",
              "      <th>14</th>\n",
              "      <td>Ершин</td>\n",
              "      <td>True</td>\n",
              "      <td>7820</td>\n",
              "      <td>True</td>\n",
              "    </tr>\n",
              "    <tr>\n",
              "      <th>15</th>\n",
              "      <td>Тарменкороров</td>\n",
              "      <td>True</td>\n",
              "      <td>0</td>\n",
              "      <td>False</td>\n",
              "    </tr>\n",
              "    <tr>\n",
              "      <th>16</th>\n",
              "      <td>Архов</td>\n",
              "      <td>True</td>\n",
              "      <td>19100</td>\n",
              "      <td>True</td>\n",
              "    </tr>\n",
              "    <tr>\n",
              "      <th>17</th>\n",
              "      <td>Папкин</td>\n",
              "      <td>True</td>\n",
              "      <td>68700</td>\n",
              "      <td>True</td>\n",
              "    </tr>\n",
              "    <tr>\n",
              "      <th>18</th>\n",
              "      <td>Ардреев</td>\n",
              "      <td>True</td>\n",
              "      <td>627</td>\n",
              "      <td>False</td>\n",
              "    </tr>\n",
              "    <tr>\n",
              "      <th>19</th>\n",
              "      <td>Сенин</td>\n",
              "      <td>True</td>\n",
              "      <td>0</td>\n",
              "      <td>False</td>\n",
              "    </tr>\n",
              "    <tr>\n",
              "      <th>20</th>\n",
              "      <td>Кепряснов</td>\n",
              "      <td>True</td>\n",
              "      <td>0</td>\n",
              "      <td>False</td>\n",
              "    </tr>\n",
              "    <tr>\n",
              "      <th>21</th>\n",
              "      <td>Васяленосов</td>\n",
              "      <td>True</td>\n",
              "      <td>0</td>\n",
              "      <td>False</td>\n",
              "    </tr>\n",
              "    <tr>\n",
              "      <th>22</th>\n",
              "      <td>Неумов</td>\n",
              "      <td>True</td>\n",
              "      <td>377</td>\n",
              "      <td>False</td>\n",
              "    </tr>\n",
              "    <tr>\n",
              "      <th>23</th>\n",
              "      <td>Егтеньков</td>\n",
              "      <td>True</td>\n",
              "      <td>0</td>\n",
              "      <td>False</td>\n",
              "    </tr>\n",
              "    <tr>\n",
              "      <th>24</th>\n",
              "      <td>Боладорозскин</td>\n",
              "      <td>True</td>\n",
              "      <td>0</td>\n",
              "      <td>False</td>\n",
              "    </tr>\n",
              "    <tr>\n",
              "      <th>25</th>\n",
              "      <td>Слуров</td>\n",
              "      <td>True</td>\n",
              "      <td>149</td>\n",
              "      <td>False</td>\n",
              "    </tr>\n",
              "    <tr>\n",
              "      <th>26</th>\n",
              "      <td>Клянцев</td>\n",
              "      <td>True</td>\n",
              "      <td>702</td>\n",
              "      <td>False</td>\n",
              "    </tr>\n",
              "    <tr>\n",
              "      <th>27</th>\n",
              "      <td>Свордериков</td>\n",
              "      <td>True</td>\n",
              "      <td>0</td>\n",
              "      <td>False</td>\n",
              "    </tr>\n",
              "    <tr>\n",
              "      <th>28</th>\n",
              "      <td>Порой</td>\n",
              "      <td>True</td>\n",
              "      <td>56900000</td>\n",
              "      <td>True</td>\n",
              "    </tr>\n",
              "    <tr>\n",
              "      <th>29</th>\n",
              "      <td>Кучыров</td>\n",
              "      <td>True</td>\n",
              "      <td>0</td>\n",
              "      <td>False</td>\n",
              "    </tr>\n",
              "    <tr>\n",
              "      <th>30</th>\n",
              "      <td>Игнаступов</td>\n",
              "      <td>True</td>\n",
              "      <td>0</td>\n",
              "      <td>False</td>\n",
              "    </tr>\n",
              "    <tr>\n",
              "      <th>31</th>\n",
              "      <td>Шарин</td>\n",
              "      <td>True</td>\n",
              "      <td>138000</td>\n",
              "      <td>True</td>\n",
              "    </tr>\n",
              "    <tr>\n",
              "      <th>32</th>\n",
              "      <td>Циелев</td>\n",
              "      <td>True</td>\n",
              "      <td>7</td>\n",
              "      <td>False</td>\n",
              "    </tr>\n",
              "    <tr>\n",
              "      <th>33</th>\n",
              "      <td>Сазчокопов</td>\n",
              "      <td>True</td>\n",
              "      <td>0</td>\n",
              "      <td>False</td>\n",
              "    </tr>\n",
              "    <tr>\n",
              "      <th>34</th>\n",
              "      <td>Шалув</td>\n",
              "      <td>False</td>\n",
              "      <td>0</td>\n",
              "      <td>False</td>\n",
              "    </tr>\n",
              "    <tr>\n",
              "      <th>35</th>\n",
              "      <td>Гаавов</td>\n",
              "      <td>True</td>\n",
              "      <td>10</td>\n",
              "      <td>False</td>\n",
              "    </tr>\n",
              "    <tr>\n",
              "      <th>36</th>\n",
              "      <td>Леонинчев</td>\n",
              "      <td>True</td>\n",
              "      <td>0</td>\n",
              "      <td>False</td>\n",
              "    </tr>\n",
              "    <tr>\n",
              "      <th>37</th>\n",
              "      <td>Хадин</td>\n",
              "      <td>True</td>\n",
              "      <td>6760</td>\n",
              "      <td>True</td>\n",
              "    </tr>\n",
              "    <tr>\n",
              "      <th>38</th>\n",
              "      <td>Белдов</td>\n",
              "      <td>True</td>\n",
              "      <td>800</td>\n",
              "      <td>False</td>\n",
              "    </tr>\n",
              "    <tr>\n",
              "      <th>39</th>\n",
              "      <td>Пелтикин</td>\n",
              "      <td>True</td>\n",
              "      <td>0</td>\n",
              "      <td>False</td>\n",
              "    </tr>\n",
              "    <tr>\n",
              "      <th>40</th>\n",
              "      <td>Демуков</td>\n",
              "      <td>True</td>\n",
              "      <td>627</td>\n",
              "      <td>False</td>\n",
              "    </tr>\n",
              "    <tr>\n",
              "      <th>41</th>\n",
              "      <td>Жиркинюв</td>\n",
              "      <td>False</td>\n",
              "      <td>0</td>\n",
              "      <td>False</td>\n",
              "    </tr>\n",
              "    <tr>\n",
              "      <th>42</th>\n",
              "      <td>Иванов</td>\n",
              "      <td>True</td>\n",
              "      <td>50600000</td>\n",
              "      <td>True</td>\n",
              "    </tr>\n",
              "    <tr>\n",
              "      <th>43</th>\n",
              "      <td>Оснеженко</td>\n",
              "      <td>True</td>\n",
              "      <td>0</td>\n",
              "      <td>False</td>\n",
              "    </tr>\n",
              "    <tr>\n",
              "      <th>44</th>\n",
              "      <td>Юрекотов</td>\n",
              "      <td>True</td>\n",
              "      <td>2</td>\n",
              "      <td>False</td>\n",
              "    </tr>\n",
              "    <tr>\n",
              "      <th>45</th>\n",
              "      <td>Жбутипа</td>\n",
              "      <td>False</td>\n",
              "      <td>0</td>\n",
              "      <td>False</td>\n",
              "    </tr>\n",
              "    <tr>\n",
              "      <th>46</th>\n",
              "      <td>Пусшесанивухов</td>\n",
              "      <td>True</td>\n",
              "      <td>0</td>\n",
              "      <td>False</td>\n",
              "    </tr>\n",
              "    <tr>\n",
              "      <th>47</th>\n",
              "      <td>Фбосурья</td>\n",
              "      <td>False</td>\n",
              "      <td>0</td>\n",
              "      <td>False</td>\n",
              "    </tr>\n",
              "    <tr>\n",
              "      <th>48</th>\n",
              "      <td>Киыт</td>\n",
              "      <td>False</td>\n",
              "      <td>217</td>\n",
              "      <td>False</td>\n",
              "    </tr>\n",
              "    <tr>\n",
              "      <th>49</th>\n",
              "      <td>Ахрабызин</td>\n",
              "      <td>True</td>\n",
              "      <td>0</td>\n",
              "      <td>False</td>\n",
              "    </tr>\n",
              "    <tr>\n",
              "      <th>50</th>\n",
              "      <td>Шрреницкий</td>\n",
              "      <td>True</td>\n",
              "      <td>0</td>\n",
              "      <td>False</td>\n",
              "    </tr>\n",
              "    <tr>\n",
              "      <th>51</th>\n",
              "      <td>Вишкин</td>\n",
              "      <td>True</td>\n",
              "      <td>6400</td>\n",
              "      <td>True</td>\n",
              "    </tr>\n",
              "    <tr>\n",
              "      <th>52</th>\n",
              "      <td>Олеев</td>\n",
              "      <td>True</td>\n",
              "      <td>9160</td>\n",
              "      <td>True</td>\n",
              "    </tr>\n",
              "    <tr>\n",
              "      <th>53</th>\n",
              "      <td>Ярологин</td>\n",
              "      <td>True</td>\n",
              "      <td>0</td>\n",
              "      <td>False</td>\n",
              "    </tr>\n",
              "    <tr>\n",
              "      <th>54</th>\n",
              "      <td>Халазок</td>\n",
              "      <td>False</td>\n",
              "      <td>0</td>\n",
              "      <td>False</td>\n",
              "    </tr>\n",
              "    <tr>\n",
              "      <th>55</th>\n",
              "      <td>Вонякин</td>\n",
              "      <td>True</td>\n",
              "      <td>175</td>\n",
              "      <td>False</td>\n",
              "    </tr>\n",
              "    <tr>\n",
              "      <th>56</th>\n",
              "      <td>Волов</td>\n",
              "      <td>True</td>\n",
              "      <td>1210000</td>\n",
              "      <td>True</td>\n",
              "    </tr>\n",
              "    <tr>\n",
              "      <th>57</th>\n",
              "      <td>Орогкин</td>\n",
              "      <td>True</td>\n",
              "      <td>1</td>\n",
              "      <td>False</td>\n",
              "    </tr>\n",
              "    <tr>\n",
              "      <th>58</th>\n",
              "      <td>Анеличев</td>\n",
              "      <td>True</td>\n",
              "      <td>0</td>\n",
              "      <td>False</td>\n",
              "    </tr>\n",
              "    <tr>\n",
              "      <th>59</th>\n",
              "      <td>Евоговеров</td>\n",
              "      <td>True</td>\n",
              "      <td>0</td>\n",
              "      <td>False</td>\n",
              "    </tr>\n",
              "    <tr>\n",
              "      <th>60</th>\n",
              "      <td>Копалов</td>\n",
              "      <td>True</td>\n",
              "      <td>26900</td>\n",
              "      <td>True</td>\n",
              "    </tr>\n",
              "    <tr>\n",
              "      <th>61</th>\n",
              "      <td>Рямаров</td>\n",
              "      <td>True</td>\n",
              "      <td>0</td>\n",
              "      <td>False</td>\n",
              "    </tr>\n",
              "    <tr>\n",
              "      <th>62</th>\n",
              "      <td>Азанненко</td>\n",
              "      <td>True</td>\n",
              "      <td>0</td>\n",
              "      <td>False</td>\n",
              "    </tr>\n",
              "    <tr>\n",
              "      <th>63</th>\n",
              "      <td>Пакуев</td>\n",
              "      <td>True</td>\n",
              "      <td>1500</td>\n",
              "      <td>True</td>\n",
              "    </tr>\n",
              "    <tr>\n",
              "      <th>64</th>\n",
              "      <td>Колин</td>\n",
              "      <td>True</td>\n",
              "      <td>4380000</td>\n",
              "      <td>True</td>\n",
              "    </tr>\n",
              "    <tr>\n",
              "      <th>65</th>\n",
              "      <td>Кохелов</td>\n",
              "      <td>True</td>\n",
              "      <td>106</td>\n",
              "      <td>False</td>\n",
              "    </tr>\n",
              "    <tr>\n",
              "      <th>66</th>\n",
              "      <td>Юфумьянибин</td>\n",
              "      <td>True</td>\n",
              "      <td>0</td>\n",
              "      <td>False</td>\n",
              "    </tr>\n",
              "    <tr>\n",
              "      <th>67</th>\n",
              "      <td>Сознипов</td>\n",
              "      <td>True</td>\n",
              "      <td>0</td>\n",
              "      <td>False</td>\n",
              "    </tr>\n",
              "    <tr>\n",
              "      <th>68</th>\n",
              "      <td>Амектик</td>\n",
              "      <td>False</td>\n",
              "      <td>0</td>\n",
              "      <td>False</td>\n",
              "    </tr>\n",
              "    <tr>\n",
              "      <th>69</th>\n",
              "      <td>Солков</td>\n",
              "      <td>True</td>\n",
              "      <td>2720</td>\n",
              "      <td>True</td>\n",
              "    </tr>\n",
              "    <tr>\n",
              "      <th>70</th>\n",
              "      <td>Иророрьринцев</td>\n",
              "      <td>True</td>\n",
              "      <td>0</td>\n",
              "      <td>False</td>\n",
              "    </tr>\n",
              "    <tr>\n",
              "      <th>71</th>\n",
              "      <td>Стев</td>\n",
              "      <td>True</td>\n",
              "      <td>66100</td>\n",
              "      <td>True</td>\n",
              "    </tr>\n",
              "    <tr>\n",
              "      <th>72</th>\n",
              "      <td>Сивкин</td>\n",
              "      <td>True</td>\n",
              "      <td>12400</td>\n",
              "      <td>True</td>\n",
              "    </tr>\n",
              "    <tr>\n",
              "      <th>73</th>\n",
              "      <td>Галаренко</td>\n",
              "      <td>True</td>\n",
              "      <td>5</td>\n",
              "      <td>False</td>\n",
              "    </tr>\n",
              "    <tr>\n",
              "      <th>74</th>\n",
              "      <td>Пекан</td>\n",
              "      <td>False</td>\n",
              "      <td>5310000</td>\n",
              "      <td>True</td>\n",
              "    </tr>\n",
              "    <tr>\n",
              "      <th>75</th>\n",
              "      <td>Жахин</td>\n",
              "      <td>True</td>\n",
              "      <td>144000</td>\n",
              "      <td>True</td>\n",
              "    </tr>\n",
              "    <tr>\n",
              "      <th>76</th>\n",
              "      <td>Заклутодоркев</td>\n",
              "      <td>True</td>\n",
              "      <td>0</td>\n",
              "      <td>False</td>\n",
              "    </tr>\n",
              "    <tr>\n",
              "      <th>77</th>\n",
              "      <td>Байарко</td>\n",
              "      <td>True</td>\n",
              "      <td>0</td>\n",
              "      <td>False</td>\n",
              "    </tr>\n",
              "    <tr>\n",
              "      <th>78</th>\n",
              "      <td>Дашищейкисов</td>\n",
              "      <td>True</td>\n",
              "      <td>1</td>\n",
              "      <td>False</td>\n",
              "    </tr>\n",
              "    <tr>\n",
              "      <th>79</th>\n",
              "      <td>Голроваройлаков</td>\n",
              "      <td>True</td>\n",
              "      <td>0</td>\n",
              "      <td>False</td>\n",
              "    </tr>\n",
              "    <tr>\n",
              "      <th>80</th>\n",
              "      <td>Волинскирарышевских</td>\n",
              "      <td>True</td>\n",
              "      <td>0</td>\n",
              "      <td>False</td>\n",
              "    </tr>\n",
              "    <tr>\n",
              "      <th>81</th>\n",
              "      <td>Степахонов</td>\n",
              "      <td>True</td>\n",
              "      <td>11900000</td>\n",
              "      <td>True</td>\n",
              "    </tr>\n",
              "    <tr>\n",
              "      <th>82</th>\n",
              "      <td>Алишгов</td>\n",
              "      <td>True</td>\n",
              "      <td>0</td>\n",
              "      <td>False</td>\n",
              "    </tr>\n",
              "    <tr>\n",
              "      <th>83</th>\n",
              "      <td>Рышный</td>\n",
              "      <td>True</td>\n",
              "      <td>2090</td>\n",
              "      <td>True</td>\n",
              "    </tr>\n",
              "    <tr>\n",
              "      <th>84</th>\n",
              "      <td>Косенов</td>\n",
              "      <td>True</td>\n",
              "      <td>210000</td>\n",
              "      <td>True</td>\n",
              "    </tr>\n",
              "    <tr>\n",
              "      <th>85</th>\n",
              "      <td>Холов</td>\n",
              "      <td>True</td>\n",
              "      <td>1200000</td>\n",
              "      <td>True</td>\n",
              "    </tr>\n",
              "    <tr>\n",
              "      <th>86</th>\n",
              "      <td>Канов</td>\n",
              "      <td>True</td>\n",
              "      <td>139000</td>\n",
              "      <td>True</td>\n",
              "    </tr>\n",
              "    <tr>\n",
              "      <th>87</th>\n",
              "      <td>Вамов</td>\n",
              "      <td>True</td>\n",
              "      <td>3510</td>\n",
              "      <td>True</td>\n",
              "    </tr>\n",
              "    <tr>\n",
              "      <th>88</th>\n",
              "      <td>Зобуровский</td>\n",
              "      <td>True</td>\n",
              "      <td>0</td>\n",
              "      <td>False</td>\n",
              "    </tr>\n",
              "    <tr>\n",
              "      <th>89</th>\n",
              "      <td>Павлуков</td>\n",
              "      <td>True</td>\n",
              "      <td>480</td>\n",
              "      <td>False</td>\n",
              "    </tr>\n",
              "    <tr>\n",
              "      <th>90</th>\n",
              "      <td>Шимо</td>\n",
              "      <td>True</td>\n",
              "      <td>3130000</td>\n",
              "      <td>True</td>\n",
              "    </tr>\n",
              "    <tr>\n",
              "      <th>91</th>\n",
              "      <td>Атыношич</td>\n",
              "      <td>True</td>\n",
              "      <td>0</td>\n",
              "      <td>False</td>\n",
              "    </tr>\n",
              "    <tr>\n",
              "      <th>92</th>\n",
              "      <td>Швбишенккий</td>\n",
              "      <td>True</td>\n",
              "      <td>0</td>\n",
              "      <td>False</td>\n",
              "    </tr>\n",
              "    <tr>\n",
              "      <th>93</th>\n",
              "      <td>Инькой</td>\n",
              "      <td>True</td>\n",
              "      <td>1060</td>\n",
              "      <td>True</td>\n",
              "    </tr>\n",
              "    <tr>\n",
              "      <th>94</th>\n",
              "      <td>Насонюхин</td>\n",
              "      <td>True</td>\n",
              "      <td>0</td>\n",
              "      <td>False</td>\n",
              "    </tr>\n",
              "    <tr>\n",
              "      <th>95</th>\n",
              "      <td>Агранель</td>\n",
              "      <td>False</td>\n",
              "      <td>42</td>\n",
              "      <td>False</td>\n",
              "    </tr>\n",
              "    <tr>\n",
              "      <th>96</th>\n",
              "      <td>Гребашев</td>\n",
              "      <td>True</td>\n",
              "      <td>8</td>\n",
              "      <td>False</td>\n",
              "    </tr>\n",
              "    <tr>\n",
              "      <th>97</th>\n",
              "      <td>Чалы</td>\n",
              "      <td>False</td>\n",
              "      <td>0</td>\n",
              "      <td>False</td>\n",
              "    </tr>\n",
              "    <tr>\n",
              "      <th>98</th>\n",
              "      <td>Сымьякник</td>\n",
              "      <td>False</td>\n",
              "      <td>0</td>\n",
              "      <td>False</td>\n",
              "    </tr>\n",
              "    <tr>\n",
              "      <th>99</th>\n",
              "      <td>Копачков</td>\n",
              "      <td>True</td>\n",
              "      <td>2770</td>\n",
              "      <td>True</td>\n",
              "    </tr>\n",
              "  </tbody>\n",
              "</table>\n",
              "</div>\n",
              "    <div class=\"colab-df-buttons\">\n",
              "\n",
              "  <div class=\"colab-df-container\">\n",
              "    <button class=\"colab-df-convert\" onclick=\"convertToInteractive('df-6558159a-8286-4d15-9cd7-eb2c7aa2e2ad')\"\n",
              "            title=\"Convert this dataframe to an interactive table.\"\n",
              "            style=\"display:none;\">\n",
              "\n",
              "  <svg xmlns=\"http://www.w3.org/2000/svg\" height=\"24px\" viewBox=\"0 -960 960 960\">\n",
              "    <path d=\"M120-120v-720h720v720H120Zm60-500h600v-160H180v160Zm220 220h160v-160H400v160Zm0 220h160v-160H400v160ZM180-400h160v-160H180v160Zm440 0h160v-160H620v160ZM180-180h160v-160H180v160Zm440 0h160v-160H620v160Z\"/>\n",
              "  </svg>\n",
              "    </button>\n",
              "\n",
              "  <style>\n",
              "    .colab-df-container {\n",
              "      display:flex;\n",
              "      gap: 12px;\n",
              "    }\n",
              "\n",
              "    .colab-df-convert {\n",
              "      background-color: #E8F0FE;\n",
              "      border: none;\n",
              "      border-radius: 50%;\n",
              "      cursor: pointer;\n",
              "      display: none;\n",
              "      fill: #1967D2;\n",
              "      height: 32px;\n",
              "      padding: 0 0 0 0;\n",
              "      width: 32px;\n",
              "    }\n",
              "\n",
              "    .colab-df-convert:hover {\n",
              "      background-color: #E2EBFA;\n",
              "      box-shadow: 0px 1px 2px rgba(60, 64, 67, 0.3), 0px 1px 3px 1px rgba(60, 64, 67, 0.15);\n",
              "      fill: #174EA6;\n",
              "    }\n",
              "\n",
              "    .colab-df-buttons div {\n",
              "      margin-bottom: 4px;\n",
              "    }\n",
              "\n",
              "    [theme=dark] .colab-df-convert {\n",
              "      background-color: #3B4455;\n",
              "      fill: #D2E3FC;\n",
              "    }\n",
              "\n",
              "    [theme=dark] .colab-df-convert:hover {\n",
              "      background-color: #434B5C;\n",
              "      box-shadow: 0px 1px 3px 1px rgba(0, 0, 0, 0.15);\n",
              "      filter: drop-shadow(0px 1px 2px rgba(0, 0, 0, 0.3));\n",
              "      fill: #FFFFFF;\n",
              "    }\n",
              "  </style>\n",
              "\n",
              "    <script>\n",
              "      const buttonEl =\n",
              "        document.querySelector('#df-6558159a-8286-4d15-9cd7-eb2c7aa2e2ad button.colab-df-convert');\n",
              "      buttonEl.style.display =\n",
              "        google.colab.kernel.accessAllowed ? 'block' : 'none';\n",
              "\n",
              "      async function convertToInteractive(key) {\n",
              "        const element = document.querySelector('#df-6558159a-8286-4d15-9cd7-eb2c7aa2e2ad');\n",
              "        const dataTable =\n",
              "          await google.colab.kernel.invokeFunction('convertToInteractive',\n",
              "                                                    [key], {});\n",
              "        if (!dataTable) return;\n",
              "\n",
              "        const docLinkHtml = 'Like what you see? Visit the ' +\n",
              "          '<a target=\"_blank\" href=https://colab.research.google.com/notebooks/data_table.ipynb>data table notebook</a>'\n",
              "          + ' to learn more about interactive tables.';\n",
              "        element.innerHTML = '';\n",
              "        dataTable['output_type'] = 'display_data';\n",
              "        await google.colab.output.renderOutput(dataTable, element);\n",
              "        const docLink = document.createElement('div');\n",
              "        docLink.innerHTML = docLinkHtml;\n",
              "        element.appendChild(docLink);\n",
              "      }\n",
              "    </script>\n",
              "  </div>\n",
              "\n",
              "\n",
              "<div id=\"df-064e4472-d44f-4480-8ada-2e8802ba8cd4\">\n",
              "  <button class=\"colab-df-quickchart\" onclick=\"quickchart('df-064e4472-d44f-4480-8ada-2e8802ba8cd4')\"\n",
              "            title=\"Suggest charts\"\n",
              "            style=\"display:none;\">\n",
              "\n",
              "<svg xmlns=\"http://www.w3.org/2000/svg\" height=\"24px\"viewBox=\"0 0 24 24\"\n",
              "     width=\"24px\">\n",
              "    <g>\n",
              "        <path d=\"M19 3H5c-1.1 0-2 .9-2 2v14c0 1.1.9 2 2 2h14c1.1 0 2-.9 2-2V5c0-1.1-.9-2-2-2zM9 17H7v-7h2v7zm4 0h-2V7h2v10zm4 0h-2v-4h2v4z\"/>\n",
              "    </g>\n",
              "</svg>\n",
              "  </button>\n",
              "\n",
              "<style>\n",
              "  .colab-df-quickchart {\n",
              "      --bg-color: #E8F0FE;\n",
              "      --fill-color: #1967D2;\n",
              "      --hover-bg-color: #E2EBFA;\n",
              "      --hover-fill-color: #174EA6;\n",
              "      --disabled-fill-color: #AAA;\n",
              "      --disabled-bg-color: #DDD;\n",
              "  }\n",
              "\n",
              "  [theme=dark] .colab-df-quickchart {\n",
              "      --bg-color: #3B4455;\n",
              "      --fill-color: #D2E3FC;\n",
              "      --hover-bg-color: #434B5C;\n",
              "      --hover-fill-color: #FFFFFF;\n",
              "      --disabled-bg-color: #3B4455;\n",
              "      --disabled-fill-color: #666;\n",
              "  }\n",
              "\n",
              "  .colab-df-quickchart {\n",
              "    background-color: var(--bg-color);\n",
              "    border: none;\n",
              "    border-radius: 50%;\n",
              "    cursor: pointer;\n",
              "    display: none;\n",
              "    fill: var(--fill-color);\n",
              "    height: 32px;\n",
              "    padding: 0;\n",
              "    width: 32px;\n",
              "  }\n",
              "\n",
              "  .colab-df-quickchart:hover {\n",
              "    background-color: var(--hover-bg-color);\n",
              "    box-shadow: 0 1px 2px rgba(60, 64, 67, 0.3), 0 1px 3px 1px rgba(60, 64, 67, 0.15);\n",
              "    fill: var(--button-hover-fill-color);\n",
              "  }\n",
              "\n",
              "  .colab-df-quickchart-complete:disabled,\n",
              "  .colab-df-quickchart-complete:disabled:hover {\n",
              "    background-color: var(--disabled-bg-color);\n",
              "    fill: var(--disabled-fill-color);\n",
              "    box-shadow: none;\n",
              "  }\n",
              "\n",
              "  .colab-df-spinner {\n",
              "    border: 2px solid var(--fill-color);\n",
              "    border-color: transparent;\n",
              "    border-bottom-color: var(--fill-color);\n",
              "    animation:\n",
              "      spin 1s steps(1) infinite;\n",
              "  }\n",
              "\n",
              "  @keyframes spin {\n",
              "    0% {\n",
              "      border-color: transparent;\n",
              "      border-bottom-color: var(--fill-color);\n",
              "      border-left-color: var(--fill-color);\n",
              "    }\n",
              "    20% {\n",
              "      border-color: transparent;\n",
              "      border-left-color: var(--fill-color);\n",
              "      border-top-color: var(--fill-color);\n",
              "    }\n",
              "    30% {\n",
              "      border-color: transparent;\n",
              "      border-left-color: var(--fill-color);\n",
              "      border-top-color: var(--fill-color);\n",
              "      border-right-color: var(--fill-color);\n",
              "    }\n",
              "    40% {\n",
              "      border-color: transparent;\n",
              "      border-right-color: var(--fill-color);\n",
              "      border-top-color: var(--fill-color);\n",
              "    }\n",
              "    60% {\n",
              "      border-color: transparent;\n",
              "      border-right-color: var(--fill-color);\n",
              "    }\n",
              "    80% {\n",
              "      border-color: transparent;\n",
              "      border-right-color: var(--fill-color);\n",
              "      border-bottom-color: var(--fill-color);\n",
              "    }\n",
              "    90% {\n",
              "      border-color: transparent;\n",
              "      border-bottom-color: var(--fill-color);\n",
              "    }\n",
              "  }\n",
              "</style>\n",
              "\n",
              "  <script>\n",
              "    async function quickchart(key) {\n",
              "      const quickchartButtonEl =\n",
              "        document.querySelector('#' + key + ' button');\n",
              "      quickchartButtonEl.disabled = true;  // To prevent multiple clicks.\n",
              "      quickchartButtonEl.classList.add('colab-df-spinner');\n",
              "      try {\n",
              "        const charts = await google.colab.kernel.invokeFunction(\n",
              "            'suggestCharts', [key], {});\n",
              "      } catch (error) {\n",
              "        console.error('Error during call to suggestCharts:', error);\n",
              "      }\n",
              "      quickchartButtonEl.classList.remove('colab-df-spinner');\n",
              "      quickchartButtonEl.classList.add('colab-df-quickchart-complete');\n",
              "    }\n",
              "    (() => {\n",
              "      let quickchartButtonEl =\n",
              "        document.querySelector('#df-064e4472-d44f-4480-8ada-2e8802ba8cd4 button');\n",
              "      quickchartButtonEl.style.display =\n",
              "        google.colab.kernel.accessAllowed ? 'block' : 'none';\n",
              "    })();\n",
              "  </script>\n",
              "</div>\n",
              "    </div>\n",
              "  </div>\n"
            ],
            "application/vnd.google.colaboratory.intrinsic+json": {
              "type": "dataframe",
              "variable_name": "df",
              "summary": "{\n  \"name\": \"df\",\n  \"rows\": 100,\n  \"fields\": [\n    {\n      \"column\": \"predicted last names\",\n      \"properties\": {\n        \"dtype\": \"string\",\n        \"num_unique_values\": 100,\n        \"samples\": [\n          \"\\u0420\\u044b\\u0448\\u043d\\u044b\\u0439\",\n          \"\\u042f\\u0440\\u043e\\u043b\\u043e\\u0433\\u0438\\u043d\",\n          \"\\u0418\\u0440\\u043e\\u0440\\u043e\\u0440\\u044c\\u0440\\u0438\\u043d\\u0446\\u0435\\u0432\"\n        ],\n        \"semantic_type\": \"\",\n        \"description\": \"\"\n      }\n    },\n    {\n      \"column\": \"has_suffix\",\n      \"properties\": {\n        \"dtype\": \"boolean\",\n        \"num_unique_values\": 2,\n        \"samples\": [\n          false,\n          true\n        ],\n        \"semantic_type\": \"\",\n        \"description\": \"\"\n      }\n    },\n    {\n      \"column\": \"google_search_results\",\n      \"properties\": {\n        \"dtype\": \"number\",\n        \"std\": 8166545,\n        \"min\": 0,\n        \"max\": 56900000,\n        \"num_unique_values\": 52,\n        \"samples\": [\n          138000,\n          2090\n        ],\n        \"semantic_type\": \"\",\n        \"description\": \"\"\n      }\n    },\n    {\n      \"column\": \"searches_exceed_1000\",\n      \"properties\": {\n        \"dtype\": \"boolean\",\n        \"num_unique_values\": 2,\n        \"samples\": [\n          true,\n          false\n        ],\n        \"semantic_type\": \"\",\n        \"description\": \"\"\n      }\n    }\n  ]\n}"
            }
          },
          "metadata": {},
          "execution_count": 108
        }
      ]
    },
    {
      "cell_type": "code",
      "source": [
        "#proportion of last names for which the number of Google search results exceeds or equals 1000\n",
        "df[\"searches_exceed_1000\"].sum()/len(df)\n"
      ],
      "metadata": {
        "colab": {
          "base_uri": "https://localhost:8080/"
        },
        "id": "d8PegPHW-2iN",
        "outputId": "9eb049da-922c-430b-cbbd-0fceb4b9f6ab"
      },
      "execution_count": 109,
      "outputs": [
        {
          "output_type": "execute_result",
          "data": {
            "text/plain": [
              "0.31"
            ]
          },
          "metadata": {},
          "execution_count": 109
        }
      ]
    }
  ]
}